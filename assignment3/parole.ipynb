{
 "cells": [
  {
   "cell_type": "code",
   "execution_count": 2,
   "metadata": {
    "collapsed": true
   },
   "outputs": [],
   "source": [
    "import os\n",
    "import pandas as pd\n",
    "import patsy\n",
    "import numpy as np"
   ]
  },
  {
   "cell_type": "code",
   "execution_count": 3,
   "metadata": {},
   "outputs": [],
   "source": [
    "if not os.getcwd().endswith('assignment3'):\n",
    "    os.chdir(os.path.join('assignment3'))\n",
    "# read the file\n",
    "parole = pd.read_csv('parole.csv')\n",
    "\n",
    "# rename problematic coulmns\n",
    "parole = parole.rename(columns={'time.served': 'timeServed', \n",
    "                                'max.sentence': 'maxSentence', \n",
    "                                'multiple.offenses': 'multipleOffenses'})"
   ]
  },
  {
   "cell_type": "markdown",
   "metadata": {},
   "source": [
    "### Problem 1.1 - number of observations"
   ]
  },
  {
   "cell_type": "code",
   "execution_count": 4,
   "metadata": {},
   "outputs": [
    {
     "data": {
      "text/plain": [
       "675"
      ]
     },
     "execution_count": 4,
     "metadata": {},
     "output_type": "execute_result"
    }
   ],
   "source": [
    "len(parole.index)"
   ]
  },
  {
   "cell_type": "markdown",
   "metadata": {},
   "source": [
    "### Problem 1.1 - number of voilations"
   ]
  },
  {
   "cell_type": "code",
   "execution_count": 5,
   "metadata": {},
   "outputs": [
    {
     "data": {
      "text/plain": [
       "78"
      ]
     },
     "execution_count": 5,
     "metadata": {},
     "output_type": "execute_result"
    }
   ],
   "source": [
    "(parole['violator'] == 1).sum()"
   ]
  },
  {
   "cell_type": "markdown",
   "metadata": {},
   "source": [
    "### Problem 2.1 - convert to categorical\n",
    "\n",
    "I couldn't find any python parallel to R's .asfactor\n",
    "Instead, we'll use the patsy.dmatrices"
   ]
  },
  {
   "cell_type": "markdown",
   "metadata": {},
   "source": [
    "### Problem 3.1 - Splitting into a Training and Testing Set"
   ]
  },
  {
   "cell_type": "code",
   "execution_count": 7,
   "metadata": {},
   "outputs": [],
   "source": [
    "# scikit-learn used the numpy random number generator (?) \n",
    "np.random.seed(7)\n",
    "from sklearn.model_selection import train_test_split\n",
    "parole_train, parole_test = train_test_split(parole, test_size=0.3)"
   ]
  },
  {
   "cell_type": "code",
   "execution_count": 8,
   "metadata": {},
   "outputs": [
    {
     "name": "stdout",
     "output_type": "stream",
     "text": [
      "<class 'pandas.core.frame.DataFrame'>\nInt64Index: 472 entries, 82 to 175\nData columns (total 9 columns):\nmale                472 non-null int64\nrace                472 non-null int64\nage                 472 non-null float64\nstate               472 non-null int64\ntimeServed          472 non-null float64\nmaxSentence         472 non-null int64\nmultipleOffenses    472 non-null int64\ncrime               472 non-null int64\nviolator            472 non-null int64\ndtypes: float64(2), int64(7)\nmemory usage: 36.9 KB\n"
     ]
    }
   ],
   "source": [
    "parole_train.info()"
   ]
  },
  {
   "cell_type": "markdown",
   "metadata": {},
   "source": [
    "### Problem 4.1 - Building a Logistic Regression Model"
   ]
  },
  {
   "cell_type": "code",
   "execution_count": 10,
   "metadata": {},
   "outputs": [],
   "source": [
    "from statsmodels.discrete.discrete_model import Logit"
   ]
  },
  {
   "cell_type": "code",
   "execution_count": 189,
   "metadata": {
    "collapsed": false
   },
   "outputs": [
    {
     "name": "stdout",
     "output_type": "stream",
     "text": [
      "Optimization terminated successfully.\n         Current function value: 0.246405\n         Iterations 8\n"
     ]
    },
    {
     "data": {
      "text/html": [
       "<table class=\"simpletable\">\n",
       "<tr>\n",
       "        <td>Model:</td>              <td>Logit</td>      <td>Pseudo R-squared:</td>    <td>0.315</td>  \n",
       "</tr>\n",
       "<tr>\n",
       "  <td>Dependent Variable:</td>     <td>violator</td>           <td>AIC:</td>         <td>258.6063</td> \n",
       "</tr>\n",
       "<tr>\n",
       "         <td>Date:</td>        <td>2017-03-26 00:40</td>       <td>BIC:</td>         <td>312.6470</td> \n",
       "</tr>\n",
       "<tr>\n",
       "   <td>No. Observations:</td>         <td>472</td>        <td>Log-Likelihood:</td>    <td>-116.30</td> \n",
       "</tr>\n",
       "<tr>\n",
       "       <td>Df Model:</td>             <td>12</td>            <td>LL-Null:</td>        <td>-169.89</td> \n",
       "</tr>\n",
       "<tr>\n",
       "     <td>Df Residuals:</td>           <td>459</td>         <td>LLR p-value:</td>    <td>2.1568e-17</td>\n",
       "</tr>\n",
       "<tr>\n",
       "      <td>Converged:</td>           <td>1.0000</td>           <td>Scale:</td>         <td>1.0000</td>  \n",
       "</tr>\n",
       "<tr>\n",
       "    <td>No. Iterations:</td>        <td>8.0000</td>              <td></td>               <td></td>     \n",
       "</tr>\n",
       "</table>\n",
       "<table class=\"simpletable\">\n",
       "<tr>\n",
       "          <td></td>          <th>Coef.</th>  <th>Std.Err.</th>    <th>z</th>     <th>P>|z|</th> <th>[0.025</th>  <th>0.975]</th> \n",
       "</tr>\n",
       "<tr>\n",
       "  <th>Intercept</th>        <td>-5.1002</td>  <td>1.3713</td>  <td>-3.7191</td> <td>0.0002</td> <td>-7.7879</td> <td>-2.4124</td>\n",
       "</tr>\n",
       "<tr>\n",
       "  <th>C(state)[T.2]</th>    <td>0.2289</td>   <td>0.5125</td>  <td>0.4465</td>  <td>0.6552</td> <td>-0.7757</td> <td>1.2334</td> \n",
       "</tr>\n",
       "<tr>\n",
       "  <th>C(state)[T.3]</th>    <td>1.2172</td>   <td>0.5506</td>  <td>2.2106</td>  <td>0.0271</td> <td>0.1380</td>  <td>2.2965</td> \n",
       "</tr>\n",
       "<tr>\n",
       "  <th>C(state)[T.4]</th>    <td>-3.2544</td>  <td>0.6330</td>  <td>-5.1414</td> <td>0.0000</td> <td>-4.4950</td> <td>-2.0138</td>\n",
       "</tr>\n",
       "<tr>\n",
       "  <th>C(crime)[T.2]</th>    <td>0.4879</td>   <td>0.5332</td>  <td>0.9150</td>  <td>0.3602</td> <td>-0.5572</td> <td>1.5330</td> \n",
       "</tr>\n",
       "<tr>\n",
       "  <th>C(crime)[T.3]</th>    <td>-0.1386</td>  <td>0.4321</td>  <td>-0.3207</td> <td>0.7485</td> <td>-0.9855</td> <td>0.7084</td> \n",
       "</tr>\n",
       "<tr>\n",
       "  <th>C(crime)[T.4]</th>    <td>-0.6568</td>  <td>0.6431</td>  <td>-1.0212</td> <td>0.3072</td> <td>-1.9173</td> <td>0.6037</td> \n",
       "</tr>\n",
       "<tr>\n",
       "  <th>male</th>             <td>0.7200</td>   <td>0.4980</td>  <td>1.4457</td>  <td>0.1483</td> <td>-0.2561</td> <td>1.6961</td> \n",
       "</tr>\n",
       "<tr>\n",
       "  <th>race</th>             <td>0.4665</td>   <td>0.3949</td>  <td>1.1813</td>  <td>0.2375</td> <td>-0.3075</td> <td>1.2405</td> \n",
       "</tr>\n",
       "<tr>\n",
       "  <th>age</th>              <td>0.0220</td>   <td>0.0172</td>  <td>1.2788</td>  <td>0.2010</td> <td>-0.0117</td> <td>0.0558</td> \n",
       "</tr>\n",
       "<tr>\n",
       "  <th>timeServed</th>       <td>-0.0935</td>  <td>0.1257</td>  <td>-0.7442</td> <td>0.4568</td> <td>-0.3398</td> <td>0.1528</td> \n",
       "</tr>\n",
       "<tr>\n",
       "  <th>maxSentence</th>      <td>0.0774</td>   <td>0.0573</td>  <td>1.3497</td>  <td>0.1771</td> <td>-0.0350</td> <td>0.1898</td> \n",
       "</tr>\n",
       "<tr>\n",
       "  <th>multipleOffenses</th> <td>1.9858</td>   <td>0.4087</td>  <td>4.8591</td>  <td>0.0000</td> <td>1.1848</td>  <td>2.7868</td> \n",
       "</tr>\n",
       "</table>"
      ],
      "text/plain": [
       "<table class=\"simpletable\">\n",
       "<tr>\n",
       "        <td>Model:</td>              <td>Logit</td>      <td>Pseudo R-squared:</td>    <td>0.315</td>  \n",
       "</tr>\n",
       "<tr>\n",
       "  <td>Dependent Variable:</td>     <td>violator</td>           <td>AIC:</td>         <td>258.6063</td> \n",
       "</tr>\n",
       "<tr>\n",
       "         <td>Date:</td>        <td>2017-03-26 00:40</td>       <td>BIC:</td>         <td>312.6470</td> \n",
       "</tr>\n",
       "<tr>\n",
       "   <td>No. Observations:</td>         <td>472</td>        <td>Log-Likelihood:</td>    <td>-116.30</td> \n",
       "</tr>\n",
       "<tr>\n",
       "       <td>Df Model:</td>             <td>12</td>            <td>LL-Null:</td>        <td>-169.89</td> \n",
       "</tr>\n",
       "<tr>\n",
       "     <td>Df Residuals:</td>           <td>459</td>         <td>LLR p-value:</td>    <td>2.1568e-17</td>\n",
       "</tr>\n",
       "<tr>\n",
       "      <td>Converged:</td>           <td>1.0000</td>           <td>Scale:</td>         <td>1.0000</td>  \n",
       "</tr>\n",
       "<tr>\n",
       "    <td>No. Iterations:</td>        <td>8.0000</td>              <td></td>               <td></td>     \n",
       "</tr>\n",
       "</table>\n",
       "<table class=\"simpletable\">\n",
       "<tr>\n",
       "          <td></td>          <th>Coef.</th>  <th>Std.Err.</th>    <th>z</th>     <th>P>|z|</th> <th>[0.025</th>  <th>0.975]</th> \n",
       "</tr>\n",
       "<tr>\n",
       "  <th>Intercept</th>        <td>-5.1002</td>  <td>1.3713</td>  <td>-3.7191</td> <td>0.0002</td> <td>-7.7879</td> <td>-2.4124</td>\n",
       "</tr>\n",
       "<tr>\n",
       "  <th>C(state)[T.2]</th>    <td>0.2289</td>   <td>0.5125</td>  <td>0.4465</td>  <td>0.6552</td> <td>-0.7757</td> <td>1.2334</td> \n",
       "</tr>\n",
       "<tr>\n",
       "  <th>C(state)[T.3]</th>    <td>1.2172</td>   <td>0.5506</td>  <td>2.2106</td>  <td>0.0271</td> <td>0.1380</td>  <td>2.2965</td> \n",
       "</tr>\n",
       "<tr>\n",
       "  <th>C(state)[T.4]</th>    <td>-3.2544</td>  <td>0.6330</td>  <td>-5.1414</td> <td>0.0000</td> <td>-4.4950</td> <td>-2.0138</td>\n",
       "</tr>\n",
       "<tr>\n",
       "  <th>C(crime)[T.2]</th>    <td>0.4879</td>   <td>0.5332</td>  <td>0.9150</td>  <td>0.3602</td> <td>-0.5572</td> <td>1.5330</td> \n",
       "</tr>\n",
       "<tr>\n",
       "  <th>C(crime)[T.3]</th>    <td>-0.1386</td>  <td>0.4321</td>  <td>-0.3207</td> <td>0.7485</td> <td>-0.9855</td> <td>0.7084</td> \n",
       "</tr>\n",
       "<tr>\n",
       "  <th>C(crime)[T.4]</th>    <td>-0.6568</td>  <td>0.6431</td>  <td>-1.0212</td> <td>0.3072</td> <td>-1.9173</td> <td>0.6037</td> \n",
       "</tr>\n",
       "<tr>\n",
       "  <th>male</th>             <td>0.7200</td>   <td>0.4980</td>  <td>1.4457</td>  <td>0.1483</td> <td>-0.2561</td> <td>1.6961</td> \n",
       "</tr>\n",
       "<tr>\n",
       "  <th>race</th>             <td>0.4665</td>   <td>0.3949</td>  <td>1.1813</td>  <td>0.2375</td> <td>-0.3075</td> <td>1.2405</td> \n",
       "</tr>\n",
       "<tr>\n",
       "  <th>age</th>              <td>0.0220</td>   <td>0.0172</td>  <td>1.2788</td>  <td>0.2010</td> <td>-0.0117</td> <td>0.0558</td> \n",
       "</tr>\n",
       "<tr>\n",
       "  <th>timeServed</th>       <td>-0.0935</td>  <td>0.1257</td>  <td>-0.7442</td> <td>0.4568</td> <td>-0.3398</td> <td>0.1528</td> \n",
       "</tr>\n",
       "<tr>\n",
       "  <th>maxSentence</th>      <td>0.0774</td>   <td>0.0573</td>  <td>1.3497</td>  <td>0.1771</td> <td>-0.0350</td> <td>0.1898</td> \n",
       "</tr>\n",
       "<tr>\n",
       "  <th>multipleOffenses</th> <td>1.9858</td>   <td>0.4087</td>  <td>4.8591</td>  <td>0.0000</td> <td>1.1848</td>  <td>2.7868</td> \n",
       "</tr>\n",
       "</table>"
      ]
     },
     "execution_count": 189,
     "metadata": {},
     "output_type": "execute_result"
    }
   ],
   "source": [
    "# we will use pats to generate the matrices,\n",
    "# the C() operator means - treat as categorical \n",
    "\n",
    "y, X = patsy.dmatrices('violator ~ male + race + age + C(state) + '\n",
    "                       'timeServed + maxSentence + multipleOffenses + '\n",
    "                       'C(crime)', parole_train, return_type='dataframe')\n",
    "mod1 = Logit(y, X).fit()\n",
    "mod1.summary2()"
   ]
  },
  {
   "cell_type": "markdown",
   "metadata": {},
   "source": [
    "The important variables (probability less then 0.05) are \"race\", \"state4\" and \"multipleOffenses\""
   ]
  },
  {
   "cell_type": "markdown",
   "metadata": {},
   "source": [
    "### problem 4.2\n",
    "What can we say based on the coefficient of the multiple.offenses variable? answer: Our model predicts that a parolee who committed multiple offenses has X times higher odds of being a violator than a parolee who did not commit multiple offenses but is otherwise identical"
   ]
  },
  {
   "cell_type": "markdown",
   "metadata": {},
   "source": [
    "About the answer:\n",
    "$$yes/no = exp(\\beta_0+\\beta_1x)$$ is the odds ratio of a parolee to violate the parole (yes) vs not violating the parole (no). If the coefficient for multipleOffenses is $C_{mOf}$ than he has chances greater by $exp(C_{mOf})$ of violating the parole."
   ]
  },
  {
   "cell_type": "code",
   "execution_count": 190,
   "metadata": {},
   "outputs": [
    {
     "data": {
      "text/plain": [
       "7.284746722326692"
      ]
     },
     "execution_count": 190,
     "metadata": {},
     "output_type": "execute_result"
    }
   ],
   "source": [
    "mOf = mod1.params['multipleOffenses']\n",
    "np.exp(mOf)"
   ]
  },
  {
   "cell_type": "markdown",
   "metadata": {},
   "source": [
    "### Problem 4.3 - Building a Logistic Regression Model\n",
    "Consider a parolee who is male, of white race, aged 50 years at prison release, from the state of Maryland, served 3 months, had a maximum sentence of 12 months, did not commit multiple offenses, and committed a larceny."
   ]
  },
  {
   "cell_type": "markdown",
   "metadata": {},
   "source": [
    "Answer: this is an easy question. As a reminder, the probability of violating the parole is: $$ P(Y=1) = \\frac{1}{1+exp(-1*( ... ))}$$"
   ]
  },
  {
   "cell_type": "markdown",
   "metadata": {},
   "source": [
    "### Problem 5.1 - Evaluating the Model on the Testing Set\n",
    "Predict probabilities for parolees in the testing set. What is the maximal?"
   ]
  },
  {
   "cell_type": "code",
   "execution_count": 191,
   "metadata": {},
   "outputs": [
    {
     "data": {
      "text/plain": [
       "0.87611561665337234"
      ]
     },
     "execution_count": 191,
     "metadata": {},
     "output_type": "execute_result"
    }
   ],
   "source": [
    "y_test, X_test = patsy.dmatrices('violator ~ male + race + age + C(state) + '\n",
    "                       'timeServed + maxSentence + multipleOffenses + '\n",
    "                       'C(crime)', parole_test, return_type='dataframe')\n",
    "precitions_mod1 = mod1.predict(exog=X_test)\n",
    "precitions_mod1.max()"
   ]
  },
  {
   "cell_type": "markdown",
   "metadata": {},
   "source": [
    "### Problem 5.2 - Evaluating the Model on the Testing Set\n",
    "evaluate the model's predictions on the test set using a threshold of 0.5. What is the model's sensitivity? specificity? accuracy?"
   ]
  },
  {
   "cell_type": "markdown",
   "metadata": {},
   "source": [
    "Let's generate the confusion table:"
   ]
  },
  {
   "cell_type": "code",
   "execution_count": 192,
   "metadata": {
    "collapsed": false
   },
   "outputs": [
    {
     "data": {
      "text/plain": [
       "array([[169,  11],\n       [ 15,   8]])"
      ]
     },
     "execution_count": 192,
     "metadata": {},
     "output_type": "execute_result"
    }
   ],
   "source": [
    "from sklearn.metrics import confusion_matrix\n",
    "\n",
    "thresh = 0.5\n",
    "con_matx = confusion_matrix(parole_test['violator'].values, precitions_mod1 > thresh)\n",
    "con_matx"
   ]
  },
  {
   "cell_type": "code",
   "execution_count": 193,
   "metadata": {},
   "outputs": [],
   "source": [
    "TP = con_matx[0, 1]\n",
    "TN = con_matx[0, 0]\n",
    "FP = con_matx[1, 1]\n",
    "FN = con_matx[1, 0]"
   ]
  },
  {
   "cell_type": "code",
   "execution_count": 194,
   "metadata": {},
   "outputs": [
    {
     "data": {
      "text/plain": [
       "0.42307692307692307"
      ]
     },
     "execution_count": 194,
     "metadata": {},
     "output_type": "execute_result"
    }
   ],
   "source": [
    "# sensitivity\n",
    "(TP) / (TP + FN)"
   ]
  },
  {
   "cell_type": "code",
   "execution_count": 195,
   "metadata": {},
   "outputs": [
    {
     "data": {
      "text/plain": [
       "0.95480225988700562"
      ]
     },
     "execution_count": 195,
     "metadata": {},
     "output_type": "execute_result"
    }
   ],
   "source": [
    "# specificity\n",
    "TN / (TN + FP)"
   ]
  },
  {
   "cell_type": "code",
   "execution_count": 196,
   "metadata": {},
   "outputs": [
    {
     "data": {
      "text/plain": [
       "0.88669950738916259"
      ]
     },
     "execution_count": 196,
     "metadata": {},
     "output_type": "execute_result"
    }
   ],
   "source": [
    "# accuracy\n",
    "(TP + TN) / len(precitions_mod1.index)"
   ]
  },
  {
   "cell_type": "markdown",
   "metadata": {},
   "source": [
    "### Problem 5.3 - What is the accuracy of a simple model that predicts that every parolee is a non-violator?"
   ]
  },
  {
   "cell_type": "code",
   "execution_count": 197,
   "metadata": {},
   "outputs": [
    {
     "data": {
      "text/plain": [
       "0.88669950738916259"
      ]
     },
     "execution_count": 197,
     "metadata": {},
     "output_type": "execute_result"
    }
   ],
   "source": [
    "# In that case:\n",
    "# BTW we choose > 1 because it is impossible for probability to be greater than 1 \n",
    "con_matx = confusion_matrix(parole_test['violator'].values, precitions_mod1 > 1)\n",
    "\n",
    "TP = con_matx[0, 1]\n",
    "TN = con_matx[0, 0]\n",
    "FP = con_matx[1, 1]\n",
    "FN = con_matx[1, 0]\n",
    "\n",
    "# the accuracy:\n",
    "(TP + TN) / len(precitions_mod1.index)"
   ]
  },
  {
   "cell_type": "markdown",
   "metadata": {},
   "source": [
    "Comment: this probably could have been done more efficiently"
   ]
  },
  {
   "cell_type": "markdown",
   "metadata": {},
   "source": [
    "### Problem 5.6 - what is the AUC value for the model?"
   ]
  },
  {
   "cell_type": "code",
   "execution_count": 198,
   "metadata": {},
   "outputs": [
    {
     "data": {
      "text/plain": [
       "0.64335748792270531"
      ]
     },
     "execution_count": 198,
     "metadata": {},
     "output_type": "execute_result"
    }
   ],
   "source": [
    "from sklearn.metrics import roc_auc_score as auc\n",
    "auc(y_true=parole_test['violator'].values, y_score=precitions_mod1)"
   ]
  },
  {
   "cell_type": "code",
   "execution_count": null,
   "metadata": {},
   "outputs": [],
   "source": [
    ""
   ]
  }
 ],
 "metadata": {
  "kernelspec": {
   "display_name": "Python 2",
   "language": "python",
   "name": "python2"
  },
  "language_info": {
   "codemirror_mode": {
    "name": "ipython",
    "version": 2.0
   },
   "file_extension": ".py",
   "mimetype": "text/x-python",
   "name": "python",
   "nbconvert_exporter": "python",
   "pygments_lexer": "ipython2",
   "version": "2.7.6"
  }
 },
 "nbformat": 4,
 "nbformat_minor": 0
}