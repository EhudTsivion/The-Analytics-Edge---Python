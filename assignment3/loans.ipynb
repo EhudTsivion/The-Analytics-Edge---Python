{
 "cells": [
  {
   "cell_type": "code",
   "execution_count": 4,
   "metadata": {
    "collapsed": true
   },
   "outputs": [],
   "source": [
    "import os\n",
    "import pandas as pd\n",
    "import patsy\n",
    "import numpy as np"
   ]
  },
  {
   "cell_type": "code",
   "execution_count": 5,
   "metadata": {},
   "outputs": [
    {
     "name": "stdout",
     "output_type": "stream",
     "text": [
      "<class 'pandas.core.frame.DataFrame'>\nRangeIndex: 9578 entries, 0 to 9577\nData columns (total 14 columns):\ncreditPolicy      9578 non-null int64\npurpose           9578 non-null object\nintRate           9578 non-null float64\ninstallment       9578 non-null float64\nlogAnnualInc      9574 non-null float64\ndti               9578 non-null float64\nfico              9578 non-null int64\ndaysWithCrLine    9549 non-null float64\nrevolBal          9578 non-null int64\nrevolUtil         9516 non-null float64\ninqLast6mths      9549 non-null float64\ndelinq2yrs        9549 non-null float64\npubRec            9549 non-null float64\nnotFullyPaid      9578 non-null int64\ndtypes: float64(9), int64(4), object(1)\nmemory usage: 1.0+ MB\n"
     ]
    }
   ],
   "source": [
    "if not os.getcwd().endswith('assignment3'):\n",
    "    os.chdir(os.path.join('assignment3'))\n",
    "# read the file\n",
    "loans = pd.read_csv('loans.csv')\n",
    "\n",
    "# rename problematic coulmns\n",
    "loans = loans.rename(columns={'credit.policy': 'creditPolicy',\n",
    "                              'int.rate': 'intRate',\n",
    "                              'log.annual.inc': 'logAnnualInc',\n",
    "                              'days.with.cr.line': 'daysWithCrLine',\n",
    "                              'revol.bal': 'revolBal',\n",
    "                              'revol.util': 'revolUtil',\n",
    "                              'inq.last.6mths': 'inqLast6mths',\n",
    "                              'delinq.2yrs': 'delinq2yrs',\n",
    "                              'pub.rec': 'pubRec',\n",
    "                              'not.fully.paid': 'notFullyPaid'})\n",
    "loans.info()"
   ]
  },
  {
   "cell_type": "markdown",
   "metadata": {},
   "source": [
    "### Problem 1.1 - What proportion of the loans in the dataset were not paid in full? "
   ]
  },
  {
   "cell_type": "code",
   "execution_count": 6,
   "metadata": {},
   "outputs": [
    {
     "data": {
      "text/plain": [
       "0.16005429108373356"
      ]
     },
     "execution_count": 6,
     "metadata": {},
     "output_type": "execute_result"
    }
   ],
   "source": [
    "paid = (loans['notFullyPaid'] == 1).sum()\n",
    "total = loans['notFullyPaid'].count()\n",
    "paid/total"
   ]
  },
  {
   "cell_type": "markdown",
   "metadata": {},
   "source": [
    "Althernativley - and more simple"
   ]
  },
  {
   "cell_type": "code",
   "execution_count": 7,
   "metadata": {},
   "outputs": [
    {
     "data": {
      "text/plain": [
       "0.16005429108373356"
      ]
     },
     "execution_count": 7,
     "metadata": {},
     "output_type": "execute_result"
    }
   ],
   "source": [
    "loans['notFullyPaid'].mean()"
   ]
  },
  {
   "cell_type": "markdown",
   "metadata": {},
   "source": [
    "### Problem 1.2 - find the variables with missing data"
   ]
  },
  {
   "cell_type": "code",
   "execution_count": 8,
   "metadata": {
    "collapsed": false
   },
   "outputs": [
    {
     "data": {
      "text/plain": [
       "creditPolicy       0\npurpose            0\nintRate            0\ninstallment        0\nlogAnnualInc       4\ndti                0\nfico               0\ndaysWithCrLine    29\nrevolBal           0\nrevolUtil         62\ninqLast6mths      29\ndelinq2yrs        29\npubRec            29\nnotFullyPaid       0\ndtype: int64"
      ]
     },
     "execution_count": 8,
     "metadata": {},
     "output_type": "execute_result"
    }
   ],
   "source": [
    "loans.isnull().sum()"
   ]
  },
  {
   "cell_type": "markdown",
   "metadata": {},
   "source": [
    "### Problem 1.4 - Prepare data\n",
    "In this case, read pre-imputed data"
   ]
  },
  {
   "cell_type": "code",
   "execution_count": 9,
   "metadata": {},
   "outputs": [
    {
     "name": "stdout",
     "output_type": "stream",
     "text": [
      "<class 'pandas.core.frame.DataFrame'>\nRangeIndex: 9578 entries, 0 to 9577\nData columns (total 14 columns):\ncreditPolicy      9578 non-null int64\npurpose           9578 non-null object\nintRate           9578 non-null float64\ninstallment       9578 non-null float64\nlogAnnualInc      9578 non-null float64\ndti               9578 non-null float64\nfico              9578 non-null int64\ndaysWithCrLine    9578 non-null float64\nrevolBal          9578 non-null int64\nrevolUtil         9578 non-null float64\ninqLast6mths      9578 non-null int64\ndelinq2yrs        9578 non-null int64\npubRec            9578 non-null int64\nnotFullyPaid      9578 non-null int64\ndtypes: float64(6), int64(7), object(1)\nmemory usage: 1.0+ MB\n"
     ]
    }
   ],
   "source": [
    "loans_imputed = pd.read_csv('loans_imputed.csv')\n",
    "\n",
    "# rename problematic coulmns\n",
    "loans_imputed = loans_imputed.rename(columns={'credit.policy': 'creditPolicy',\n",
    "                              'int.rate': 'intRate',\n",
    "                              'log.annual.inc': 'logAnnualInc',\n",
    "                              'days.with.cr.line': 'daysWithCrLine',\n",
    "                              'revol.bal': 'revolBal',\n",
    "                              'revol.util': 'revolUtil',\n",
    "                              'inq.last.6mths': 'inqLast6mths',\n",
    "                              'delinq.2yrs': 'delinq2yrs',\n",
    "                              'pub.rec': 'pubRec',\n",
    "                              'not.fully.paid': 'notFullyPaid'})\n",
    "loans_imputed.info()"
   ]
  },
  {
   "cell_type": "markdown",
   "metadata": {},
   "source": [
    "### Problem 2.1\n",
    "Split by 70% and use logistic regression trained on the training set to predict the dependent variable not.fully.paid using all the independent variables."
   ]
  },
  {
   "cell_type": "code",
   "execution_count": 10,
   "metadata": {},
   "outputs": [],
   "source": [
    "np.random.seed(248)\n",
    "from sklearn.model_selection import train_test_split\n",
    "loans_train, loans_test = train_test_split(loans_imputed, test_size=0.3)"
   ]
  },
  {
   "cell_type": "code",
   "execution_count": 11,
   "metadata": {},
   "outputs": [
    {
     "name": "stdout",
     "output_type": "stream",
     "text": [
      "Optimization terminated successfully.\n         Current function value: 0.416406\n         Iterations 6\n"
     ]
    },
    {
     "data": {
      "text/html": [
       "<table class=\"simpletable\">\n",
       "<tr>\n",
       "        <td>Model:</td>              <td>Logit</td>      <td>Pseudo R-squared:</td>    <td>0.067</td>  \n",
       "</tr>\n",
       "<tr>\n",
       "  <td>Dependent Variable:</td>   <td>notFullyPaid</td>         <td>AIC:</td>         <td>5621.1757</td>\n",
       "</tr>\n",
       "<tr>\n",
       "         <td>Date:</td>        <td>2017-03-27 16:12</td>       <td>BIC:</td>         <td>5750.5745</td>\n",
       "</tr>\n",
       "<tr>\n",
       "   <td>No. Observations:</td>        <td>6704</td>        <td>Log-Likelihood:</td>    <td>-2791.6</td> \n",
       "</tr>\n",
       "<tr>\n",
       "       <td>Df Model:</td>             <td>18</td>            <td>LL-Null:</td>        <td>-2992.5</td> \n",
       "</tr>\n",
       "<tr>\n",
       "     <td>Df Residuals:</td>          <td>6685</td>         <td>LLR p-value:</td>    <td>3.7987e-74</td>\n",
       "</tr>\n",
       "<tr>\n",
       "      <td>Converged:</td>           <td>1.0000</td>           <td>Scale:</td>         <td>1.0000</td>  \n",
       "</tr>\n",
       "<tr>\n",
       "    <td>No. Iterations:</td>        <td>6.0000</td>              <td></td>               <td></td>     \n",
       "</tr>\n",
       "</table>\n",
       "<table class=\"simpletable\">\n",
       "<tr>\n",
       "                  <td></td>                  <th>Coef.</th>  <th>Std.Err.</th>    <th>z</th>     <th>P>|z|</th> <th>[0.025</th>  <th>0.975]</th> \n",
       "</tr>\n",
       "<tr>\n",
       "  <th>Intercept</th>                        <td>9.2463</td>   <td>1.5391</td>  <td>6.0076</td>  <td>0.0000</td> <td>6.2297</td>  <td>12.2629</td>\n",
       "</tr>\n",
       "<tr>\n",
       "  <th>C(purpose)[T.credit_card]</th>        <td>-0.5693</td>  <td>0.1275</td>  <td>-4.4663</td> <td>0.0000</td> <td>-0.8191</td> <td>-0.3194</td>\n",
       "</tr>\n",
       "<tr>\n",
       "  <th>C(purpose)[T.debt_consolidation]</th> <td>-0.3994</td>  <td>0.0911</td>  <td>-4.3846</td> <td>0.0000</td> <td>-0.5780</td> <td>-0.2209</td>\n",
       "</tr>\n",
       "<tr>\n",
       "  <th>C(purpose)[T.educational]</th>        <td>-0.0288</td>  <td>0.1786</td>  <td>-0.1613</td> <td>0.8719</td> <td>-0.3789</td> <td>0.3213</td> \n",
       "</tr>\n",
       "<tr>\n",
       "  <th>C(purpose)[T.home_improvement]</th>   <td>0.1253</td>   <td>0.1478</td>  <td>0.8477</td>  <td>0.3966</td> <td>-0.1644</td> <td>0.4150</td> \n",
       "</tr>\n",
       "<tr>\n",
       "  <th>C(purpose)[T.major_purchase]</th>     <td>-0.4789</td>  <td>0.2036</td>  <td>-2.3524</td> <td>0.0187</td> <td>-0.8780</td> <td>-0.0799</td>\n",
       "</tr>\n",
       "<tr>\n",
       "  <th>C(purpose)[T.small_business]</th>     <td>0.4856</td>   <td>0.1412</td>  <td>3.4378</td>  <td>0.0006</td> <td>0.2087</td>  <td>0.7624</td> \n",
       "</tr>\n",
       "<tr>\n",
       "  <th>creditPolicy</th>                     <td>-0.3217</td>  <td>0.0996</td>  <td>-3.2300</td> <td>0.0012</td> <td>-0.5168</td> <td>-0.1265</td>\n",
       "</tr>\n",
       "<tr>\n",
       "  <th>intRate</th>                          <td>-0.0754</td>  <td>2.0912</td>  <td>-0.0361</td> <td>0.9712</td> <td>-4.1741</td> <td>4.0232</td> \n",
       "</tr>\n",
       "<tr>\n",
       "  <th>installment</th>                      <td>0.0011</td>   <td>0.0002</td>  <td>5.3992</td>  <td>0.0000</td> <td>0.0007</td>  <td>0.0016</td> \n",
       "</tr>\n",
       "<tr>\n",
       "  <th>logAnnualInc</th>                     <td>-0.4314</td>  <td>0.0707</td>  <td>-6.1044</td> <td>0.0000</td> <td>-0.5700</td> <td>-0.2929</td>\n",
       "</tr>\n",
       "<tr>\n",
       "  <th>daysWithCrLine</th>                   <td>0.0000</td>   <td>0.0000</td>  <td>0.8964</td>  <td>0.3700</td> <td>-0.0000</td> <td>0.0000</td> \n",
       "</tr>\n",
       "<tr>\n",
       "  <th>revolBal</th>                         <td>0.0000</td>   <td>0.0000</td>  <td>2.5978</td>  <td>0.0094</td> <td>0.0000</td>  <td>0.0000</td> \n",
       "</tr>\n",
       "<tr>\n",
       "  <th>dti</th>                              <td>0.0015</td>   <td>0.0055</td>  <td>0.2741</td>  <td>0.7840</td> <td>-0.0093</td> <td>0.0123</td> \n",
       "</tr>\n",
       "<tr>\n",
       "  <th>fico</th>                             <td>-0.0093</td>  <td>0.0017</td>  <td>-5.4682</td> <td>0.0000</td> <td>-0.0126</td> <td>-0.0060</td>\n",
       "</tr>\n",
       "<tr>\n",
       "  <th>revolUtil</th>                        <td>0.0032</td>   <td>0.0015</td>  <td>2.1138</td>  <td>0.0345</td> <td>0.0002</td>  <td>0.0062</td> \n",
       "</tr>\n",
       "<tr>\n",
       "  <th>inqLast6mths</th>                     <td>0.0919</td>   <td>0.0163</td>  <td>5.6372</td>  <td>0.0000</td> <td>0.0600</td>  <td>0.1239</td> \n",
       "</tr>\n",
       "<tr>\n",
       "  <th>delinq2yrs</th>                       <td>-0.1124</td>  <td>0.0677</td>  <td>-1.6592</td> <td>0.0971</td> <td>-0.2452</td> <td>0.0204</td> \n",
       "</tr>\n",
       "<tr>\n",
       "  <th>pubRec</th>                           <td>0.2259</td>   <td>0.1185</td>  <td>1.9060</td>  <td>0.0566</td> <td>-0.0064</td> <td>0.4581</td> \n",
       "</tr>\n",
       "</table>"
      ],
      "text/plain": [
       "<table class=\"simpletable\">\n",
       "<tr>\n",
       "        <td>Model:</td>              <td>Logit</td>      <td>Pseudo R-squared:</td>    <td>0.067</td>  \n",
       "</tr>\n",
       "<tr>\n",
       "  <td>Dependent Variable:</td>   <td>notFullyPaid</td>         <td>AIC:</td>         <td>5621.1757</td>\n",
       "</tr>\n",
       "<tr>\n",
       "         <td>Date:</td>        <td>2017-03-27 16:12</td>       <td>BIC:</td>         <td>5750.5745</td>\n",
       "</tr>\n",
       "<tr>\n",
       "   <td>No. Observations:</td>        <td>6704</td>        <td>Log-Likelihood:</td>    <td>-2791.6</td> \n",
       "</tr>\n",
       "<tr>\n",
       "       <td>Df Model:</td>             <td>18</td>            <td>LL-Null:</td>        <td>-2992.5</td> \n",
       "</tr>\n",
       "<tr>\n",
       "     <td>Df Residuals:</td>          <td>6685</td>         <td>LLR p-value:</td>    <td>3.7987e-74</td>\n",
       "</tr>\n",
       "<tr>\n",
       "      <td>Converged:</td>           <td>1.0000</td>           <td>Scale:</td>         <td>1.0000</td>  \n",
       "</tr>\n",
       "<tr>\n",
       "    <td>No. Iterations:</td>        <td>6.0000</td>              <td></td>               <td></td>     \n",
       "</tr>\n",
       "</table>\n",
       "<table class=\"simpletable\">\n",
       "<tr>\n",
       "                  <td></td>                  <th>Coef.</th>  <th>Std.Err.</th>    <th>z</th>     <th>P>|z|</th> <th>[0.025</th>  <th>0.975]</th> \n",
       "</tr>\n",
       "<tr>\n",
       "  <th>Intercept</th>                        <td>9.2463</td>   <td>1.5391</td>  <td>6.0076</td>  <td>0.0000</td> <td>6.2297</td>  <td>12.2629</td>\n",
       "</tr>\n",
       "<tr>\n",
       "  <th>C(purpose)[T.credit_card]</th>        <td>-0.5693</td>  <td>0.1275</td>  <td>-4.4663</td> <td>0.0000</td> <td>-0.8191</td> <td>-0.3194</td>\n",
       "</tr>\n",
       "<tr>\n",
       "  <th>C(purpose)[T.debt_consolidation]</th> <td>-0.3994</td>  <td>0.0911</td>  <td>-4.3846</td> <td>0.0000</td> <td>-0.5780</td> <td>-0.2209</td>\n",
       "</tr>\n",
       "<tr>\n",
       "  <th>C(purpose)[T.educational]</th>        <td>-0.0288</td>  <td>0.1786</td>  <td>-0.1613</td> <td>0.8719</td> <td>-0.3789</td> <td>0.3213</td> \n",
       "</tr>\n",
       "<tr>\n",
       "  <th>C(purpose)[T.home_improvement]</th>   <td>0.1253</td>   <td>0.1478</td>  <td>0.8477</td>  <td>0.3966</td> <td>-0.1644</td> <td>0.4150</td> \n",
       "</tr>\n",
       "<tr>\n",
       "  <th>C(purpose)[T.major_purchase]</th>     <td>-0.4789</td>  <td>0.2036</td>  <td>-2.3524</td> <td>0.0187</td> <td>-0.8780</td> <td>-0.0799</td>\n",
       "</tr>\n",
       "<tr>\n",
       "  <th>C(purpose)[T.small_business]</th>     <td>0.4856</td>   <td>0.1412</td>  <td>3.4378</td>  <td>0.0006</td> <td>0.2087</td>  <td>0.7624</td> \n",
       "</tr>\n",
       "<tr>\n",
       "  <th>creditPolicy</th>                     <td>-0.3217</td>  <td>0.0996</td>  <td>-3.2300</td> <td>0.0012</td> <td>-0.5168</td> <td>-0.1265</td>\n",
       "</tr>\n",
       "<tr>\n",
       "  <th>intRate</th>                          <td>-0.0754</td>  <td>2.0912</td>  <td>-0.0361</td> <td>0.9712</td> <td>-4.1741</td> <td>4.0232</td> \n",
       "</tr>\n",
       "<tr>\n",
       "  <th>installment</th>                      <td>0.0011</td>   <td>0.0002</td>  <td>5.3992</td>  <td>0.0000</td> <td>0.0007</td>  <td>0.0016</td> \n",
       "</tr>\n",
       "<tr>\n",
       "  <th>logAnnualInc</th>                     <td>-0.4314</td>  <td>0.0707</td>  <td>-6.1044</td> <td>0.0000</td> <td>-0.5700</td> <td>-0.2929</td>\n",
       "</tr>\n",
       "<tr>\n",
       "  <th>daysWithCrLine</th>                   <td>0.0000</td>   <td>0.0000</td>  <td>0.8964</td>  <td>0.3700</td> <td>-0.0000</td> <td>0.0000</td> \n",
       "</tr>\n",
       "<tr>\n",
       "  <th>revolBal</th>                         <td>0.0000</td>   <td>0.0000</td>  <td>2.5978</td>  <td>0.0094</td> <td>0.0000</td>  <td>0.0000</td> \n",
       "</tr>\n",
       "<tr>\n",
       "  <th>dti</th>                              <td>0.0015</td>   <td>0.0055</td>  <td>0.2741</td>  <td>0.7840</td> <td>-0.0093</td> <td>0.0123</td> \n",
       "</tr>\n",
       "<tr>\n",
       "  <th>fico</th>                             <td>-0.0093</td>  <td>0.0017</td>  <td>-5.4682</td> <td>0.0000</td> <td>-0.0126</td> <td>-0.0060</td>\n",
       "</tr>\n",
       "<tr>\n",
       "  <th>revolUtil</th>                        <td>0.0032</td>   <td>0.0015</td>  <td>2.1138</td>  <td>0.0345</td> <td>0.0002</td>  <td>0.0062</td> \n",
       "</tr>\n",
       "<tr>\n",
       "  <th>inqLast6mths</th>                     <td>0.0919</td>   <td>0.0163</td>  <td>5.6372</td>  <td>0.0000</td> <td>0.0600</td>  <td>0.1239</td> \n",
       "</tr>\n",
       "<tr>\n",
       "  <th>delinq2yrs</th>                       <td>-0.1124</td>  <td>0.0677</td>  <td>-1.6592</td> <td>0.0971</td> <td>-0.2452</td> <td>0.0204</td> \n",
       "</tr>\n",
       "<tr>\n",
       "  <th>pubRec</th>                           <td>0.2259</td>   <td>0.1185</td>  <td>1.9060</td>  <td>0.0566</td> <td>-0.0064</td> <td>0.4581</td> \n",
       "</tr>\n",
       "</table>"
      ]
     },
     "execution_count": 11,
     "metadata": {},
     "output_type": "execute_result"
    }
   ],
   "source": [
    "from statsmodels.discrete.discrete_model import Logit\n",
    "y, X = patsy.dmatrices('notFullyPaid ~ creditPolicy + C(purpose) + '\n",
    "                       'intRate + installment + logAnnualInc + '\n",
    "                       'daysWithCrLine + revolBal + dti + fico + '\n",
    "                       'revolUtil + inqLast6mths + delinq2yrs + '\n",
    "                       'pubRec', loans_train, return_type='dataframe')\n",
    "\n",
    "mod1 = Logit(y, X).fit()\n",
    "mod1.summary2()"
   ]
  },
  {
   "cell_type": "markdown",
   "metadata": {},
   "source": [
    "### Problem 2.2\n",
    "A has FICO credit score 700 while the borrower in Application B has FICO credit score 710. What is the value of Logit(A) - Logit(B)?"
   ]
  },
  {
   "cell_type": "code",
   "execution_count": 12,
   "metadata": {},
   "outputs": [
    {
     "data": {
      "text/plain": [
       "0.09"
      ]
     },
     "execution_count": 12,
     "metadata": {},
     "output_type": "execute_result"
    }
   ],
   "source": [
    "result = (700-710) * -0.009\n",
    "result"
   ]
  },
  {
   "cell_type": "markdown",
   "metadata": {},
   "source": [
    "let O(A) be the odds of loan A not being paid back in full,  What is the value of O(A)/O(B)? Reminder: $$Odds = \\frac {F(x)}{1-F(x)}= exp(logit)$$"
   ]
  },
  {
   "cell_type": "code",
   "execution_count": 13,
   "metadata": {},
   "outputs": [
    {
     "data": {
      "text/plain": [
       "1.0941742837052104"
      ]
     },
     "execution_count": 13,
     "metadata": {},
     "output_type": "execute_result"
    }
   ],
   "source": [
    "np.exp(result)"
   ]
  },
  {
   "cell_type": "markdown",
   "metadata": {},
   "source": [
    "### Problem 2.3 - Prediction Models"
   ]
  },
  {
   "cell_type": "code",
   "execution_count": 14,
   "metadata": {},
   "outputs": [],
   "source": [
    "y_test, X_test = patsy.dmatrices('notFullyPaid ~ creditPolicy + C(purpose) + '\n",
    "                       'intRate + installment + logAnnualInc + '\n",
    "                       'daysWithCrLine + revolBal + dti + fico + '\n",
    "                       'revolUtil + inqLast6mths + delinq2yrs + '\n",
    "                       'pubRec', loans_test, return_type='dataframe')\n",
    "precitions_mod1 = mod1.predict(exog=X_test)"
   ]
  },
  {
   "cell_type": "code",
   "execution_count": 15,
   "metadata": {
    "collapsed": false
   },
   "outputs": [
    {
     "data": {
      "text/plain": [
       "array([[2423,   18],\n       [ 422,   11]])"
      ]
     },
     "execution_count": 15,
     "metadata": {},
     "output_type": "execute_result"
    }
   ],
   "source": [
    "from sklearn.metrics import confusion_matrix\n",
    "\n",
    "thresh = 0.5\n",
    "con_matx = confusion_matrix(loans_test['notFullyPaid'].values, precitions_mod1 > thresh).astype(np.int)\n",
    "con_matx"
   ]
  },
  {
   "cell_type": "code",
   "execution_count": 16,
   "metadata": {},
   "outputs": [],
   "source": [
    "TP = con_matx[0, 1]\n",
    "TN = con_matx[0, 0]\n",
    "FP = con_matx[1, 1]\n",
    "FN = con_matx[1, 0]"
   ]
  },
  {
   "cell_type": "markdown",
   "metadata": {},
   "source": [
    "What is the accuracy of the logistic regression model?"
   ]
  },
  {
   "cell_type": "code",
   "execution_count": 17,
   "metadata": {},
   "outputs": [
    {
     "data": {
      "text/plain": [
       "0.8493389004871259"
      ]
     },
     "execution_count": 17,
     "metadata": {},
     "output_type": "execute_result"
    }
   ],
   "source": [
    "(TP + TN) / con_matx.sum()"
   ]
  },
  {
   "cell_type": "markdown",
   "metadata": {},
   "source": [
    "What is the accuracy of the baseline model?"
   ]
  },
  {
   "cell_type": "markdown",
   "metadata": {},
   "source": [
    "Answer: the baseline model assumes that all loans will be fully paid."
   ]
  },
  {
   "cell_type": "code",
   "execution_count": 18,
   "metadata": {},
   "outputs": [
    {
     "data": {
      "text/plain": [
       "0.8493389004871259"
      ]
     },
     "execution_count": 18,
     "metadata": {},
     "output_type": "execute_result"
    }
   ],
   "source": [
    "((1-loans_test['notFullyPaid'].values).sum())/loans_test['notFullyPaid'].count()"
   ]
  },
  {
   "cell_type": "markdown",
   "metadata": {},
   "source": [
    "### Problem 2.4 - compute the test set AUC"
   ]
  },
  {
   "cell_type": "code",
   "execution_count": 19,
   "metadata": {},
   "outputs": [
    {
     "data": {
      "text/plain": [
       "0.68088079602404272"
      ]
     },
     "execution_count": 19,
     "metadata": {},
     "output_type": "execute_result"
    }
   ],
   "source": [
    "from sklearn.metrics import roc_auc_score as auc\n",
    "auc(y_true=loans_test['notFullyPaid'], y_score=precitions_mod1)"
   ]
  },
  {
   "cell_type": "markdown",
   "metadata": {},
   "source": [
    "### Problem 3.1 - \"smart\" baseline\n",
    "Using the training set, build a bivariate logistic regression model that predicts the dependent variable not.fully.paid using only the variable int.rate"
   ]
  },
  {
   "cell_type": "code",
   "execution_count": 20,
   "metadata": {},
   "outputs": [
    {
     "name": "stdout",
     "output_type": "stream",
     "text": [
      "Optimization terminated successfully.\n         Current function value: 0.435409\n         Iterations 6\n"
     ]
    },
    {
     "data": {
      "text/html": [
       "<table class=\"simpletable\">\n",
       "<tr>\n",
       "        <td>Model:</td>              <td>Logit</td>      <td>Pseudo R-squared:</td>    <td>0.025</td>  \n",
       "</tr>\n",
       "<tr>\n",
       "  <td>Dependent Variable:</td>   <td>notFullyPaid</td>         <td>AIC:</td>         <td>5841.9645</td>\n",
       "</tr>\n",
       "<tr>\n",
       "         <td>Date:</td>        <td>2017-03-27 16:12</td>       <td>BIC:</td>         <td>5855.5854</td>\n",
       "</tr>\n",
       "<tr>\n",
       "   <td>No. Observations:</td>        <td>6704</td>        <td>Log-Likelihood:</td>    <td>-2919.0</td> \n",
       "</tr>\n",
       "<tr>\n",
       "       <td>Df Model:</td>              <td>1</td>            <td>LL-Null:</td>        <td>-2992.5</td> \n",
       "</tr>\n",
       "<tr>\n",
       "     <td>Df Residuals:</td>          <td>6702</td>         <td>LLR p-value:</td>    <td>7.6822e-34</td>\n",
       "</tr>\n",
       "<tr>\n",
       "      <td>Converged:</td>           <td>1.0000</td>           <td>Scale:</td>         <td>1.0000</td>  \n",
       "</tr>\n",
       "<tr>\n",
       "    <td>No. Iterations:</td>        <td>6.0000</td>              <td></td>               <td></td>     \n",
       "</tr>\n",
       "</table>\n",
       "<table class=\"simpletable\">\n",
       "<tr>\n",
       "      <td></td>       <th>Coef.</th>  <th>Std.Err.</th>     <th>z</th>     <th>P>|z|</th> <th>[0.025</th>  <th>0.975]</th> \n",
       "</tr>\n",
       "<tr>\n",
       "  <th>Intercept</th> <td>-3.5319</td>  <td>0.1667</td>  <td>-21.1842</td> <td>0.0000</td> <td>-3.8587</td> <td>-3.2051</td>\n",
       "</tr>\n",
       "<tr>\n",
       "  <th>intRate</th>   <td>15.0994</td>  <td>1.2615</td>   <td>11.9693</td> <td>0.0000</td> <td>12.6269</td> <td>17.5719</td>\n",
       "</tr>\n",
       "</table>"
      ],
      "text/plain": [
       "<table class=\"simpletable\">\n",
       "<tr>\n",
       "        <td>Model:</td>              <td>Logit</td>      <td>Pseudo R-squared:</td>    <td>0.025</td>  \n",
       "</tr>\n",
       "<tr>\n",
       "  <td>Dependent Variable:</td>   <td>notFullyPaid</td>         <td>AIC:</td>         <td>5841.9645</td>\n",
       "</tr>\n",
       "<tr>\n",
       "         <td>Date:</td>        <td>2017-03-27 16:12</td>       <td>BIC:</td>         <td>5855.5854</td>\n",
       "</tr>\n",
       "<tr>\n",
       "   <td>No. Observations:</td>        <td>6704</td>        <td>Log-Likelihood:</td>    <td>-2919.0</td> \n",
       "</tr>\n",
       "<tr>\n",
       "       <td>Df Model:</td>              <td>1</td>            <td>LL-Null:</td>        <td>-2992.5</td> \n",
       "</tr>\n",
       "<tr>\n",
       "     <td>Df Residuals:</td>          <td>6702</td>         <td>LLR p-value:</td>    <td>7.6822e-34</td>\n",
       "</tr>\n",
       "<tr>\n",
       "      <td>Converged:</td>           <td>1.0000</td>           <td>Scale:</td>         <td>1.0000</td>  \n",
       "</tr>\n",
       "<tr>\n",
       "    <td>No. Iterations:</td>        <td>6.0000</td>              <td></td>               <td></td>     \n",
       "</tr>\n",
       "</table>\n",
       "<table class=\"simpletable\">\n",
       "<tr>\n",
       "      <td></td>       <th>Coef.</th>  <th>Std.Err.</th>     <th>z</th>     <th>P>|z|</th> <th>[0.025</th>  <th>0.975]</th> \n",
       "</tr>\n",
       "<tr>\n",
       "  <th>Intercept</th> <td>-3.5319</td>  <td>0.1667</td>  <td>-21.1842</td> <td>0.0000</td> <td>-3.8587</td> <td>-3.2051</td>\n",
       "</tr>\n",
       "<tr>\n",
       "  <th>intRate</th>   <td>15.0994</td>  <td>1.2615</td>   <td>11.9693</td> <td>0.0000</td> <td>12.6269</td> <td>17.5719</td>\n",
       "</tr>\n",
       "</table>"
      ]
     },
     "execution_count": 20,
     "metadata": {},
     "output_type": "execute_result"
    }
   ],
   "source": [
    "y_baseline, X_baseline = patsy.dmatrices('notFullyPaid ~ intRate', loans_train, return_type='dataframe')\n",
    "\n",
    "baseline_mod = Logit(y_baseline, X_baseline).fit()\n",
    "baseline_mod.summary2()"
   ]
  },
  {
   "cell_type": "markdown",
   "metadata": {},
   "source": [
    "### Problem 3.2\n",
    "Make test set predictions for the bivariate model. What is the highest predicted probability of a loan not being paid in full on the testing set?"
   ]
  },
  {
   "cell_type": "code",
   "execution_count": 21,
   "metadata": {},
   "outputs": [],
   "source": [
    "y_baseline_test, X_baseline_test = patsy.dmatrices('notFullyPaid ~ intRate', loans_test, return_type='dataframe')\n",
    "pred_baseline_mod = baseline_mod.predict(exog=X_baseline_test)"
   ]
  },
  {
   "cell_type": "code",
   "execution_count": 22,
   "metadata": {},
   "outputs": [
    {
     "data": {
      "text/plain": [
       "0.41840511188946128"
      ]
     },
     "execution_count": 22,
     "metadata": {},
     "output_type": "execute_result"
    }
   ],
   "source": [
    "pred_baseline_mod.max()"
   ]
  },
  {
   "cell_type": "markdown",
   "metadata": {},
   "source": [
    "With a logistic regression cutoff of 0.5, how many loans would be predicted as not being paid in full on the testing set?"
   ]
  },
  {
   "cell_type": "code",
   "execution_count": 23,
   "metadata": {},
   "outputs": [
    {
     "data": {
      "text/plain": [
       "0"
      ]
     },
     "execution_count": 23,
     "metadata": {},
     "output_type": "execute_result"
    }
   ],
   "source": [
    "(pred_baseline_mod > thresh).sum()"
   ]
  },
  {
   "cell_type": "markdown",
   "metadata": {},
   "source": [
    "### Problem 3.3 - Calculate AUC for this baseline"
   ]
  },
  {
   "cell_type": "code",
   "execution_count": 24,
   "metadata": {},
   "outputs": [
    {
     "data": {
      "text/plain": [
       "0.64302196975646031"
      ]
     },
     "execution_count": 24,
     "metadata": {},
     "output_type": "execute_result"
    }
   ],
   "source": [
    "auc(y_true=loans_test['notFullyPaid'], y_score=pred_baseline_mod)"
   ]
  },
  {
   "cell_type": "markdown",
   "metadata": {},
   "source": [
    " ### Problem 4.1 - Computing the Profitability of an Investment "
   ]
  },
  {
   "cell_type": "code",
   "execution_count": 25,
   "metadata": {},
   "outputs": [
    {
     "data": {
      "text/plain": [
       "11.972173631218102"
      ]
     },
     "execution_count": 25,
     "metadata": {},
     "output_type": "execute_result"
    }
   ],
   "source": [
    "10 * np.exp(0.06*3)  # equals to the amount payed back"
   ]
  },
  {
   "cell_type": "markdown",
   "metadata": {},
   "source": [
    " ### Problem 5.1 - A Simple Investment Strategy\n",
    " Enter the following commands in your R console to create this new variable:\n",
    "\n",
    "test\\\\$profit = exp(test$int.rate*3) - 1\n",
    "\n",
    "test\\\\$profit[test$not.fully.paid == 1] = -1"
   ]
  },
  {
   "cell_type": "code",
   "execution_count": 26,
   "metadata": {
    "collapsed": false
   },
   "outputs": [
    {
     "name": "stderr",
     "output_type": "stream",
     "text": [
      "C:\\Users\\tsivi\\Miniconda3\\lib\\site-packages\\ipykernel\\__main__.py:1: SettingWithCopyWarning: \nA value is trying to be set on a copy of a slice from a DataFrame.\nTry using .loc[row_indexer,col_indexer] = value instead\n\nSee the caveats in the documentation: http://pandas.pydata.org/pandas-docs/stable/indexing.html#indexing-view-versus-copy\n  if __name__ == '__main__':\n"
     ]
    }
   ],
   "source": [
    "loans_test['profit'] = np.exp(loans_test['intRate']*3) - 1"
   ]
  },
  {
   "cell_type": "code",
   "execution_count": 27,
   "metadata": {},
   "outputs": [
    {
     "data": {
      "text/html": [
       "<div>\n",
       "<table border=\"1\" class=\"dataframe\">\n",
       "  <thead>\n",
       "    <tr style=\"text-align: right;\">\n",
       "      <th></th>\n",
       "      <th>intRate</th>\n",
       "      <th>profit</th>\n",
       "    </tr>\n",
       "  </thead>\n",
       "  <tbody>\n",
       "    <tr>\n",
       "      <th>7343</th>\n",
       "      <td>0.1025</td>\n",
       "      <td>0.360021</td>\n",
       "    </tr>\n",
       "    <tr>\n",
       "      <th>5310</th>\n",
       "      <td>0.0894</td>\n",
       "      <td>0.307609</td>\n",
       "    </tr>\n",
       "    <tr>\n",
       "      <th>1311</th>\n",
       "      <td>0.0832</td>\n",
       "      <td>0.283512</td>\n",
       "    </tr>\n",
       "    <tr>\n",
       "      <th>3575</th>\n",
       "      <td>0.1158</td>\n",
       "      <td>0.415383</td>\n",
       "    </tr>\n",
       "    <tr>\n",
       "      <th>2267</th>\n",
       "      <td>0.1221</td>\n",
       "      <td>0.442388</td>\n",
       "    </tr>\n",
       "  </tbody>\n",
       "</table>\n",
       "</div>"
      ],
      "text/plain": [
       "<div>\n",
       "<table border=\"1\" class=\"dataframe\">\n",
       "  <thead>\n",
       "    <tr style=\"text-align: right;\">\n",
       "      <th></th>\n",
       "      <th>intRate</th>\n",
       "      <th>profit</th>\n",
       "    </tr>\n",
       "  </thead>\n",
       "  <tbody>\n",
       "    <tr>\n",
       "      <th>7343</th>\n",
       "      <td>0.1025</td>\n",
       "      <td>0.360021</td>\n",
       "    </tr>\n",
       "    <tr>\n",
       "      <th>5310</th>\n",
       "      <td>0.0894</td>\n",
       "      <td>0.307609</td>\n",
       "    </tr>\n",
       "    <tr>\n",
       "      <th>1311</th>\n",
       "      <td>0.0832</td>\n",
       "      <td>0.283512</td>\n",
       "    </tr>\n",
       "    <tr>\n",
       "      <th>3575</th>\n",
       "      <td>0.1158</td>\n",
       "      <td>0.415383</td>\n",
       "    </tr>\n",
       "    <tr>\n",
       "      <th>2267</th>\n",
       "      <td>0.1221</td>\n",
       "      <td>0.442388</td>\n",
       "    </tr>\n",
       "  </tbody>\n",
       "</table>\n",
       "</div>"
      ]
     },
     "execution_count": 27,
     "metadata": {},
     "output_type": "execute_result"
    }
   ],
   "source": [
    "loans_test[['intRate', 'profit']].head()"
   ]
  },
  {
   "cell_type": "markdown",
   "metadata": {},
   "source": [
    "What is the maximum profit of a $10 investment in any loan in the testing set?"
   ]
  },
  {
   "cell_type": "code",
   "execution_count": 28,
   "metadata": {},
   "outputs": [
    {
     "data": {
      "text/plain": [
       "8.8947686546753317"
      ]
     },
     "execution_count": 28,
     "metadata": {},
     "output_type": "execute_result"
    }
   ],
   "source": [
    "loans_test['profit'].max() * 10  # 10 dollars"
   ]
  },
  {
   "cell_type": "markdown",
   "metadata": {},
   "source": [
    "### Problem 6.1 \n",
    "irst, use the subset() function to build a data frame called highInterest consisting of the test set loans with an interest rate of at least 15%"
   ]
  },
  {
   "cell_type": "code",
   "execution_count": 29,
   "metadata": {},
   "outputs": [],
   "source": [
    "maxRisk = loans_test.query('intRate >= 0.15')"
   ]
  },
  {
   "cell_type": "markdown",
   "metadata": {},
   "source": [
    "What is the average profit of a $1 investment in one of these high-interest loans "
   ]
  },
  {
   "cell_type": "code",
   "execution_count": 44,
   "metadata": {},
   "outputs": [
    {
     "data": {
      "text/plain": [
       "0.64386106945522836"
      ]
     },
     "execution_count": 44,
     "metadata": {},
     "output_type": "execute_result"
    }
   ],
   "source": [
    "maxRisk['profit'].mean()"
   ]
  },
  {
   "cell_type": "markdown",
   "metadata": {},
   "source": [
    "This is considerably larger than the number they get on Edx (about 0.22). I've tried only the highest 100:"
   ]
  },
  {
   "cell_type": "code",
   "execution_count": 37,
   "metadata": {},
   "outputs": [
    {
     "data": {
      "text/plain": [
       "count    100.000000\nmean       0.760350\nstd        0.054865\nmin        0.684890\n25%        0.714463\n50%        0.745604\n75%        0.793376\nmax        0.889477\nName: profit, dtype: float64"
      ]
     },
     "execution_count": 37,
     "metadata": {},
     "output_type": "execute_result"
    }
   ],
   "source": [
    "maxRisk['profit'].nlargest(100).describe()"
   ]
  },
  {
   "cell_type": "markdown",
   "metadata": {},
   "source": [
    "and the mean seem to be even higher."
   ]
  },
  {
   "cell_type": "markdown",
   "metadata": {},
   "source": [
    "Q. What proportion of the high-interest loans were not paid back in full?"
   ]
  },
  {
   "cell_type": "code",
   "execution_count": 39,
   "metadata": {},
   "outputs": [
    {
     "data": {
      "text/plain": [
       "0.2585812356979405"
      ]
     },
     "execution_count": 39,
     "metadata": {},
     "output_type": "execute_result"
    }
   ],
   "source": [
    "maxRisk['notFullyPaid'].mean()"
   ]
  },
  {
   "cell_type": "markdown",
   "metadata": {},
   "source": [
    "### Problem 6.2\n",
    "I'm a little confused about this problem. I'll just skip it."
   ]
  }
 ],
 "metadata": {
  "kernelspec": {
   "display_name": "Python 2",
   "language": "python",
   "name": "python2"
  },
  "language_info": {
   "codemirror_mode": {
    "name": "ipython",
    "version": 2.0
   },
   "file_extension": ".py",
   "mimetype": "text/x-python",
   "name": "python",
   "nbconvert_exporter": "python",
   "pygments_lexer": "ipython2",
   "version": "2.7.6"
  }
 },
 "nbformat": 4,
 "nbformat_minor": 0
}