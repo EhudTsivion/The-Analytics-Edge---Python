{
 "cells": [
  {
   "cell_type": "code",
   "execution_count": 1,
   "metadata": {
    "collapsed": true
   },
   "outputs": [],
   "source": [
    "import os\n",
    "import pandas as pd\n",
    "import patsy\n",
    "import numpy as np"
   ]
  },
  {
   "cell_type": "code",
   "execution_count": 2,
   "metadata": {
    "collapsed": true
   },
   "outputs": [
    {
     "name": "stdout",
     "output_type": "stream",
     "text": [
      "<class 'pandas.core.frame.DataFrame'>\nRangeIndex: 1232 entries, 0 to 1231\nData columns (total 15 columns):\nTeam            1232 non-null object\nLeague          1232 non-null object\nYear            1232 non-null int64\nRS              1232 non-null int64\nRA              1232 non-null int64\nW               1232 non-null int64\nOBP             1232 non-null float64\nSLG             1232 non-null float64\nBA              1232 non-null float64\nPlayoffs        1232 non-null int64\nRankSeason      244 non-null float64\nRankPlayoffs    244 non-null float64\nG               1232 non-null int64\nOOBP            420 non-null float64\nOSLG            420 non-null float64\ndtypes: float64(7), int64(6), object(2)\nmemory usage: 144.5+ KB\n"
     ]
    }
   ],
   "source": [
    "if not os.getcwd().endswith('assignment3'):\n",
    "    os.chdir(os.path.join('assignment3'))\n",
    "# read the file\n",
    "baseball = pd.read_csv('baseball.csv')\n",
    "\n",
    "baseball.info()"
   ]
  },
  {
   "cell_type": "markdown",
   "metadata": {},
   "source": [
    "### Problem 1.1\n",
    "Q. How many team/year pairs are there in the whole dataset?"
   ]
  },
  {
   "cell_type": "code",
   "execution_count": 3,
   "metadata": {},
   "outputs": [
    {
     "data": {
      "text/plain": [
       "1232"
      ]
     },
     "execution_count": 3,
     "metadata": {},
     "output_type": "execute_result"
    }
   ],
   "source": [
    "len(baseball.index)"
   ]
  },
  {
   "cell_type": "markdown",
   "metadata": {},
   "source": [
    "### Problem 1.2 \n",
    "Q. What is the total number of years included in this dataset."
   ]
  },
  {
   "cell_type": "code",
   "execution_count": 4,
   "metadata": {},
   "outputs": [
    {
     "data": {
      "text/plain": [
       "47"
      ]
     },
     "execution_count": 4,
     "metadata": {},
     "output_type": "execute_result"
    }
   ],
   "source": [
    "len(baseball['Year'].unique())"
   ]
  },
  {
   "cell_type": "markdown",
   "metadata": {},
   "source": [
    "### Problem 1.3\n",
    "Replace the 'baseball' dataframe with a data frame limited to teams that made the playoffs. \n",
    "\n",
    "Q. How many team/year pairs are included in the new dataset?"
   ]
  },
  {
   "cell_type": "code",
   "execution_count": 5,
   "metadata": {},
   "outputs": [],
   "source": [
    "baseball = baseball.query('Playoffs == 1')"
   ]
  },
  {
   "cell_type": "code",
   "execution_count": 6,
   "metadata": {},
   "outputs": [
    {
     "data": {
      "text/plain": [
       "244"
      ]
     },
     "execution_count": 6,
     "metadata": {},
     "output_type": "execute_result"
    }
   ],
   "source": [
    "len(baseball.index)"
   ]
  },
  {
   "cell_type": "markdown",
   "metadata": {},
   "source": [
    "### Problem 1.4\n",
    "Q. What is the possible number of teams making it to the playoffs? this number changed over the years."
   ]
  },
  {
   "cell_type": "code",
   "execution_count": 7,
   "metadata": {},
   "outputs": [
    {
     "data": {
      "text/plain": [
       "array([ 2,  4,  8, 10], dtype=int64)"
      ]
     },
     "execution_count": 7,
     "metadata": {},
     "output_type": "execute_result"
    }
   ],
   "source": [
    "baseball.groupby('Year')['Team'].count().unique()"
   ]
  },
  {
   "cell_type": "markdown",
   "metadata": {},
   "source": [
    "### Problem 2.1 - 2.4\n",
    "Add the predictor variable NumCompetitors to the baseball data frame."
   ]
  },
  {
   "cell_type": "code",
   "execution_count": 8,
   "metadata": {},
   "outputs": [],
   "source": [
    "year_nteams = baseball.groupby('Year')['Team'].count()"
   ]
  },
  {
   "cell_type": "code",
   "execution_count": 9,
   "metadata": {},
   "outputs": [],
   "source": [
    "for year in year_nteams.index:\n",
    "    baseball.loc[baseball['Year'] == year, 'NumCompetitors'] = year_nteams[year]"
   ]
  },
  {
   "cell_type": "markdown",
   "metadata": {},
   "source": [
    "Q. How many playoff team/year pairs are there in our dataset from years where 8 teams were invited to the playoffs?"
   ]
  },
  {
   "cell_type": "code",
   "execution_count": 10,
   "metadata": {},
   "outputs": [
    {
     "data": {
      "text/plain": [
       "128"
      ]
     },
     "execution_count": 10,
     "metadata": {},
     "output_type": "execute_result"
    }
   ],
   "source": [
    "(baseball['NumCompetitors'] == 8).sum()"
   ]
  },
  {
   "cell_type": "markdown",
   "metadata": {},
   "source": [
    "### Problem 3.1\n",
    "Add a variable named WorldSeries to the baseball dataFrame. WorldSeries takes value 1 if a team won the World Series in the indicated year and a 0 otherwise. "
   ]
  },
  {
   "cell_type": "code",
   "execution_count": 11,
   "metadata": {},
   "outputs": [],
   "source": [
    "baseball['WorldSeries'] = (baseball['RankPlayoffs'] == 1).astype(np.int)"
   ]
  },
  {
   "cell_type": "markdown",
   "metadata": {},
   "source": [
    "Q. How many observations do we have in our dataset where a team did NOT win the World Series?"
   ]
  },
  {
   "cell_type": "code",
   "execution_count": 12,
   "metadata": {},
   "outputs": [
    {
     "data": {
      "text/plain": [
       "197"
      ]
     },
     "execution_count": 12,
     "metadata": {},
     "output_type": "execute_result"
    }
   ],
   "source": [
    "(baseball['WorldSeries'] == 0).sum()"
   ]
  },
  {
   "cell_type": "markdown",
   "metadata": {},
   "source": [
    "### Problem 3.2\n",
    "Q. Which of the variables is a significant predictor (P < 0.05) of the WorldSeries variable in a bivariate logistic regression model? Note that you have to build 12 models to answer this question!"
   ]
  },
  {
   "cell_type": "code",
   "execution_count": 13,
   "metadata": {
    "collapsed": false
   },
   "outputs": [
    {
     "data": {
      "text/plain": [
       "Index(['League', 'Year', 'RS', 'RA', 'W', 'OBP', 'SLG', 'BA', 'RankSeason',\n       'OOBP', 'OSLG', 'NumCompetitors'],\n      dtype='object')"
      ]
     },
     "execution_count": 13,
     "metadata": {},
     "output_type": "execute_result"
    }
   ],
   "source": [
    "bvreg_vars = baseball.columns.drop(['WorldSeries', \n",
    "                                    'Team', 'Playoffs', \n",
    "                                    'G', 'RankPlayoffs'])\n",
    "bvreg_vars"
   ]
  },
  {
   "cell_type": "code",
   "execution_count": 17,
   "metadata": {},
   "outputs": [],
   "source": [
    "from statsmodels.discrete.discrete_model import Logit\n",
    "import patsy\n",
    "\n",
    "y = baseball['WorldSeries']"
   ]
  },
  {
   "cell_type": "code",
   "execution_count": 65,
   "metadata": {
    "collapsed": true
   },
   "outputs": [
    {
     "name": "stdout",
     "output_type": "stream",
     "text": [
      "var:  League\nOptimization terminated successfully.\n         Current function value: 0.489518\n         Iterations 5\nLeague: P = 0.62645, AIC = 242.88\nvar:  Year\nOptimization terminated successfully.\n         Current function value: 0.467932\n         Iterations 6\nYear: P = 0.00115, AIC = 232.35\nvar:  RS\nOptimization terminated successfully.\n         Current function value: 0.486587\n         Iterations 6\nRS: P = 0.20134, AIC = 241.45\nvar:  RA\nOptimization terminated successfully.\n         Current function value: 0.479270\n         Iterations 6\nRA: P = 0.02621, AIC = 237.88\nvar:  W\nOptimization terminated successfully.\n         Current function value: 0.482603\n         Iterations 6\nW: P = 0.05773, AIC = 239.51\nvar:  OBP\nOptimization terminated successfully.\n         Current function value: 0.487748\n         Iterations 6\nOBP: P = 0.29592, AIC = 242.02\nvar:  SLG\nOptimization terminated successfully.\n         Current function value: 0.482025\n         Iterations 6\nSLG: P = 0.05043, AIC = 239.23\nvar:  BA\nOptimization terminated successfully.\n         Current function value: 0.489919\n         Iterations 6\nBA: P = 0.83859, AIC = 243.08\nvar:  RankSeason\nOptimization terminated successfully.\n         Current function value: 0.481054\n         Iterations 6\nRankSeason: P = 0.04383, AIC = 238.75\nvar:  OOBP\nFit failed\nvar:  OSLG\nFit failed\nvar:  NumCompetitors\nOptimization terminated successfully.\n         Current function value: 0.465080\n         Iterations 6\nNumCompetitors: P = 0.00068, AIC = 230.96\n"
     ]
    }
   ],
   "source": [
    "for variable in bvreg_vars:\n",
    "    print('var: ', variable)\n",
    "    try:\n",
    "        X = patsy.dmatrix(str(variable), data=baseball)\n",
    "        mod = Logit(y, X).fit()\n",
    "        x1_coeff = mod.summary2().tables[1]['P>|z|'][1]\n",
    "        print('{}: P = {:0.5f}, AIC = {:0.2f}'.format(variable, x1_coeff, mod.aic))\n",
    "        \n",
    "    except:\n",
    "        print('Fit failed')"
   ]
  },
  {
   "cell_type": "markdown",
   "metadata": {},
   "source": [
    "### Problem 4.1\n",
    "Build a model using all of the variables that you found to be significant in the bivariate models. \n",
    "\n",
    "Q. How many variables are significant in the combined model?"
   ]
  },
  {
   "cell_type": "code",
   "execution_count": 66,
   "metadata": {},
   "outputs": [
    {
     "name": "stdout",
     "output_type": "stream",
     "text": [
      "Optimization terminated successfully.\n         Current function value: 0.463874\n         Iterations 6\n"
     ]
    },
    {
     "data": {
      "text/html": [
       "<table class=\"simpletable\">\n",
       "<tr>\n",
       "        <td>Model:</td>              <td>Logit</td>      <td>Pseudo R-squared:</td>   <td>0.053</td> \n",
       "</tr>\n",
       "<tr>\n",
       "  <td>Dependent Variable:</td>    <td>WorldSeries</td>         <td>AIC:</td>        <td>236.3707</td>\n",
       "</tr>\n",
       "<tr>\n",
       "         <td>Date:</td>        <td>2017-03-28 00:23</td>       <td>BIC:</td>        <td>253.8565</td>\n",
       "</tr>\n",
       "<tr>\n",
       "   <td>No. Observations:</td>         <td>244</td>        <td>Log-Likelihood:</td>   <td>-113.19</td>\n",
       "</tr>\n",
       "<tr>\n",
       "       <td>Df Model:</td>              <td>4</td>            <td>LL-Null:</td>       <td>-119.56</td>\n",
       "</tr>\n",
       "<tr>\n",
       "     <td>Df Residuals:</td>           <td>239</td>         <td>LLR p-value:</td>    <td>0.012557</td>\n",
       "</tr>\n",
       "<tr>\n",
       "      <td>Converged:</td>           <td>1.0000</td>           <td>Scale:</td>        <td>1.0000</td> \n",
       "</tr>\n",
       "<tr>\n",
       "    <td>No. Iterations:</td>        <td>6.0000</td>              <td></td>              <td></td>    \n",
       "</tr>\n",
       "</table>\n",
       "<table class=\"simpletable\">\n",
       "<tr>\n",
       "    <td></td>     <th>Coef.</th>  <th>Std.Err.</th>    <th>z</th>     <th>P>|z|</th>  <th>[0.025</th>   <th>0.975]</th> \n",
       "</tr>\n",
       "<tr>\n",
       "  <th>const</th> <td>12.5874</td>  <td>53.6477</td> <td>0.2346</td>  <td>0.8145</td> <td>-92.5601</td> <td>117.7349</td>\n",
       "</tr>\n",
       "<tr>\n",
       "  <th>x1</th>    <td>-0.0061</td>  <td>0.0275</td>  <td>-0.2236</td> <td>0.8230</td>  <td>-0.0600</td>  <td>0.0477</td> \n",
       "</tr>\n",
       "<tr>\n",
       "  <th>x2</th>    <td>-0.0008</td>  <td>0.0027</td>  <td>-0.3007</td> <td>0.7636</td>  <td>-0.0062</td>  <td>0.0045</td> \n",
       "</tr>\n",
       "<tr>\n",
       "  <th>x3</th>    <td>-0.0685</td>  <td>0.1203</td>  <td>-0.5692</td> <td>0.5692</td>  <td>-0.3044</td>  <td>0.1674</td> \n",
       "</tr>\n",
       "<tr>\n",
       "  <th>x4</th>    <td>-0.1794</td>  <td>0.1816</td>  <td>-0.9881</td> <td>0.3231</td>  <td>-0.5353</td>  <td>0.1765</td> \n",
       "</tr>\n",
       "</table>"
      ],
      "text/plain": [
       "<table class=\"simpletable\">\n",
       "<tr>\n",
       "        <td>Model:</td>              <td>Logit</td>      <td>Pseudo R-squared:</td>   <td>0.053</td> \n",
       "</tr>\n",
       "<tr>\n",
       "  <td>Dependent Variable:</td>    <td>WorldSeries</td>         <td>AIC:</td>        <td>236.3707</td>\n",
       "</tr>\n",
       "<tr>\n",
       "         <td>Date:</td>        <td>2017-03-28 00:23</td>       <td>BIC:</td>        <td>253.8565</td>\n",
       "</tr>\n",
       "<tr>\n",
       "   <td>No. Observations:</td>         <td>244</td>        <td>Log-Likelihood:</td>   <td>-113.19</td>\n",
       "</tr>\n",
       "<tr>\n",
       "       <td>Df Model:</td>              <td>4</td>            <td>LL-Null:</td>       <td>-119.56</td>\n",
       "</tr>\n",
       "<tr>\n",
       "     <td>Df Residuals:</td>           <td>239</td>         <td>LLR p-value:</td>    <td>0.012557</td>\n",
       "</tr>\n",
       "<tr>\n",
       "      <td>Converged:</td>           <td>1.0000</td>           <td>Scale:</td>        <td>1.0000</td> \n",
       "</tr>\n",
       "<tr>\n",
       "    <td>No. Iterations:</td>        <td>6.0000</td>              <td></td>              <td></td>    \n",
       "</tr>\n",
       "</table>\n",
       "<table class=\"simpletable\">\n",
       "<tr>\n",
       "    <td></td>     <th>Coef.</th>  <th>Std.Err.</th>    <th>z</th>     <th>P>|z|</th>  <th>[0.025</th>   <th>0.975]</th> \n",
       "</tr>\n",
       "<tr>\n",
       "  <th>const</th> <td>12.5874</td>  <td>53.6477</td> <td>0.2346</td>  <td>0.8145</td> <td>-92.5601</td> <td>117.7349</td>\n",
       "</tr>\n",
       "<tr>\n",
       "  <th>x1</th>    <td>-0.0061</td>  <td>0.0275</td>  <td>-0.2236</td> <td>0.8230</td>  <td>-0.0600</td>  <td>0.0477</td> \n",
       "</tr>\n",
       "<tr>\n",
       "  <th>x2</th>    <td>-0.0008</td>  <td>0.0027</td>  <td>-0.3007</td> <td>0.7636</td>  <td>-0.0062</td>  <td>0.0045</td> \n",
       "</tr>\n",
       "<tr>\n",
       "  <th>x3</th>    <td>-0.0685</td>  <td>0.1203</td>  <td>-0.5692</td> <td>0.5692</td>  <td>-0.3044</td>  <td>0.1674</td> \n",
       "</tr>\n",
       "<tr>\n",
       "  <th>x4</th>    <td>-0.1794</td>  <td>0.1816</td>  <td>-0.9881</td> <td>0.3231</td>  <td>-0.5353</td>  <td>0.1765</td> \n",
       "</tr>\n",
       "</table>"
      ]
     },
     "execution_count": 66,
     "metadata": {},
     "output_type": "execute_result"
    }
   ],
   "source": [
    "X = patsy.dmatrix('Year + RA + RankSeason + NumCompetitors', data=baseball)\n",
    "mod = Logit(y, X).fit()\n",
    "mod.summary2()"
   ]
  },
  {
   "cell_type": "markdown",
   "metadata": {},
   "source": [
    "A. None!"
   ]
  },
  {
   "cell_type": "markdown",
   "metadata": {},
   "source": [
    "### Problem 4.2\n",
    "Q. Which variable pairs have a high degree of correlation (a correlation greater than 0.8 or less than -0.8)? "
   ]
  },
  {
   "cell_type": "code",
   "execution_count": 63,
   "metadata": {},
   "outputs": [
    {
     "data": {
      "text/html": [
       "<div>\n",
       "<table border=\"1\" class=\"dataframe\">\n",
       "  <thead>\n",
       "    <tr style=\"text-align: right;\">\n",
       "      <th></th>\n",
       "      <th>Year</th>\n",
       "      <th>RA</th>\n",
       "      <th>RankSeason</th>\n",
       "      <th>NumCompetitors</th>\n",
       "    </tr>\n",
       "  </thead>\n",
       "  <tbody>\n",
       "    <tr>\n",
       "      <th>Year</th>\n",
       "      <td>1.000000</td>\n",
       "      <td>0.476242</td>\n",
       "      <td>0.385219</td>\n",
       "      <td>0.913955</td>\n",
       "    </tr>\n",
       "    <tr>\n",
       "      <th>RA</th>\n",
       "      <td>0.476242</td>\n",
       "      <td>1.000000</td>\n",
       "      <td>0.399141</td>\n",
       "      <td>0.513677</td>\n",
       "    </tr>\n",
       "    <tr>\n",
       "      <th>RankSeason</th>\n",
       "      <td>0.385219</td>\n",
       "      <td>0.399141</td>\n",
       "      <td>1.000000</td>\n",
       "      <td>0.424739</td>\n",
       "    </tr>\n",
       "    <tr>\n",
       "      <th>NumCompetitors</th>\n",
       "      <td>0.913955</td>\n",
       "      <td>0.513677</td>\n",
       "      <td>0.424739</td>\n",
       "      <td>1.000000</td>\n",
       "    </tr>\n",
       "  </tbody>\n",
       "</table>\n",
       "</div>"
      ],
      "text/plain": [
       "<div>\n",
       "<table border=\"1\" class=\"dataframe\">\n",
       "  <thead>\n",
       "    <tr style=\"text-align: right;\">\n",
       "      <th></th>\n",
       "      <th>Year</th>\n",
       "      <th>RA</th>\n",
       "      <th>RankSeason</th>\n",
       "      <th>NumCompetitors</th>\n",
       "    </tr>\n",
       "  </thead>\n",
       "  <tbody>\n",
       "    <tr>\n",
       "      <th>Year</th>\n",
       "      <td>1.000000</td>\n",
       "      <td>0.476242</td>\n",
       "      <td>0.385219</td>\n",
       "      <td>0.913955</td>\n",
       "    </tr>\n",
       "    <tr>\n",
       "      <th>RA</th>\n",
       "      <td>0.476242</td>\n",
       "      <td>1.000000</td>\n",
       "      <td>0.399141</td>\n",
       "      <td>0.513677</td>\n",
       "    </tr>\n",
       "    <tr>\n",
       "      <th>RankSeason</th>\n",
       "      <td>0.385219</td>\n",
       "      <td>0.399141</td>\n",
       "      <td>1.000000</td>\n",
       "      <td>0.424739</td>\n",
       "    </tr>\n",
       "    <tr>\n",
       "      <th>NumCompetitors</th>\n",
       "      <td>0.913955</td>\n",
       "      <td>0.513677</td>\n",
       "      <td>0.424739</td>\n",
       "      <td>1.000000</td>\n",
       "    </tr>\n",
       "  </tbody>\n",
       "</table>\n",
       "</div>"
      ]
     },
     "execution_count": 63,
     "metadata": {},
     "output_type": "execute_result"
    }
   ],
   "source": [
    "baseball[['Year', 'RA', 'RankSeason', 'NumCompetitors']].corr()"
   ]
  },
  {
   "cell_type": "markdown",
   "metadata": {},
   "source": [
    "### Problem 4.3\n",
    "Build all six of the two variable models listed in the previous problem. Which model has the best AIC value (the smallest)?"
   ]
  },
  {
   "cell_type": "code",
   "execution_count": 72,
   "metadata": {},
   "outputs": [
    {
     "name": "stdout",
     "output_type": "stream",
     "text": [
      "var:  Year + RA\nOptimization terminated successfully.\n         Current function value: 0.466960\n         Iterations 6\nYear + RA: P = 0.01603, AIC = 233.88\nvar:  Year + RankSeason\nOptimization terminated successfully.\n         Current function value: 0.466296\n         Iterations 6\nYear + RankSeason: P = 0.00822, AIC = 233.55\nvar:  Year + NumCompetitors\nOptimization terminated successfully.\n         Current function value: 0.464953\n         Iterations 6\nYear + NumCompetitors: P = 0.80344, AIC = 232.90\nvar:  RA + RankSeason\nOptimization terminated successfully.\n         Current function value: 0.475857\n         Iterations 6\nRA + RankSeason: P = 0.11810, AIC = 238.22\nvar:  RA + NumCompetitors\nOptimization terminated successfully.\n         Current function value: 0.464637\n         Iterations 6\nRA + NumCompetitors: P = 0.64313, AIC = 232.74\nvar:  RankSeason + NumCompetitors\nOptimization terminated successfully.\n         Current function value: 0.464188\n         Iterations 6\nRankSeason + NumCompetitors: P = 0.51102, AIC = 232.52\n"
     ]
    }
   ],
   "source": [
    "bvreg_var_pairs = ['Year + RA',\n",
    "                   'Year + RankSeason',\n",
    "                   'Year + NumCompetitors',\n",
    "                   'RA + RankSeason',\n",
    "                   'RA + NumCompetitors',\n",
    "                   'RankSeason + NumCompetitors']\n",
    "\n",
    "\n",
    "for variable in bvreg_var_pairs:\n",
    "    print('var: ', variable)\n",
    "    try:\n",
    "        X = patsy.dmatrix(variable, data=baseball)\n",
    "        mod = Logit(y, X).fit()\n",
    "        x1_coeff = mod.summary2().tables[1]['P>|z|'][1]\n",
    "        print('{}: P = {:0.5f}, AIC = {:0.2f}'.format(variable, x1_coeff, mod.aic))\n",
    "\n",
    "    except:\n",
    "        print('Fit failed')"
   ]
  },
  {
   "cell_type": "markdown",
   "metadata": {},
   "source": [
    "A. NumCompetitors"
   ]
  },
  {
   "cell_type": "code",
   "execution_count": null,
   "metadata": {},
   "outputs": [],
   "source": [
    ""
   ]
  }
 ],
 "metadata": {
  "kernelspec": {
   "display_name": "Python 2",
   "language": "python",
   "name": "python2"
  },
  "language_info": {
   "codemirror_mode": {
    "name": "ipython",
    "version": 2.0
   },
   "file_extension": ".py",
   "mimetype": "text/x-python",
   "name": "python",
   "nbconvert_exporter": "python",
   "pygments_lexer": "ipython2",
   "version": "2.7.6"
  }
 },
 "nbformat": 4,
 "nbformat_minor": 0
}