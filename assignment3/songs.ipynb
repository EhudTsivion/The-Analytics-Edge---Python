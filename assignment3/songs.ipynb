{
 "cells": [
  {
   "cell_type": "code",
   "execution_count": 1,
   "metadata": {
    "collapsed": true
   },
   "outputs": [],
   "source": [
    "import os\n",
    "import pandas as pd\n",
    "# import statsmodels.api as sm"
   ]
  },
  {
   "cell_type": "code",
   "execution_count": 2,
   "metadata": {
    "collapsed": true
   },
   "outputs": [],
   "source": [
    "if not os.getcwd().endswith('assignment3'):\n",
    "    os.chdir(os.path.join('assignment3'))\n",
    "# read the file\n",
    "songs = pd.read_csv('songs.csv')"
   ]
  },
  {
   "cell_type": "markdown",
   "metadata": {},
   "source": [
    "Have a look at the content"
   ]
  },
  {
   "cell_type": "code",
   "execution_count": 3,
   "metadata": {},
   "outputs": [
    {
     "data": {
      "text/html": [
       "<div>\n",
       "<table border=\"1\" class=\"dataframe\">\n",
       "  <thead>\n",
       "    <tr style=\"text-align: right;\">\n",
       "      <th></th>\n",
       "      <th>year</th>\n",
       "      <th>timesignature</th>\n",
       "      <th>timesignature_confidence</th>\n",
       "      <th>loudness</th>\n",
       "      <th>tempo</th>\n",
       "      <th>tempo_confidence</th>\n",
       "      <th>key</th>\n",
       "      <th>key_confidence</th>\n",
       "      <th>energy</th>\n",
       "      <th>pitch</th>\n",
       "      <th>...</th>\n",
       "      <th>timbre_7_max</th>\n",
       "      <th>timbre_8_min</th>\n",
       "      <th>timbre_8_max</th>\n",
       "      <th>timbre_9_min</th>\n",
       "      <th>timbre_9_max</th>\n",
       "      <th>timbre_10_min</th>\n",
       "      <th>timbre_10_max</th>\n",
       "      <th>timbre_11_min</th>\n",
       "      <th>timbre_11_max</th>\n",
       "      <th>Top10</th>\n",
       "    </tr>\n",
       "  </thead>\n",
       "  <tbody>\n",
       "    <tr>\n",
       "      <th>count</th>\n",
       "      <td>7574.000000</td>\n",
       "      <td>7574.000000</td>\n",
       "      <td>7574.000000</td>\n",
       "      <td>7574.000000</td>\n",
       "      <td>7574.000000</td>\n",
       "      <td>7574.000000</td>\n",
       "      <td>7574.000000</td>\n",
       "      <td>7574.000000</td>\n",
       "      <td>7574.000000</td>\n",
       "      <td>7574.000000</td>\n",
       "      <td>...</td>\n",
       "      <td>7574.000000</td>\n",
       "      <td>7574.000000</td>\n",
       "      <td>7574.000000</td>\n",
       "      <td>7574.000000</td>\n",
       "      <td>7574.000000</td>\n",
       "      <td>7574.000000</td>\n",
       "      <td>7574.000000</td>\n",
       "      <td>7574.000000</td>\n",
       "      <td>7574.000000</td>\n",
       "      <td>7574.000000</td>\n",
       "    </tr>\n",
       "    <tr>\n",
       "      <th>mean</th>\n",
       "      <td>2001.455902</td>\n",
       "      <td>3.893979</td>\n",
       "      <td>0.853307</td>\n",
       "      <td>-8.817262</td>\n",
       "      <td>107.348267</td>\n",
       "      <td>0.622866</td>\n",
       "      <td>5.384605</td>\n",
       "      <td>0.433843</td>\n",
       "      <td>0.675471</td>\n",
       "      <td>0.010817</td>\n",
       "      <td>...</td>\n",
       "      <td>95.653221</td>\n",
       "      <td>-63.703984</td>\n",
       "      <td>50.057489</td>\n",
       "      <td>-59.515016</td>\n",
       "      <td>68.028067</td>\n",
       "      <td>-87.340055</td>\n",
       "      <td>55.520722</td>\n",
       "      <td>-50.868457</td>\n",
       "      <td>47.490774</td>\n",
       "      <td>0.147742</td>\n",
       "    </tr>\n",
       "    <tr>\n",
       "      <th>std</th>\n",
       "      <td>5.815223</td>\n",
       "      <td>0.532561</td>\n",
       "      <td>0.243748</td>\n",
       "      <td>4.377079</td>\n",
       "      <td>24.665030</td>\n",
       "      <td>0.304656</td>\n",
       "      <td>3.572579</td>\n",
       "      <td>0.273826</td>\n",
       "      <td>0.243473</td>\n",
       "      <td>0.013671</td>\n",
       "      <td>...</td>\n",
       "      <td>26.859726</td>\n",
       "      <td>15.970244</td>\n",
       "      <td>14.463524</td>\n",
       "      <td>17.190527</td>\n",
       "      <td>20.381321</td>\n",
       "      <td>30.464274</td>\n",
       "      <td>23.549473</td>\n",
       "      <td>11.701530</td>\n",
       "      <td>12.463966</td>\n",
       "      <td>0.354868</td>\n",
       "    </tr>\n",
       "    <tr>\n",
       "      <th>min</th>\n",
       "      <td>1990.000000</td>\n",
       "      <td>0.000000</td>\n",
       "      <td>0.000000</td>\n",
       "      <td>-42.451000</td>\n",
       "      <td>0.000000</td>\n",
       "      <td>0.000000</td>\n",
       "      <td>0.000000</td>\n",
       "      <td>0.000000</td>\n",
       "      <td>0.000020</td>\n",
       "      <td>0.000000</td>\n",
       "      <td>...</td>\n",
       "      <td>15.699000</td>\n",
       "      <td>-158.756000</td>\n",
       "      <td>-25.955000</td>\n",
       "      <td>-149.507000</td>\n",
       "      <td>8.415000</td>\n",
       "      <td>-208.819000</td>\n",
       "      <td>-6.359000</td>\n",
       "      <td>-145.599000</td>\n",
       "      <td>7.200000</td>\n",
       "      <td>0.000000</td>\n",
       "    </tr>\n",
       "    <tr>\n",
       "      <th>25%</th>\n",
       "      <td>1997.000000</td>\n",
       "      <td>4.000000</td>\n",
       "      <td>0.819250</td>\n",
       "      <td>-10.847000</td>\n",
       "      <td>88.860250</td>\n",
       "      <td>0.372000</td>\n",
       "      <td>2.000000</td>\n",
       "      <td>0.204000</td>\n",
       "      <td>0.500138</td>\n",
       "      <td>0.003000</td>\n",
       "      <td>...</td>\n",
       "      <td>76.498000</td>\n",
       "      <td>-73.050750</td>\n",
       "      <td>40.584500</td>\n",
       "      <td>-70.282500</td>\n",
       "      <td>53.037250</td>\n",
       "      <td>-105.130250</td>\n",
       "      <td>39.196000</td>\n",
       "      <td>-58.058000</td>\n",
       "      <td>38.975250</td>\n",
       "      <td>0.000000</td>\n",
       "    </tr>\n",
       "    <tr>\n",
       "      <th>50%</th>\n",
       "      <td>2002.000000</td>\n",
       "      <td>4.000000</td>\n",
       "      <td>0.979000</td>\n",
       "      <td>-7.649000</td>\n",
       "      <td>103.268000</td>\n",
       "      <td>0.701500</td>\n",
       "      <td>6.000000</td>\n",
       "      <td>0.451500</td>\n",
       "      <td>0.718160</td>\n",
       "      <td>0.007000</td>\n",
       "      <td>...</td>\n",
       "      <td>94.632500</td>\n",
       "      <td>-62.661500</td>\n",
       "      <td>49.220000</td>\n",
       "      <td>-58.650000</td>\n",
       "      <td>65.935000</td>\n",
       "      <td>-83.074000</td>\n",
       "      <td>50.895000</td>\n",
       "      <td>-50.892500</td>\n",
       "      <td>46.437500</td>\n",
       "      <td>0.000000</td>\n",
       "    </tr>\n",
       "    <tr>\n",
       "      <th>75%</th>\n",
       "      <td>2006.000000</td>\n",
       "      <td>4.000000</td>\n",
       "      <td>1.000000</td>\n",
       "      <td>-5.640000</td>\n",
       "      <td>124.800500</td>\n",
       "      <td>0.892000</td>\n",
       "      <td>9.000000</td>\n",
       "      <td>0.646000</td>\n",
       "      <td>0.887396</td>\n",
       "      <td>0.014000</td>\n",
       "      <td>...</td>\n",
       "      <td>112.708250</td>\n",
       "      <td>-52.982750</td>\n",
       "      <td>58.462000</td>\n",
       "      <td>-47.699750</td>\n",
       "      <td>81.267000</td>\n",
       "      <td>-64.518000</td>\n",
       "      <td>66.593000</td>\n",
       "      <td>-43.292250</td>\n",
       "      <td>55.030250</td>\n",
       "      <td>0.000000</td>\n",
       "    </tr>\n",
       "    <tr>\n",
       "      <th>max</th>\n",
       "      <td>2010.000000</td>\n",
       "      <td>7.000000</td>\n",
       "      <td>1.000000</td>\n",
       "      <td>1.305000</td>\n",
       "      <td>244.307000</td>\n",
       "      <td>1.000000</td>\n",
       "      <td>11.000000</td>\n",
       "      <td>1.000000</td>\n",
       "      <td>0.998492</td>\n",
       "      <td>0.541000</td>\n",
       "      <td>...</td>\n",
       "      <td>214.819000</td>\n",
       "      <td>-2.382000</td>\n",
       "      <td>144.985000</td>\n",
       "      <td>1.140000</td>\n",
       "      <td>161.518000</td>\n",
       "      <td>-10.640000</td>\n",
       "      <td>192.417000</td>\n",
       "      <td>-6.497000</td>\n",
       "      <td>110.272000</td>\n",
       "      <td>1.000000</td>\n",
       "    </tr>\n",
       "  </tbody>\n",
       "</table>\n",
       "<p>8 rows × 35 columns</p>\n",
       "</div>"
      ],
      "text/plain": [
       "<div>\n",
       "<table border=\"1\" class=\"dataframe\">\n",
       "  <thead>\n",
       "    <tr style=\"text-align: right;\">\n",
       "      <th></th>\n",
       "      <th>year</th>\n",
       "      <th>timesignature</th>\n",
       "      <th>timesignature_confidence</th>\n",
       "      <th>loudness</th>\n",
       "      <th>tempo</th>\n",
       "      <th>tempo_confidence</th>\n",
       "      <th>key</th>\n",
       "      <th>key_confidence</th>\n",
       "      <th>energy</th>\n",
       "      <th>pitch</th>\n",
       "      <th>...</th>\n",
       "      <th>timbre_7_max</th>\n",
       "      <th>timbre_8_min</th>\n",
       "      <th>timbre_8_max</th>\n",
       "      <th>timbre_9_min</th>\n",
       "      <th>timbre_9_max</th>\n",
       "      <th>timbre_10_min</th>\n",
       "      <th>timbre_10_max</th>\n",
       "      <th>timbre_11_min</th>\n",
       "      <th>timbre_11_max</th>\n",
       "      <th>Top10</th>\n",
       "    </tr>\n",
       "  </thead>\n",
       "  <tbody>\n",
       "    <tr>\n",
       "      <th>count</th>\n",
       "      <td>7574.000000</td>\n",
       "      <td>7574.000000</td>\n",
       "      <td>7574.000000</td>\n",
       "      <td>7574.000000</td>\n",
       "      <td>7574.000000</td>\n",
       "      <td>7574.000000</td>\n",
       "      <td>7574.000000</td>\n",
       "      <td>7574.000000</td>\n",
       "      <td>7574.000000</td>\n",
       "      <td>7574.000000</td>\n",
       "      <td>...</td>\n",
       "      <td>7574.000000</td>\n",
       "      <td>7574.000000</td>\n",
       "      <td>7574.000000</td>\n",
       "      <td>7574.000000</td>\n",
       "      <td>7574.000000</td>\n",
       "      <td>7574.000000</td>\n",
       "      <td>7574.000000</td>\n",
       "      <td>7574.000000</td>\n",
       "      <td>7574.000000</td>\n",
       "      <td>7574.000000</td>\n",
       "    </tr>\n",
       "    <tr>\n",
       "      <th>mean</th>\n",
       "      <td>2001.455902</td>\n",
       "      <td>3.893979</td>\n",
       "      <td>0.853307</td>\n",
       "      <td>-8.817262</td>\n",
       "      <td>107.348267</td>\n",
       "      <td>0.622866</td>\n",
       "      <td>5.384605</td>\n",
       "      <td>0.433843</td>\n",
       "      <td>0.675471</td>\n",
       "      <td>0.010817</td>\n",
       "      <td>...</td>\n",
       "      <td>95.653221</td>\n",
       "      <td>-63.703984</td>\n",
       "      <td>50.057489</td>\n",
       "      <td>-59.515016</td>\n",
       "      <td>68.028067</td>\n",
       "      <td>-87.340055</td>\n",
       "      <td>55.520722</td>\n",
       "      <td>-50.868457</td>\n",
       "      <td>47.490774</td>\n",
       "      <td>0.147742</td>\n",
       "    </tr>\n",
       "    <tr>\n",
       "      <th>std</th>\n",
       "      <td>5.815223</td>\n",
       "      <td>0.532561</td>\n",
       "      <td>0.243748</td>\n",
       "      <td>4.377079</td>\n",
       "      <td>24.665030</td>\n",
       "      <td>0.304656</td>\n",
       "      <td>3.572579</td>\n",
       "      <td>0.273826</td>\n",
       "      <td>0.243473</td>\n",
       "      <td>0.013671</td>\n",
       "      <td>...</td>\n",
       "      <td>26.859726</td>\n",
       "      <td>15.970244</td>\n",
       "      <td>14.463524</td>\n",
       "      <td>17.190527</td>\n",
       "      <td>20.381321</td>\n",
       "      <td>30.464274</td>\n",
       "      <td>23.549473</td>\n",
       "      <td>11.701530</td>\n",
       "      <td>12.463966</td>\n",
       "      <td>0.354868</td>\n",
       "    </tr>\n",
       "    <tr>\n",
       "      <th>min</th>\n",
       "      <td>1990.000000</td>\n",
       "      <td>0.000000</td>\n",
       "      <td>0.000000</td>\n",
       "      <td>-42.451000</td>\n",
       "      <td>0.000000</td>\n",
       "      <td>0.000000</td>\n",
       "      <td>0.000000</td>\n",
       "      <td>0.000000</td>\n",
       "      <td>0.000020</td>\n",
       "      <td>0.000000</td>\n",
       "      <td>...</td>\n",
       "      <td>15.699000</td>\n",
       "      <td>-158.756000</td>\n",
       "      <td>-25.955000</td>\n",
       "      <td>-149.507000</td>\n",
       "      <td>8.415000</td>\n",
       "      <td>-208.819000</td>\n",
       "      <td>-6.359000</td>\n",
       "      <td>-145.599000</td>\n",
       "      <td>7.200000</td>\n",
       "      <td>0.000000</td>\n",
       "    </tr>\n",
       "    <tr>\n",
       "      <th>25%</th>\n",
       "      <td>1997.000000</td>\n",
       "      <td>4.000000</td>\n",
       "      <td>0.819250</td>\n",
       "      <td>-10.847000</td>\n",
       "      <td>88.860250</td>\n",
       "      <td>0.372000</td>\n",
       "      <td>2.000000</td>\n",
       "      <td>0.204000</td>\n",
       "      <td>0.500138</td>\n",
       "      <td>0.003000</td>\n",
       "      <td>...</td>\n",
       "      <td>76.498000</td>\n",
       "      <td>-73.050750</td>\n",
       "      <td>40.584500</td>\n",
       "      <td>-70.282500</td>\n",
       "      <td>53.037250</td>\n",
       "      <td>-105.130250</td>\n",
       "      <td>39.196000</td>\n",
       "      <td>-58.058000</td>\n",
       "      <td>38.975250</td>\n",
       "      <td>0.000000</td>\n",
       "    </tr>\n",
       "    <tr>\n",
       "      <th>50%</th>\n",
       "      <td>2002.000000</td>\n",
       "      <td>4.000000</td>\n",
       "      <td>0.979000</td>\n",
       "      <td>-7.649000</td>\n",
       "      <td>103.268000</td>\n",
       "      <td>0.701500</td>\n",
       "      <td>6.000000</td>\n",
       "      <td>0.451500</td>\n",
       "      <td>0.718160</td>\n",
       "      <td>0.007000</td>\n",
       "      <td>...</td>\n",
       "      <td>94.632500</td>\n",
       "      <td>-62.661500</td>\n",
       "      <td>49.220000</td>\n",
       "      <td>-58.650000</td>\n",
       "      <td>65.935000</td>\n",
       "      <td>-83.074000</td>\n",
       "      <td>50.895000</td>\n",
       "      <td>-50.892500</td>\n",
       "      <td>46.437500</td>\n",
       "      <td>0.000000</td>\n",
       "    </tr>\n",
       "    <tr>\n",
       "      <th>75%</th>\n",
       "      <td>2006.000000</td>\n",
       "      <td>4.000000</td>\n",
       "      <td>1.000000</td>\n",
       "      <td>-5.640000</td>\n",
       "      <td>124.800500</td>\n",
       "      <td>0.892000</td>\n",
       "      <td>9.000000</td>\n",
       "      <td>0.646000</td>\n",
       "      <td>0.887396</td>\n",
       "      <td>0.014000</td>\n",
       "      <td>...</td>\n",
       "      <td>112.708250</td>\n",
       "      <td>-52.982750</td>\n",
       "      <td>58.462000</td>\n",
       "      <td>-47.699750</td>\n",
       "      <td>81.267000</td>\n",
       "      <td>-64.518000</td>\n",
       "      <td>66.593000</td>\n",
       "      <td>-43.292250</td>\n",
       "      <td>55.030250</td>\n",
       "      <td>0.000000</td>\n",
       "    </tr>\n",
       "    <tr>\n",
       "      <th>max</th>\n",
       "      <td>2010.000000</td>\n",
       "      <td>7.000000</td>\n",
       "      <td>1.000000</td>\n",
       "      <td>1.305000</td>\n",
       "      <td>244.307000</td>\n",
       "      <td>1.000000</td>\n",
       "      <td>11.000000</td>\n",
       "      <td>1.000000</td>\n",
       "      <td>0.998492</td>\n",
       "      <td>0.541000</td>\n",
       "      <td>...</td>\n",
       "      <td>214.819000</td>\n",
       "      <td>-2.382000</td>\n",
       "      <td>144.985000</td>\n",
       "      <td>1.140000</td>\n",
       "      <td>161.518000</td>\n",
       "      <td>-10.640000</td>\n",
       "      <td>192.417000</td>\n",
       "      <td>-6.497000</td>\n",
       "      <td>110.272000</td>\n",
       "      <td>1.000000</td>\n",
       "    </tr>\n",
       "  </tbody>\n",
       "</table>\n",
       "<p>8 rows × 35 columns</p>\n",
       "</div>"
      ]
     },
     "execution_count": 3,
     "metadata": {},
     "output_type": "execute_result"
    }
   ],
   "source": [
    "songs.describe()"
   ]
  },
  {
   "cell_type": "code",
   "execution_count": 4,
   "metadata": {
    "collapsed": false
   },
   "outputs": [
    {
     "name": "stdout",
     "output_type": "stream",
     "text": [
      "<class 'pandas.core.frame.DataFrame'>\nRangeIndex: 7574 entries, 0 to 7573\nData columns (total 39 columns):\nyear                        7574 non-null int64\nsongtitle                   7574 non-null object\nartistname                  7574 non-null object\nsongID                      7574 non-null object\nartistID                    7574 non-null object\ntimesignature               7574 non-null int64\ntimesignature_confidence    7574 non-null float64\nloudness                    7574 non-null float64\ntempo                       7574 non-null float64\ntempo_confidence            7574 non-null float64\nkey                         7574 non-null int64\nkey_confidence              7574 non-null float64\nenergy                      7574 non-null float64\npitch                       7574 non-null float64\ntimbre_0_min                7574 non-null float64\ntimbre_0_max                7574 non-null float64\ntimbre_1_min                7574 non-null float64\ntimbre_1_max                7574 non-null float64\ntimbre_2_min                7574 non-null float64\ntimbre_2_max                7574 non-null float64\ntimbre_3_min                7574 non-null float64\ntimbre_3_max                7574 non-null float64\ntimbre_4_min                7574 non-null float64\ntimbre_4_max                7574 non-null float64\ntimbre_5_min                7574 non-null float64\ntimbre_5_max                7574 non-null float64\ntimbre_6_min                7574 non-null float64\ntimbre_6_max                7574 non-null float64\ntimbre_7_min                7574 non-null float64\ntimbre_7_max                7574 non-null float64\ntimbre_8_min                7574 non-null float64\ntimbre_8_max                7574 non-null float64\ntimbre_9_min                7574 non-null float64\ntimbre_9_max                7574 non-null float64\ntimbre_10_min               7574 non-null float64\ntimbre_10_max               7574 non-null float64\ntimbre_11_min               7574 non-null float64\ntimbre_11_max               7574 non-null float64\nTop10                       7574 non-null int64\ndtypes: float64(31), int64(4), object(4)\nmemory usage: 2.3+ MB\n"
     ]
    }
   ],
   "source": [
    "songs.info()"
   ]
  },
  {
   "cell_type": "markdown",
   "metadata": {},
   "source": [
    "### Problem 1.1\n",
    "How many observaions are there? answer 7574"
   ]
  },
  {
   "cell_type": "code",
   "execution_count": 5,
   "metadata": {},
   "outputs": [
    {
     "data": {
      "text/plain": [
       "373"
      ]
     },
     "execution_count": 5,
     "metadata": {},
     "output_type": "execute_result"
    }
   ],
   "source": [
    "len(songs[songs['year'] == 2010].index)"
   ]
  },
  {
   "cell_type": "markdown",
   "metadata": {},
   "source": [
    "### Problem 1.2\n",
    "How many songs include the name \"Michael Jackson\""
   ]
  },
  {
   "cell_type": "code",
   "execution_count": 6,
   "metadata": {},
   "outputs": [
    {
     "data": {
      "text/plain": [
       "18"
      ]
     },
     "execution_count": 6,
     "metadata": {},
     "output_type": "execute_result"
    }
   ],
   "source": [
    "len(songs['Michael Jackson' == songs['artistname']].index)"
   ]
  },
  {
   "cell_type": "markdown",
   "metadata": {},
   "source": [
    "### Problem 1.3\n",
    "Which of these songs by Michael Jackson made it to the Top 10?"
   ]
  },
  {
   "cell_type": "code",
   "execution_count": 7,
   "metadata": {},
   "outputs": [
    {
     "data": {
      "text/plain": [
       "4328    You Rock My World\n6206    You Are Not Alone\n6209       Black or White\n6217    Remember the Time\n6914        In The Closet\nName: songtitle, dtype: object"
      ]
     },
     "execution_count": 7,
     "metadata": {},
     "output_type": "execute_result"
    }
   ],
   "source": [
    "songs[(songs['Top10'] == 1) & (songs['artistname'] == 'Michael Jackson')]['songtitle']"
   ]
  },
  {
   "cell_type": "markdown",
   "metadata": {},
   "source": [
    "### Problem 1.4\n",
    "What are the values of the timesignature variable that occur in our dataset? "
   ]
  },
  {
   "cell_type": "code",
   "execution_count": 8,
   "metadata": {},
   "outputs": [
    {
     "data": {
      "text/plain": [
       "array([3, 4, 5, 7, 1, 0], dtype=int64)"
      ]
     },
     "execution_count": 8,
     "metadata": {},
     "output_type": "execute_result"
    }
   ],
   "source": [
    "songs['timesignature'].unique()"
   ]
  },
  {
   "cell_type": "markdown",
   "metadata": {},
   "source": [
    "### Problem 1.5\n",
    "Which song has the highest tempo?"
   ]
  },
  {
   "cell_type": "code",
   "execution_count": 9,
   "metadata": {},
   "outputs": [
    {
     "data": {
      "text/plain": [
       "\"Wanna Be Startin' Somethin'\""
      ]
     },
     "execution_count": 9,
     "metadata": {},
     "output_type": "execute_result"
    }
   ],
   "source": [
    "songs.loc[songs['tempo'].idxmax()]['songtitle']"
   ]
  },
  {
   "cell_type": "markdown",
   "metadata": {},
   "source": [
    "### Problem 2.1\n",
    "split the data into a training set \"songs_train\" consisting of all the observations up to and including 2009 song releases, and a testing set \"songs_test\", consisting of the 2010 song releases. How many observations (songs) are in the training set?"
   ]
  },
  {
   "cell_type": "code",
   "execution_count": 10,
   "metadata": {},
   "outputs": [],
   "source": [
    "irrelevent_data = ['year', 'songtitle', 'artistname', 'songID', 'artistID']\n",
    "songs_train = songs.loc[songs['year'] < 2010].drop(irrelevent_data, axis=1)\n",
    "songs_test = songs.loc[songs['year'] == 2010].drop(irrelevent_data, axis=1)"
   ]
  },
  {
   "cell_type": "code",
   "execution_count": 11,
   "metadata": {},
   "outputs": [
    {
     "data": {
      "text/plain": [
       "7201"
      ]
     },
     "execution_count": 11,
     "metadata": {},
     "output_type": "execute_result"
    }
   ],
   "source": [
    "len(songs_train.index)"
   ]
  },
  {
   "cell_type": "markdown",
   "metadata": {},
   "source": [
    "### Problem 2.2\n",
    "Build a model to predict \"Top10\". Don't use the variables \"year\", \"songtitle\", \"artistname\", \"songID\" or \"artistID\". What is the model's AIC?\n",
    "\n"
   ]
  },
  {
   "cell_type": "code",
   "execution_count": 33,
   "metadata": {
    "collapsed": false
   },
   "outputs": [
    {
     "name": "stdout",
     "output_type": "stream",
     "text": [
      "Optimization terminated successfully.\n         Current function value: 0.335207\n         Iterations 8\n"
     ]
    },
    {
     "data": {
      "text/html": [
       "<table class=\"simpletable\">\n",
       "<tr>\n",
       "        <td>Model:</td>              <td>Logit</td>      <td>Pseudo R-squared:</td>    <td>0.198</td>   \n",
       "</tr>\n",
       "<tr>\n",
       "  <td>Dependent Variable:</td>       <td>Top10</td>            <td>AIC:</td>         <td>4893.6520</td> \n",
       "</tr>\n",
       "<tr>\n",
       "         <td>Date:</td>        <td>2017-03-24 16:21</td>       <td>BIC:</td>         <td>5120.7572</td> \n",
       "</tr>\n",
       "<tr>\n",
       "   <td>No. Observations:</td>        <td>7201</td>        <td>Log-Likelihood:</td>    <td>-2413.8</td>  \n",
       "</tr>\n",
       "<tr>\n",
       "       <td>Df Model:</td>             <td>32</td>            <td>LL-Null:</td>        <td>-3008.8</td>  \n",
       "</tr>\n",
       "<tr>\n",
       "     <td>Df Residuals:</td>          <td>7168</td>         <td>LLR p-value:</td>    <td>1.3732e-229</td>\n",
       "</tr>\n",
       "<tr>\n",
       "      <td>Converged:</td>           <td>1.0000</td>           <td>Scale:</td>         <td>1.0000</td>   \n",
       "</tr>\n",
       "<tr>\n",
       "    <td>No. Iterations:</td>        <td>8.0000</td>              <td></td>               <td></td>      \n",
       "</tr>\n",
       "</table>\n",
       "<table class=\"simpletable\">\n",
       "<tr>\n",
       "              <td></td>               <th>Coef.</th>  <th>Std.Err.</th>     <th>z</th>     <th>P>|z|</th>  <th>[0.025</th>   <th>0.975]</th> \n",
       "</tr>\n",
       "<tr>\n",
       "  <th>timesignature</th>             <td>0.2818</td>   <td>0.0891</td>   <td>3.1619</td>  <td>0.0016</td>  <td>0.1071</td>   <td>0.4565</td> \n",
       "</tr>\n",
       "<tr>\n",
       "  <th>timesignature_confidence</th>  <td>0.7315</td>   <td>0.1959</td>   <td>3.7330</td>  <td>0.0002</td>  <td>0.3474</td>   <td>1.1155</td> \n",
       "</tr>\n",
       "<tr>\n",
       "  <th>loudness</th>                  <td>0.0879</td>   <td>0.0123</td>   <td>7.1186</td>  <td>0.0000</td>  <td>0.0637</td>   <td>0.1121</td> \n",
       "</tr>\n",
       "<tr>\n",
       "  <th>tempo</th>                     <td>0.0023</td>   <td>0.0017</td>   <td>1.4040</td>  <td>0.1603</td>  <td>-0.0009</td>  <td>0.0056</td> \n",
       "</tr>\n",
       "<tr>\n",
       "  <th>tempo_confidence</th>          <td>0.5823</td>   <td>0.1416</td>   <td>4.1123</td>  <td>0.0000</td>  <td>0.3047</td>   <td>0.8598</td> \n",
       "</tr>\n",
       "<tr>\n",
       "  <th>key</th>                       <td>0.0201</td>   <td>0.0103</td>   <td>1.9503</td>  <td>0.0511</td>  <td>-0.0001</td>  <td>0.0402</td> \n",
       "</tr>\n",
       "<tr>\n",
       "  <th>key_confidence</th>            <td>0.3164</td>   <td>0.1401</td>   <td>2.2584</td>  <td>0.0239</td>  <td>0.0418</td>   <td>0.5911</td> \n",
       "</tr>\n",
       "<tr>\n",
       "  <th>energy</th>                    <td>-0.6730</td>  <td>0.2908</td>   <td>-2.3140</td> <td>0.0207</td>  <td>-1.2430</td>  <td>-0.1030</td>\n",
       "</tr>\n",
       "<tr>\n",
       "  <th>pitch</th>                    <td>-43.1605</td>  <td>6.8004</td>   <td>-6.3468</td> <td>0.0000</td> <td>-56.4890</td> <td>-29.8320</td>\n",
       "</tr>\n",
       "<tr>\n",
       "  <th>timbre_0_min</th>              <td>0.0264</td>   <td>0.0042</td>   <td>6.2594</td>  <td>0.0000</td>  <td>0.0181</td>   <td>0.0347</td> \n",
       "</tr>\n",
       "<tr>\n",
       "  <th>timbre_0_max</th>              <td>-0.1379</td>  <td>0.0088</td>  <td>-15.5953</td> <td>0.0000</td>  <td>-0.1552</td>  <td>-0.1205</td>\n",
       "</tr>\n",
       "<tr>\n",
       "  <th>timbre_1_min</th>              <td>0.0068</td>   <td>0.0008</td>   <td>8.7833</td>  <td>0.0000</td>  <td>0.0053</td>   <td>0.0083</td> \n",
       "</tr>\n",
       "<tr>\n",
       "  <th>timbre_1_max</th>              <td>-0.0006</td>  <td>0.0007</td>   <td>-0.8332</td> <td>0.4047</td>  <td>-0.0020</td>  <td>0.0008</td> \n",
       "</tr>\n",
       "<tr>\n",
       "  <th>timbre_2_min</th>              <td>-0.0018</td>  <td>0.0011</td>   <td>-1.5656</td> <td>0.1174</td>  <td>-0.0039</td>  <td>0.0004</td> \n",
       "</tr>\n",
       "<tr>\n",
       "  <th>timbre_2_max</th>              <td>0.0003</td>   <td>0.0009</td>   <td>0.3773</td>  <td>0.7059</td>  <td>-0.0014</td>  <td>0.0021</td> \n",
       "</tr>\n",
       "<tr>\n",
       "  <th>timbre_3_min</th>              <td>0.0007</td>   <td>0.0006</td>   <td>1.1657</td>  <td>0.2437</td>  <td>-0.0005</td>  <td>0.0019</td> \n",
       "</tr>\n",
       "<tr>\n",
       "  <th>timbre_3_max</th>              <td>-0.0026</td>  <td>0.0006</td>   <td>-4.6312</td> <td>0.0000</td>  <td>-0.0038</td>  <td>-0.0015</td>\n",
       "</tr>\n",
       "<tr>\n",
       "  <th>timbre_4_min</th>              <td>0.0086</td>   <td>0.0020</td>   <td>4.4057</td>  <td>0.0000</td>  <td>0.0048</td>   <td>0.0124</td> \n",
       "</tr>\n",
       "<tr>\n",
       "  <th>timbre_4_max</th>              <td>0.0063</td>   <td>0.0015</td>   <td>4.1174</td>  <td>0.0000</td>  <td>0.0033</td>   <td>0.0093</td> \n",
       "</tr>\n",
       "<tr>\n",
       "  <th>timbre_5_min</th>              <td>-0.0057</td>  <td>0.0013</td>   <td>-4.5365</td> <td>0.0000</td>  <td>-0.0082</td>  <td>-0.0032</td>\n",
       "</tr>\n",
       "<tr>\n",
       "  <th>timbre_5_max</th>              <td>0.0005</td>   <td>0.0008</td>   <td>0.6131</td>  <td>0.5398</td>  <td>-0.0011</td>  <td>0.0020</td> \n",
       "</tr>\n",
       "<tr>\n",
       "  <th>timbre_6_min</th>              <td>-0.0167</td>  <td>0.0022</td>   <td>-7.4335</td> <td>0.0000</td>  <td>-0.0211</td>  <td>-0.0123</td>\n",
       "</tr>\n",
       "<tr>\n",
       "  <th>timbre_6_max</th>              <td>0.0039</td>   <td>0.0022</td>   <td>1.8169</td>  <td>0.0692</td>  <td>-0.0003</td>  <td>0.0082</td> \n",
       "</tr>\n",
       "<tr>\n",
       "  <th>timbre_7_min</th>              <td>-0.0047</td>  <td>0.0018</td>   <td>-2.6849</td> <td>0.0073</td>  <td>-0.0082</td>  <td>-0.0013</td>\n",
       "</tr>\n",
       "<tr>\n",
       "  <th>timbre_7_max</th>              <td>-0.0031</td>  <td>0.0018</td>   <td>-1.7006</td> <td>0.0890</td>  <td>-0.0067</td>  <td>0.0005</td> \n",
       "</tr>\n",
       "<tr>\n",
       "  <th>timbre_8_min</th>              <td>0.0038</td>   <td>0.0028</td>   <td>1.3480</td>  <td>0.1777</td>  <td>-0.0017</td>  <td>0.0093</td> \n",
       "</tr>\n",
       "<tr>\n",
       "  <th>timbre_8_max</th>              <td>0.0076</td>   <td>0.0029</td>   <td>2.5699</td>  <td>0.0102</td>  <td>0.0018</td>   <td>0.0133</td> \n",
       "</tr>\n",
       "<tr>\n",
       "  <th>timbre_9_min</th>              <td>-0.0000</td>  <td>0.0030</td>   <td>-0.0080</td> <td>0.9936</td>  <td>-0.0058</td>  <td>0.0058</td> \n",
       "</tr>\n",
       "<tr>\n",
       "  <th>timbre_9_max</th>              <td>0.0035</td>   <td>0.0024</td>   <td>1.4771</td>  <td>0.1397</td>  <td>-0.0012</td>  <td>0.0082</td> \n",
       "</tr>\n",
       "<tr>\n",
       "  <th>timbre_10_min</th>             <td>0.0033</td>   <td>0.0018</td>   <td>1.8322</td>  <td>0.0669</td>  <td>-0.0002</td>  <td>0.0069</td> \n",
       "</tr>\n",
       "<tr>\n",
       "  <th>timbre_10_max</th>             <td>0.0069</td>   <td>0.0017</td>   <td>3.9508</td>  <td>0.0001</td>  <td>0.0035</td>   <td>0.0103</td> \n",
       "</tr>\n",
       "<tr>\n",
       "  <th>timbre_11_min</th>             <td>-0.0295</td>  <td>0.0036</td>   <td>-8.1206</td> <td>0.0000</td>  <td>-0.0367</td>  <td>-0.0224</td>\n",
       "</tr>\n",
       "<tr>\n",
       "  <th>timbre_11_max</th>             <td>0.0206</td>   <td>0.0034</td>   <td>6.1293</td>  <td>0.0000</td>  <td>0.0140</td>   <td>0.0271</td> \n",
       "</tr>\n",
       "</table>"
      ],
      "text/plain": [
       "<table class=\"simpletable\">\n",
       "<tr>\n",
       "        <td>Model:</td>              <td>Logit</td>      <td>Pseudo R-squared:</td>    <td>0.198</td>   \n",
       "</tr>\n",
       "<tr>\n",
       "  <td>Dependent Variable:</td>       <td>Top10</td>            <td>AIC:</td>         <td>4893.6520</td> \n",
       "</tr>\n",
       "<tr>\n",
       "         <td>Date:</td>        <td>2017-03-24 16:21</td>       <td>BIC:</td>         <td>5120.7572</td> \n",
       "</tr>\n",
       "<tr>\n",
       "   <td>No. Observations:</td>        <td>7201</td>        <td>Log-Likelihood:</td>    <td>-2413.8</td>  \n",
       "</tr>\n",
       "<tr>\n",
       "       <td>Df Model:</td>             <td>32</td>            <td>LL-Null:</td>        <td>-3008.8</td>  \n",
       "</tr>\n",
       "<tr>\n",
       "     <td>Df Residuals:</td>          <td>7168</td>         <td>LLR p-value:</td>    <td>1.3732e-229</td>\n",
       "</tr>\n",
       "<tr>\n",
       "      <td>Converged:</td>           <td>1.0000</td>           <td>Scale:</td>         <td>1.0000</td>   \n",
       "</tr>\n",
       "<tr>\n",
       "    <td>No. Iterations:</td>        <td>8.0000</td>              <td></td>               <td></td>      \n",
       "</tr>\n",
       "</table>\n",
       "<table class=\"simpletable\">\n",
       "<tr>\n",
       "              <td></td>               <th>Coef.</th>  <th>Std.Err.</th>     <th>z</th>     <th>P>|z|</th>  <th>[0.025</th>   <th>0.975]</th> \n",
       "</tr>\n",
       "<tr>\n",
       "  <th>timesignature</th>             <td>0.2818</td>   <td>0.0891</td>   <td>3.1619</td>  <td>0.0016</td>  <td>0.1071</td>   <td>0.4565</td> \n",
       "</tr>\n",
       "<tr>\n",
       "  <th>timesignature_confidence</th>  <td>0.7315</td>   <td>0.1959</td>   <td>3.7330</td>  <td>0.0002</td>  <td>0.3474</td>   <td>1.1155</td> \n",
       "</tr>\n",
       "<tr>\n",
       "  <th>loudness</th>                  <td>0.0879</td>   <td>0.0123</td>   <td>7.1186</td>  <td>0.0000</td>  <td>0.0637</td>   <td>0.1121</td> \n",
       "</tr>\n",
       "<tr>\n",
       "  <th>tempo</th>                     <td>0.0023</td>   <td>0.0017</td>   <td>1.4040</td>  <td>0.1603</td>  <td>-0.0009</td>  <td>0.0056</td> \n",
       "</tr>\n",
       "<tr>\n",
       "  <th>tempo_confidence</th>          <td>0.5823</td>   <td>0.1416</td>   <td>4.1123</td>  <td>0.0000</td>  <td>0.3047</td>   <td>0.8598</td> \n",
       "</tr>\n",
       "<tr>\n",
       "  <th>key</th>                       <td>0.0201</td>   <td>0.0103</td>   <td>1.9503</td>  <td>0.0511</td>  <td>-0.0001</td>  <td>0.0402</td> \n",
       "</tr>\n",
       "<tr>\n",
       "  <th>key_confidence</th>            <td>0.3164</td>   <td>0.1401</td>   <td>2.2584</td>  <td>0.0239</td>  <td>0.0418</td>   <td>0.5911</td> \n",
       "</tr>\n",
       "<tr>\n",
       "  <th>energy</th>                    <td>-0.6730</td>  <td>0.2908</td>   <td>-2.3140</td> <td>0.0207</td>  <td>-1.2430</td>  <td>-0.1030</td>\n",
       "</tr>\n",
       "<tr>\n",
       "  <th>pitch</th>                    <td>-43.1605</td>  <td>6.8004</td>   <td>-6.3468</td> <td>0.0000</td> <td>-56.4890</td> <td>-29.8320</td>\n",
       "</tr>\n",
       "<tr>\n",
       "  <th>timbre_0_min</th>              <td>0.0264</td>   <td>0.0042</td>   <td>6.2594</td>  <td>0.0000</td>  <td>0.0181</td>   <td>0.0347</td> \n",
       "</tr>\n",
       "<tr>\n",
       "  <th>timbre_0_max</th>              <td>-0.1379</td>  <td>0.0088</td>  <td>-15.5953</td> <td>0.0000</td>  <td>-0.1552</td>  <td>-0.1205</td>\n",
       "</tr>\n",
       "<tr>\n",
       "  <th>timbre_1_min</th>              <td>0.0068</td>   <td>0.0008</td>   <td>8.7833</td>  <td>0.0000</td>  <td>0.0053</td>   <td>0.0083</td> \n",
       "</tr>\n",
       "<tr>\n",
       "  <th>timbre_1_max</th>              <td>-0.0006</td>  <td>0.0007</td>   <td>-0.8332</td> <td>0.4047</td>  <td>-0.0020</td>  <td>0.0008</td> \n",
       "</tr>\n",
       "<tr>\n",
       "  <th>timbre_2_min</th>              <td>-0.0018</td>  <td>0.0011</td>   <td>-1.5656</td> <td>0.1174</td>  <td>-0.0039</td>  <td>0.0004</td> \n",
       "</tr>\n",
       "<tr>\n",
       "  <th>timbre_2_max</th>              <td>0.0003</td>   <td>0.0009</td>   <td>0.3773</td>  <td>0.7059</td>  <td>-0.0014</td>  <td>0.0021</td> \n",
       "</tr>\n",
       "<tr>\n",
       "  <th>timbre_3_min</th>              <td>0.0007</td>   <td>0.0006</td>   <td>1.1657</td>  <td>0.2437</td>  <td>-0.0005</td>  <td>0.0019</td> \n",
       "</tr>\n",
       "<tr>\n",
       "  <th>timbre_3_max</th>              <td>-0.0026</td>  <td>0.0006</td>   <td>-4.6312</td> <td>0.0000</td>  <td>-0.0038</td>  <td>-0.0015</td>\n",
       "</tr>\n",
       "<tr>\n",
       "  <th>timbre_4_min</th>              <td>0.0086</td>   <td>0.0020</td>   <td>4.4057</td>  <td>0.0000</td>  <td>0.0048</td>   <td>0.0124</td> \n",
       "</tr>\n",
       "<tr>\n",
       "  <th>timbre_4_max</th>              <td>0.0063</td>   <td>0.0015</td>   <td>4.1174</td>  <td>0.0000</td>  <td>0.0033</td>   <td>0.0093</td> \n",
       "</tr>\n",
       "<tr>\n",
       "  <th>timbre_5_min</th>              <td>-0.0057</td>  <td>0.0013</td>   <td>-4.5365</td> <td>0.0000</td>  <td>-0.0082</td>  <td>-0.0032</td>\n",
       "</tr>\n",
       "<tr>\n",
       "  <th>timbre_5_max</th>              <td>0.0005</td>   <td>0.0008</td>   <td>0.6131</td>  <td>0.5398</td>  <td>-0.0011</td>  <td>0.0020</td> \n",
       "</tr>\n",
       "<tr>\n",
       "  <th>timbre_6_min</th>              <td>-0.0167</td>  <td>0.0022</td>   <td>-7.4335</td> <td>0.0000</td>  <td>-0.0211</td>  <td>-0.0123</td>\n",
       "</tr>\n",
       "<tr>\n",
       "  <th>timbre_6_max</th>              <td>0.0039</td>   <td>0.0022</td>   <td>1.8169</td>  <td>0.0692</td>  <td>-0.0003</td>  <td>0.0082</td> \n",
       "</tr>\n",
       "<tr>\n",
       "  <th>timbre_7_min</th>              <td>-0.0047</td>  <td>0.0018</td>   <td>-2.6849</td> <td>0.0073</td>  <td>-0.0082</td>  <td>-0.0013</td>\n",
       "</tr>\n",
       "<tr>\n",
       "  <th>timbre_7_max</th>              <td>-0.0031</td>  <td>0.0018</td>   <td>-1.7006</td> <td>0.0890</td>  <td>-0.0067</td>  <td>0.0005</td> \n",
       "</tr>\n",
       "<tr>\n",
       "  <th>timbre_8_min</th>              <td>0.0038</td>   <td>0.0028</td>   <td>1.3480</td>  <td>0.1777</td>  <td>-0.0017</td>  <td>0.0093</td> \n",
       "</tr>\n",
       "<tr>\n",
       "  <th>timbre_8_max</th>              <td>0.0076</td>   <td>0.0029</td>   <td>2.5699</td>  <td>0.0102</td>  <td>0.0018</td>   <td>0.0133</td> \n",
       "</tr>\n",
       "<tr>\n",
       "  <th>timbre_9_min</th>              <td>-0.0000</td>  <td>0.0030</td>   <td>-0.0080</td> <td>0.9936</td>  <td>-0.0058</td>  <td>0.0058</td> \n",
       "</tr>\n",
       "<tr>\n",
       "  <th>timbre_9_max</th>              <td>0.0035</td>   <td>0.0024</td>   <td>1.4771</td>  <td>0.1397</td>  <td>-0.0012</td>  <td>0.0082</td> \n",
       "</tr>\n",
       "<tr>\n",
       "  <th>timbre_10_min</th>             <td>0.0033</td>   <td>0.0018</td>   <td>1.8322</td>  <td>0.0669</td>  <td>-0.0002</td>  <td>0.0069</td> \n",
       "</tr>\n",
       "<tr>\n",
       "  <th>timbre_10_max</th>             <td>0.0069</td>   <td>0.0017</td>   <td>3.9508</td>  <td>0.0001</td>  <td>0.0035</td>   <td>0.0103</td> \n",
       "</tr>\n",
       "<tr>\n",
       "  <th>timbre_11_min</th>             <td>-0.0295</td>  <td>0.0036</td>   <td>-8.1206</td> <td>0.0000</td>  <td>-0.0367</td>  <td>-0.0224</td>\n",
       "</tr>\n",
       "<tr>\n",
       "  <th>timbre_11_max</th>             <td>0.0206</td>   <td>0.0034</td>   <td>6.1293</td>  <td>0.0000</td>  <td>0.0140</td>   <td>0.0271</td> \n",
       "</tr>\n",
       "</table>"
      ]
     },
     "execution_count": 33,
     "metadata": {},
     "output_type": "execute_result"
    }
   ],
   "source": [
    "import statsmodels.discrete.discrete_model as sm\n",
    "\n",
    "x = songs_train.drop('Top10', axis=1)\n",
    "y = songs_train['Top10']\n",
    "\n",
    "m1 = sm.Logit(y, x).fit()\n",
    "m1.summary2()"
   ]
  },
  {
   "cell_type": "markdown",
   "metadata": {},
   "source": [
    "### Problem 3.1\n",
    "What is the correlation between the variables \"loudness\" and \"energy\" in the training set?"
   ]
  },
  {
   "cell_type": "code",
   "execution_count": 15,
   "metadata": {},
   "outputs": [
    {
     "data": {
      "text/plain": [
       "(0.73990670845580597, 0.0)"
      ]
     },
     "execution_count": 15,
     "metadata": {},
     "output_type": "execute_result"
    }
   ],
   "source": [
    "import scipy.stats as stats\n",
    "stats.pearsonr(songs_train['loudness'].values, songs_train['energy'].values)"
   ]
  },
  {
   "cell_type": "markdown",
   "metadata": {},
   "source": [
    "Using pandas"
   ]
  },
  {
   "cell_type": "code",
   "execution_count": 16,
   "metadata": {},
   "outputs": [
    {
     "data": {
      "text/html": [
       "<div>\n",
       "<table border=\"1\" class=\"dataframe\">\n",
       "  <thead>\n",
       "    <tr style=\"text-align: right;\">\n",
       "      <th></th>\n",
       "      <th>loudness</th>\n",
       "      <th>energy</th>\n",
       "    </tr>\n",
       "  </thead>\n",
       "  <tbody>\n",
       "    <tr>\n",
       "      <th>loudness</th>\n",
       "      <td>1.000000</td>\n",
       "      <td>0.739907</td>\n",
       "    </tr>\n",
       "    <tr>\n",
       "      <th>energy</th>\n",
       "      <td>0.739907</td>\n",
       "      <td>1.000000</td>\n",
       "    </tr>\n",
       "  </tbody>\n",
       "</table>\n",
       "</div>"
      ],
      "text/plain": [
       "<div>\n",
       "<table border=\"1\" class=\"dataframe\">\n",
       "  <thead>\n",
       "    <tr style=\"text-align: right;\">\n",
       "      <th></th>\n",
       "      <th>loudness</th>\n",
       "      <th>energy</th>\n",
       "    </tr>\n",
       "  </thead>\n",
       "  <tbody>\n",
       "    <tr>\n",
       "      <th>loudness</th>\n",
       "      <td>1.000000</td>\n",
       "      <td>0.739907</td>\n",
       "    </tr>\n",
       "    <tr>\n",
       "      <th>energy</th>\n",
       "      <td>0.739907</td>\n",
       "      <td>1.000000</td>\n",
       "    </tr>\n",
       "  </tbody>\n",
       "</table>\n",
       "</div>"
      ]
     },
     "execution_count": 16,
     "metadata": {},
     "output_type": "execute_result"
    }
   ],
   "source": [
    "songs_train[['loudness', 'energy']].corr()"
   ]
  },
  {
   "cell_type": "markdown",
   "metadata": {},
   "source": [
    "### Problem 3.2\n",
    "Createc Model 2, which is Model 1 without the independent variable \"loudness\". Inspect the coefficient of the variable \"energy\". "
   ]
  },
  {
   "cell_type": "code",
   "execution_count": 19,
   "metadata": {},
   "outputs": [
    {
     "name": "stdout",
     "output_type": "stream",
     "text": [
      "Optimization terminated successfully.\n         Current function value: 0.338912\n         Iterations 8\n"
     ]
    },
    {
     "data": {
      "text/html": [
       "<table class=\"simpletable\">\n",
       "<tr>\n",
       "        <td>Model:</td>              <td>Logit</td>      <td>Pseudo R-squared:</td>    <td>0.189</td>   \n",
       "</tr>\n",
       "<tr>\n",
       "  <td>Dependent Variable:</td>       <td>Top10</td>            <td>AIC:</td>         <td>4945.0165</td> \n",
       "</tr>\n",
       "<tr>\n",
       "         <td>Date:</td>        <td>2017-03-24 15:46</td>       <td>BIC:</td>         <td>5165.2397</td> \n",
       "</tr>\n",
       "<tr>\n",
       "   <td>No. Observations:</td>        <td>7201</td>        <td>Log-Likelihood:</td>    <td>-2440.5</td>  \n",
       "</tr>\n",
       "<tr>\n",
       "       <td>Df Model:</td>             <td>31</td>            <td>LL-Null:</td>        <td>-3008.8</td>  \n",
       "</tr>\n",
       "<tr>\n",
       "     <td>Df Residuals:</td>          <td>7169</td>         <td>LLR p-value:</td>    <td>4.3782e-219</td>\n",
       "</tr>\n",
       "<tr>\n",
       "      <td>Converged:</td>           <td>1.0000</td>           <td>Scale:</td>         <td>1.0000</td>   \n",
       "</tr>\n",
       "<tr>\n",
       "    <td>No. Iterations:</td>        <td>8.0000</td>              <td></td>               <td></td>      \n",
       "</tr>\n",
       "</table>\n",
       "<table class=\"simpletable\">\n",
       "<tr>\n",
       "              <td></td>               <th>Coef.</th>  <th>Std.Err.</th>     <th>z</th>     <th>P>|z|</th>  <th>[0.025</th>   <th>0.975]</th> \n",
       "</tr>\n",
       "<tr>\n",
       "  <th>timesignature</th>             <td>0.0616</td>   <td>0.0781</td>   <td>0.7898</td>  <td>0.4297</td>  <td>-0.0913</td>  <td>0.2146</td> \n",
       "</tr>\n",
       "<tr>\n",
       "  <th>timesignature_confidence</th>  <td>0.6740</td>   <td>0.1907</td>   <td>3.5348</td>  <td>0.0004</td>  <td>0.3003</td>   <td>1.0477</td> \n",
       "</tr>\n",
       "<tr>\n",
       "  <th>tempo</th>                     <td>-0.0010</td>  <td>0.0016</td>   <td>-0.6443</td> <td>0.5194</td>  <td>-0.0041</td>  <td>0.0021</td> \n",
       "</tr>\n",
       "<tr>\n",
       "  <th>tempo_confidence</th>          <td>0.5071</td>   <td>0.1394</td>   <td>3.6386</td>  <td>0.0003</td>  <td>0.2340</td>   <td>0.7803</td> \n",
       "</tr>\n",
       "<tr>\n",
       "  <th>key</th>                       <td>0.0148</td>   <td>0.0102</td>   <td>1.4510</td>  <td>0.1468</td>  <td>-0.0052</td>  <td>0.0348</td> \n",
       "</tr>\n",
       "<tr>\n",
       "  <th>key_confidence</th>            <td>0.2808</td>   <td>0.1392</td>   <td>2.0168</td>  <td>0.0437</td>  <td>0.0079</td>   <td>0.5536</td> \n",
       "</tr>\n",
       "<tr>\n",
       "  <th>energy</th>                    <td>0.4725</td>   <td>0.2422</td>   <td>1.9508</td>  <td>0.0511</td>  <td>-0.0022</td>  <td>0.9473</td> \n",
       "</tr>\n",
       "<tr>\n",
       "  <th>pitch</th>                    <td>-57.0946</td>  <td>6.6495</td>   <td>-8.5863</td> <td>0.0000</td> <td>-70.1274</td> <td>-44.0618</td>\n",
       "</tr>\n",
       "<tr>\n",
       "  <th>timbre_0_min</th>              <td>0.0230</td>   <td>0.0042</td>   <td>5.4653</td>  <td>0.0000</td>  <td>0.0148</td>   <td>0.0312</td> \n",
       "</tr>\n",
       "<tr>\n",
       "  <th>timbre_0_max</th>              <td>-0.1258</td>  <td>0.0083</td>  <td>-15.0867</td> <td>0.0000</td>  <td>-0.1421</td>  <td>-0.1094</td>\n",
       "</tr>\n",
       "<tr>\n",
       "  <th>timbre_1_min</th>              <td>0.0071</td>   <td>0.0008</td>   <td>9.2385</td>  <td>0.0000</td>  <td>0.0056</td>   <td>0.0086</td> \n",
       "</tr>\n",
       "<tr>\n",
       "  <th>timbre_1_max</th>              <td>-0.0008</td>  <td>0.0007</td>   <td>-1.1612</td> <td>0.2456</td>  <td>-0.0022</td>  <td>0.0006</td> \n",
       "</tr>\n",
       "<tr>\n",
       "  <th>timbre_2_min</th>              <td>-0.0015</td>  <td>0.0011</td>   <td>-1.3952</td> <td>0.1630</td>  <td>-0.0037</td>  <td>0.0006</td> \n",
       "</tr>\n",
       "<tr>\n",
       "  <th>timbre_2_max</th>              <td>0.0005</td>   <td>0.0009</td>   <td>0.5542</td>  <td>0.5794</td>  <td>-0.0013</td>  <td>0.0022</td> \n",
       "</tr>\n",
       "<tr>\n",
       "  <th>timbre_3_min</th>              <td>0.0006</td>   <td>0.0006</td>   <td>1.0533</td>  <td>0.2922</td>  <td>-0.0005</td>  <td>0.0018</td> \n",
       "</tr>\n",
       "<tr>\n",
       "  <th>timbre_3_max</th>              <td>-0.0024</td>  <td>0.0006</td>   <td>-4.2837</td> <td>0.0000</td>  <td>-0.0035</td>  <td>-0.0013</td>\n",
       "</tr>\n",
       "<tr>\n",
       "  <th>timbre_4_min</th>              <td>0.0098</td>   <td>0.0019</td>   <td>5.0852</td>  <td>0.0000</td>  <td>0.0061</td>   <td>0.0136</td> \n",
       "</tr>\n",
       "<tr>\n",
       "  <th>timbre_4_max</th>              <td>0.0062</td>   <td>0.0015</td>   <td>4.0597</td>  <td>0.0000</td>  <td>0.0032</td>   <td>0.0092</td> \n",
       "</tr>\n",
       "<tr>\n",
       "  <th>timbre_5_min</th>              <td>-0.0056</td>  <td>0.0013</td>   <td>-4.4367</td> <td>0.0000</td>  <td>-0.0080</td>  <td>-0.0031</td>\n",
       "</tr>\n",
       "<tr>\n",
       "  <th>timbre_5_max</th>              <td>0.0007</td>   <td>0.0008</td>   <td>0.9223</td>  <td>0.3564</td>  <td>-0.0008</td>  <td>0.0022</td> \n",
       "</tr>\n",
       "<tr>\n",
       "  <th>timbre_6_min</th>              <td>-0.0158</td>  <td>0.0022</td>   <td>-7.0797</td> <td>0.0000</td>  <td>-0.0201</td>  <td>-0.0114</td>\n",
       "</tr>\n",
       "<tr>\n",
       "  <th>timbre_6_max</th>              <td>0.0037</td>   <td>0.0022</td>   <td>1.7161</td>  <td>0.0861</td>  <td>-0.0005</td>  <td>0.0079</td> \n",
       "</tr>\n",
       "<tr>\n",
       "  <th>timbre_7_min</th>              <td>-0.0053</td>  <td>0.0018</td>   <td>-3.0100</td> <td>0.0026</td>  <td>-0.0087</td>  <td>-0.0018</td>\n",
       "</tr>\n",
       "<tr>\n",
       "  <th>timbre_7_max</th>              <td>-0.0034</td>  <td>0.0018</td>   <td>-1.8612</td> <td>0.0627</td>  <td>-0.0069</td>  <td>0.0002</td> \n",
       "</tr>\n",
       "<tr>\n",
       "  <th>timbre_8_min</th>              <td>0.0049</td>   <td>0.0028</td>   <td>1.7555</td>  <td>0.0792</td>  <td>-0.0006</td>  <td>0.0104</td> \n",
       "</tr>\n",
       "<tr>\n",
       "  <th>timbre_8_max</th>              <td>0.0049</td>   <td>0.0029</td>   <td>1.6849</td>  <td>0.0920</td>  <td>-0.0008</td>  <td>0.0106</td> \n",
       "</tr>\n",
       "<tr>\n",
       "  <th>timbre_9_min</th>              <td>-0.0003</td>  <td>0.0030</td>   <td>-0.1102</td> <td>0.9122</td>  <td>-0.0061</td>  <td>0.0055</td> \n",
       "</tr>\n",
       "<tr>\n",
       "  <th>timbre_9_max</th>              <td>0.0031</td>   <td>0.0024</td>   <td>1.2983</td>  <td>0.1942</td>  <td>-0.0016</td>  <td>0.0077</td> \n",
       "</tr>\n",
       "<tr>\n",
       "  <th>timbre_10_min</th>             <td>0.0030</td>   <td>0.0018</td>   <td>1.6526</td>  <td>0.0984</td>  <td>-0.0006</td>  <td>0.0065</td> \n",
       "</tr>\n",
       "<tr>\n",
       "  <th>timbre_10_max</th>             <td>0.0074</td>   <td>0.0017</td>   <td>4.2739</td>  <td>0.0000</td>  <td>0.0040</td>   <td>0.0108</td> \n",
       "</tr>\n",
       "<tr>\n",
       "  <th>timbre_11_min</th>             <td>-0.0269</td>  <td>0.0036</td>   <td>-7.4852</td> <td>0.0000</td>  <td>-0.0339</td>  <td>-0.0199</td>\n",
       "</tr>\n",
       "<tr>\n",
       "  <th>timbre_11_max</th>             <td>0.0167</td>   <td>0.0033</td>   <td>5.0588</td>  <td>0.0000</td>  <td>0.0102</td>   <td>0.0232</td> \n",
       "</tr>\n",
       "</table>"
      ],
      "text/plain": [
       "<table class=\"simpletable\">\n",
       "<tr>\n",
       "        <td>Model:</td>              <td>Logit</td>      <td>Pseudo R-squared:</td>    <td>0.189</td>   \n",
       "</tr>\n",
       "<tr>\n",
       "  <td>Dependent Variable:</td>       <td>Top10</td>            <td>AIC:</td>         <td>4945.0165</td> \n",
       "</tr>\n",
       "<tr>\n",
       "         <td>Date:</td>        <td>2017-03-24 15:46</td>       <td>BIC:</td>         <td>5165.2397</td> \n",
       "</tr>\n",
       "<tr>\n",
       "   <td>No. Observations:</td>        <td>7201</td>        <td>Log-Likelihood:</td>    <td>-2440.5</td>  \n",
       "</tr>\n",
       "<tr>\n",
       "       <td>Df Model:</td>             <td>31</td>            <td>LL-Null:</td>        <td>-3008.8</td>  \n",
       "</tr>\n",
       "<tr>\n",
       "     <td>Df Residuals:</td>          <td>7169</td>         <td>LLR p-value:</td>    <td>4.3782e-219</td>\n",
       "</tr>\n",
       "<tr>\n",
       "      <td>Converged:</td>           <td>1.0000</td>           <td>Scale:</td>         <td>1.0000</td>   \n",
       "</tr>\n",
       "<tr>\n",
       "    <td>No. Iterations:</td>        <td>8.0000</td>              <td></td>               <td></td>      \n",
       "</tr>\n",
       "</table>\n",
       "<table class=\"simpletable\">\n",
       "<tr>\n",
       "              <td></td>               <th>Coef.</th>  <th>Std.Err.</th>     <th>z</th>     <th>P>|z|</th>  <th>[0.025</th>   <th>0.975]</th> \n",
       "</tr>\n",
       "<tr>\n",
       "  <th>timesignature</th>             <td>0.0616</td>   <td>0.0781</td>   <td>0.7898</td>  <td>0.4297</td>  <td>-0.0913</td>  <td>0.2146</td> \n",
       "</tr>\n",
       "<tr>\n",
       "  <th>timesignature_confidence</th>  <td>0.6740</td>   <td>0.1907</td>   <td>3.5348</td>  <td>0.0004</td>  <td>0.3003</td>   <td>1.0477</td> \n",
       "</tr>\n",
       "<tr>\n",
       "  <th>tempo</th>                     <td>-0.0010</td>  <td>0.0016</td>   <td>-0.6443</td> <td>0.5194</td>  <td>-0.0041</td>  <td>0.0021</td> \n",
       "</tr>\n",
       "<tr>\n",
       "  <th>tempo_confidence</th>          <td>0.5071</td>   <td>0.1394</td>   <td>3.6386</td>  <td>0.0003</td>  <td>0.2340</td>   <td>0.7803</td> \n",
       "</tr>\n",
       "<tr>\n",
       "  <th>key</th>                       <td>0.0148</td>   <td>0.0102</td>   <td>1.4510</td>  <td>0.1468</td>  <td>-0.0052</td>  <td>0.0348</td> \n",
       "</tr>\n",
       "<tr>\n",
       "  <th>key_confidence</th>            <td>0.2808</td>   <td>0.1392</td>   <td>2.0168</td>  <td>0.0437</td>  <td>0.0079</td>   <td>0.5536</td> \n",
       "</tr>\n",
       "<tr>\n",
       "  <th>energy</th>                    <td>0.4725</td>   <td>0.2422</td>   <td>1.9508</td>  <td>0.0511</td>  <td>-0.0022</td>  <td>0.9473</td> \n",
       "</tr>\n",
       "<tr>\n",
       "  <th>pitch</th>                    <td>-57.0946</td>  <td>6.6495</td>   <td>-8.5863</td> <td>0.0000</td> <td>-70.1274</td> <td>-44.0618</td>\n",
       "</tr>\n",
       "<tr>\n",
       "  <th>timbre_0_min</th>              <td>0.0230</td>   <td>0.0042</td>   <td>5.4653</td>  <td>0.0000</td>  <td>0.0148</td>   <td>0.0312</td> \n",
       "</tr>\n",
       "<tr>\n",
       "  <th>timbre_0_max</th>              <td>-0.1258</td>  <td>0.0083</td>  <td>-15.0867</td> <td>0.0000</td>  <td>-0.1421</td>  <td>-0.1094</td>\n",
       "</tr>\n",
       "<tr>\n",
       "  <th>timbre_1_min</th>              <td>0.0071</td>   <td>0.0008</td>   <td>9.2385</td>  <td>0.0000</td>  <td>0.0056</td>   <td>0.0086</td> \n",
       "</tr>\n",
       "<tr>\n",
       "  <th>timbre_1_max</th>              <td>-0.0008</td>  <td>0.0007</td>   <td>-1.1612</td> <td>0.2456</td>  <td>-0.0022</td>  <td>0.0006</td> \n",
       "</tr>\n",
       "<tr>\n",
       "  <th>timbre_2_min</th>              <td>-0.0015</td>  <td>0.0011</td>   <td>-1.3952</td> <td>0.1630</td>  <td>-0.0037</td>  <td>0.0006</td> \n",
       "</tr>\n",
       "<tr>\n",
       "  <th>timbre_2_max</th>              <td>0.0005</td>   <td>0.0009</td>   <td>0.5542</td>  <td>0.5794</td>  <td>-0.0013</td>  <td>0.0022</td> \n",
       "</tr>\n",
       "<tr>\n",
       "  <th>timbre_3_min</th>              <td>0.0006</td>   <td>0.0006</td>   <td>1.0533</td>  <td>0.2922</td>  <td>-0.0005</td>  <td>0.0018</td> \n",
       "</tr>\n",
       "<tr>\n",
       "  <th>timbre_3_max</th>              <td>-0.0024</td>  <td>0.0006</td>   <td>-4.2837</td> <td>0.0000</td>  <td>-0.0035</td>  <td>-0.0013</td>\n",
       "</tr>\n",
       "<tr>\n",
       "  <th>timbre_4_min</th>              <td>0.0098</td>   <td>0.0019</td>   <td>5.0852</td>  <td>0.0000</td>  <td>0.0061</td>   <td>0.0136</td> \n",
       "</tr>\n",
       "<tr>\n",
       "  <th>timbre_4_max</th>              <td>0.0062</td>   <td>0.0015</td>   <td>4.0597</td>  <td>0.0000</td>  <td>0.0032</td>   <td>0.0092</td> \n",
       "</tr>\n",
       "<tr>\n",
       "  <th>timbre_5_min</th>              <td>-0.0056</td>  <td>0.0013</td>   <td>-4.4367</td> <td>0.0000</td>  <td>-0.0080</td>  <td>-0.0031</td>\n",
       "</tr>\n",
       "<tr>\n",
       "  <th>timbre_5_max</th>              <td>0.0007</td>   <td>0.0008</td>   <td>0.9223</td>  <td>0.3564</td>  <td>-0.0008</td>  <td>0.0022</td> \n",
       "</tr>\n",
       "<tr>\n",
       "  <th>timbre_6_min</th>              <td>-0.0158</td>  <td>0.0022</td>   <td>-7.0797</td> <td>0.0000</td>  <td>-0.0201</td>  <td>-0.0114</td>\n",
       "</tr>\n",
       "<tr>\n",
       "  <th>timbre_6_max</th>              <td>0.0037</td>   <td>0.0022</td>   <td>1.7161</td>  <td>0.0861</td>  <td>-0.0005</td>  <td>0.0079</td> \n",
       "</tr>\n",
       "<tr>\n",
       "  <th>timbre_7_min</th>              <td>-0.0053</td>  <td>0.0018</td>   <td>-3.0100</td> <td>0.0026</td>  <td>-0.0087</td>  <td>-0.0018</td>\n",
       "</tr>\n",
       "<tr>\n",
       "  <th>timbre_7_max</th>              <td>-0.0034</td>  <td>0.0018</td>   <td>-1.8612</td> <td>0.0627</td>  <td>-0.0069</td>  <td>0.0002</td> \n",
       "</tr>\n",
       "<tr>\n",
       "  <th>timbre_8_min</th>              <td>0.0049</td>   <td>0.0028</td>   <td>1.7555</td>  <td>0.0792</td>  <td>-0.0006</td>  <td>0.0104</td> \n",
       "</tr>\n",
       "<tr>\n",
       "  <th>timbre_8_max</th>              <td>0.0049</td>   <td>0.0029</td>   <td>1.6849</td>  <td>0.0920</td>  <td>-0.0008</td>  <td>0.0106</td> \n",
       "</tr>\n",
       "<tr>\n",
       "  <th>timbre_9_min</th>              <td>-0.0003</td>  <td>0.0030</td>   <td>-0.1102</td> <td>0.9122</td>  <td>-0.0061</td>  <td>0.0055</td> \n",
       "</tr>\n",
       "<tr>\n",
       "  <th>timbre_9_max</th>              <td>0.0031</td>   <td>0.0024</td>   <td>1.2983</td>  <td>0.1942</td>  <td>-0.0016</td>  <td>0.0077</td> \n",
       "</tr>\n",
       "<tr>\n",
       "  <th>timbre_10_min</th>             <td>0.0030</td>   <td>0.0018</td>   <td>1.6526</td>  <td>0.0984</td>  <td>-0.0006</td>  <td>0.0065</td> \n",
       "</tr>\n",
       "<tr>\n",
       "  <th>timbre_10_max</th>             <td>0.0074</td>   <td>0.0017</td>   <td>4.2739</td>  <td>0.0000</td>  <td>0.0040</td>   <td>0.0108</td> \n",
       "</tr>\n",
       "<tr>\n",
       "  <th>timbre_11_min</th>             <td>-0.0269</td>  <td>0.0036</td>   <td>-7.4852</td> <td>0.0000</td>  <td>-0.0339</td>  <td>-0.0199</td>\n",
       "</tr>\n",
       "<tr>\n",
       "  <th>timbre_11_max</th>             <td>0.0167</td>   <td>0.0033</td>   <td>5.0588</td>  <td>0.0000</td>  <td>0.0102</td>   <td>0.0232</td> \n",
       "</tr>\n",
       "</table>"
      ]
     },
     "execution_count": 19,
     "metadata": {},
     "output_type": "execute_result"
    }
   ],
   "source": [
    "m2 = sm.Logit(y, x.drop('loudness', axis=1)).fit()\n",
    "m2.summary2()"
   ]
  },
  {
   "cell_type": "markdown",
   "metadata": {},
   "source": [
    "### Problem 3.3\n",
    "Create Model 3, which should be exactly like Model 1, but without the variable \"energy\". Inspect the coefficient of the variable \"loudness\".\n"
   ]
  },
  {
   "cell_type": "code",
   "execution_count": 20,
   "metadata": {
    "collapsed": false
   },
   "outputs": [
    {
     "name": "stdout",
     "output_type": "stream",
     "text": [
      "Optimization terminated successfully.\n         Current function value: 0.335579\n         Iterations 8\n"
     ]
    },
    {
     "data": {
      "text/html": [
       "<table class=\"simpletable\">\n",
       "<tr>\n",
       "        <td>Model:</td>              <td>Logit</td>      <td>Pseudo R-squared:</td>    <td>0.197</td>   \n",
       "</tr>\n",
       "<tr>\n",
       "  <td>Dependent Variable:</td>       <td>Top10</td>            <td>AIC:</td>         <td>4897.0075</td> \n",
       "</tr>\n",
       "<tr>\n",
       "         <td>Date:</td>        <td>2017-03-24 15:46</td>       <td>BIC:</td>         <td>5117.2307</td> \n",
       "</tr>\n",
       "<tr>\n",
       "   <td>No. Observations:</td>        <td>7201</td>        <td>Log-Likelihood:</td>    <td>-2416.5</td>  \n",
       "</tr>\n",
       "<tr>\n",
       "       <td>Df Model:</td>             <td>31</td>            <td>LL-Null:</td>        <td>-3008.8</td>  \n",
       "</tr>\n",
       "<tr>\n",
       "     <td>Df Residuals:</td>          <td>7169</td>         <td>LLR p-value:</td>    <td>2.9947e-229</td>\n",
       "</tr>\n",
       "<tr>\n",
       "      <td>Converged:</td>           <td>1.0000</td>           <td>Scale:</td>         <td>1.0000</td>   \n",
       "</tr>\n",
       "<tr>\n",
       "    <td>No. Iterations:</td>        <td>8.0000</td>              <td></td>               <td></td>      \n",
       "</tr>\n",
       "</table>\n",
       "<table class=\"simpletable\">\n",
       "<tr>\n",
       "              <td></td>               <th>Coef.</th>  <th>Std.Err.</th>     <th>z</th>     <th>P>|z|</th>  <th>[0.025</th>   <th>0.975]</th> \n",
       "</tr>\n",
       "<tr>\n",
       "  <th>timesignature</th>             <td>0.2596</td>   <td>0.0885</td>   <td>2.9325</td>  <td>0.0034</td>  <td>0.0861</td>   <td>0.4331</td> \n",
       "</tr>\n",
       "<tr>\n",
       "  <th>timesignature_confidence</th>  <td>0.7155</td>   <td>0.1954</td>   <td>3.6629</td>  <td>0.0002</td>  <td>0.3327</td>   <td>1.0984</td> \n",
       "</tr>\n",
       "<tr>\n",
       "  <th>loudness</th>                  <td>0.0728</td>   <td>0.0104</td>   <td>6.9919</td>  <td>0.0000</td>  <td>0.0524</td>   <td>0.0932</td> \n",
       "</tr>\n",
       "<tr>\n",
       "  <th>tempo</th>                     <td>0.0016</td>   <td>0.0016</td>   <td>1.0026</td>  <td>0.3161</td>  <td>-0.0016</td>  <td>0.0048</td> \n",
       "</tr>\n",
       "<tr>\n",
       "  <th>tempo_confidence</th>          <td>0.5247</td>   <td>0.1388</td>   <td>3.7794</td>  <td>0.0002</td>  <td>0.2526</td>   <td>0.7968</td> \n",
       "</tr>\n",
       "<tr>\n",
       "  <th>key</th>                       <td>0.0198</td>   <td>0.0103</td>   <td>1.9269</td>  <td>0.0540</td>  <td>-0.0003</td>  <td>0.0400</td> \n",
       "</tr>\n",
       "<tr>\n",
       "  <th>key_confidence</th>            <td>0.3303</td>   <td>0.1400</td>   <td>2.3587</td>  <td>0.0183</td>  <td>0.0558</td>   <td>0.6047</td> \n",
       "</tr>\n",
       "<tr>\n",
       "  <th>pitch</th>                    <td>-47.5322</td>  <td>6.5972</td>   <td>-7.2049</td> <td>0.0000</td> <td>-60.4625</td> <td>-34.6020</td>\n",
       "</tr>\n",
       "<tr>\n",
       "  <th>timbre_0_min</th>              <td>0.0255</td>   <td>0.0042</td>   <td>6.0752</td>  <td>0.0000</td>  <td>0.0173</td>   <td>0.0337</td> \n",
       "</tr>\n",
       "<tr>\n",
       "  <th>timbre_0_max</th>              <td>-0.1453</td>  <td>0.0082</td>  <td>-17.6201</td> <td>0.0000</td>  <td>-0.1615</td>  <td>-0.1292</td>\n",
       "</tr>\n",
       "<tr>\n",
       "  <th>timbre_1_min</th>              <td>0.0065</td>   <td>0.0008</td>   <td>8.5626</td>  <td>0.0000</td>  <td>0.0050</td>   <td>0.0080</td> \n",
       "</tr>\n",
       "<tr>\n",
       "  <th>timbre_1_max</th>              <td>-0.0007</td>  <td>0.0007</td>   <td>-0.9827</td> <td>0.3257</td>  <td>-0.0021</td>  <td>0.0007</td> \n",
       "</tr>\n",
       "<tr>\n",
       "  <th>timbre_2_min</th>              <td>-0.0019</td>  <td>0.0011</td>   <td>-1.6658</td> <td>0.0958</td>  <td>-0.0040</td>  <td>0.0003</td> \n",
       "</tr>\n",
       "<tr>\n",
       "  <th>timbre_2_max</th>              <td>0.0002</td>   <td>0.0009</td>   <td>0.2774</td>  <td>0.7814</td>  <td>-0.0015</td>  <td>0.0020</td> \n",
       "</tr>\n",
       "<tr>\n",
       "  <th>timbre_3_min</th>              <td>0.0005</td>   <td>0.0006</td>   <td>0.8564</td>  <td>0.3918</td>  <td>-0.0006</td>  <td>0.0017</td> \n",
       "</tr>\n",
       "<tr>\n",
       "  <th>timbre_3_max</th>              <td>-0.0027</td>  <td>0.0006</td>   <td>-4.7066</td> <td>0.0000</td>  <td>-0.0038</td>  <td>-0.0016</td>\n",
       "</tr>\n",
       "<tr>\n",
       "  <th>timbre_4_min</th>              <td>0.0091</td>   <td>0.0019</td>   <td>4.6889</td>  <td>0.0000</td>  <td>0.0053</td>   <td>0.0129</td> \n",
       "</tr>\n",
       "<tr>\n",
       "  <th>timbre_4_max</th>              <td>0.0065</td>   <td>0.0015</td>   <td>4.2179</td>  <td>0.0000</td>  <td>0.0035</td>   <td>0.0095</td> \n",
       "</tr>\n",
       "<tr>\n",
       "  <th>timbre_5_min</th>              <td>-0.0055</td>  <td>0.0013</td>   <td>-4.3623</td> <td>0.0000</td>  <td>-0.0079</td>  <td>-0.0030</td>\n",
       "</tr>\n",
       "<tr>\n",
       "  <th>timbre_5_max</th>              <td>0.0006</td>   <td>0.0008</td>   <td>0.7132</td>  <td>0.4757</td>  <td>-0.0010</td>  <td>0.0021</td> \n",
       "</tr>\n",
       "<tr>\n",
       "  <th>timbre_6_min</th>              <td>-0.0173</td>  <td>0.0022</td>   <td>-7.7238</td> <td>0.0000</td>  <td>-0.0216</td>  <td>-0.0129</td>\n",
       "</tr>\n",
       "<tr>\n",
       "  <th>timbre_6_max</th>              <td>0.0038</td>   <td>0.0022</td>   <td>1.7455</td>  <td>0.0809</td>  <td>-0.0005</td>  <td>0.0080</td> \n",
       "</tr>\n",
       "<tr>\n",
       "  <th>timbre_7_min</th>              <td>-0.0050</td>  <td>0.0018</td>   <td>-2.8559</td> <td>0.0043</td>  <td>-0.0085</td>  <td>-0.0016</td>\n",
       "</tr>\n",
       "<tr>\n",
       "  <th>timbre_7_max</th>              <td>-0.0030</td>  <td>0.0018</td>   <td>-1.6307</td> <td>0.1029</td>  <td>-0.0065</td>  <td>0.0006</td> \n",
       "</tr>\n",
       "<tr>\n",
       "  <th>timbre_8_min</th>              <td>0.0037</td>   <td>0.0028</td>   <td>1.3175</td>  <td>0.1877</td>  <td>-0.0018</td>  <td>0.0092</td> \n",
       "</tr>\n",
       "<tr>\n",
       "  <th>timbre_8_max</th>              <td>0.0075</td>   <td>0.0029</td>   <td>2.5636</td>  <td>0.0104</td>  <td>0.0018</td>   <td>0.0133</td> \n",
       "</tr>\n",
       "<tr>\n",
       "  <th>timbre_9_min</th>              <td>-0.0006</td>  <td>0.0029</td>   <td>-0.2096</td> <td>0.8339</td>  <td>-0.0064</td>  <td>0.0052</td> \n",
       "</tr>\n",
       "<tr>\n",
       "  <th>timbre_9_max</th>              <td>0.0032</td>   <td>0.0024</td>   <td>1.3465</td>  <td>0.1781</td>  <td>-0.0015</td>  <td>0.0079</td> \n",
       "</tr>\n",
       "<tr>\n",
       "  <th>timbre_10_min</th>             <td>0.0034</td>   <td>0.0018</td>   <td>1.8668</td>  <td>0.0619</td>  <td>-0.0002</td>  <td>0.0069</td> \n",
       "</tr>\n",
       "<tr>\n",
       "  <th>timbre_10_max</th>             <td>0.0068</td>   <td>0.0017</td>   <td>3.8869</td>  <td>0.0001</td>  <td>0.0034</td>   <td>0.0102</td> \n",
       "</tr>\n",
       "<tr>\n",
       "  <th>timbre_11_min</th>             <td>-0.0293</td>  <td>0.0036</td>   <td>-8.0660</td> <td>0.0000</td>  <td>-0.0364</td>  <td>-0.0222</td>\n",
       "</tr>\n",
       "<tr>\n",
       "  <th>timbre_11_max</th>             <td>0.0206</td>   <td>0.0033</td>   <td>6.1446</td>  <td>0.0000</td>  <td>0.0140</td>   <td>0.0271</td> \n",
       "</tr>\n",
       "</table>"
      ],
      "text/plain": [
       "<table class=\"simpletable\">\n",
       "<tr>\n",
       "        <td>Model:</td>              <td>Logit</td>      <td>Pseudo R-squared:</td>    <td>0.197</td>   \n",
       "</tr>\n",
       "<tr>\n",
       "  <td>Dependent Variable:</td>       <td>Top10</td>            <td>AIC:</td>         <td>4897.0075</td> \n",
       "</tr>\n",
       "<tr>\n",
       "         <td>Date:</td>        <td>2017-03-24 15:46</td>       <td>BIC:</td>         <td>5117.2307</td> \n",
       "</tr>\n",
       "<tr>\n",
       "   <td>No. Observations:</td>        <td>7201</td>        <td>Log-Likelihood:</td>    <td>-2416.5</td>  \n",
       "</tr>\n",
       "<tr>\n",
       "       <td>Df Model:</td>             <td>31</td>            <td>LL-Null:</td>        <td>-3008.8</td>  \n",
       "</tr>\n",
       "<tr>\n",
       "     <td>Df Residuals:</td>          <td>7169</td>         <td>LLR p-value:</td>    <td>2.9947e-229</td>\n",
       "</tr>\n",
       "<tr>\n",
       "      <td>Converged:</td>           <td>1.0000</td>           <td>Scale:</td>         <td>1.0000</td>   \n",
       "</tr>\n",
       "<tr>\n",
       "    <td>No. Iterations:</td>        <td>8.0000</td>              <td></td>               <td></td>      \n",
       "</tr>\n",
       "</table>\n",
       "<table class=\"simpletable\">\n",
       "<tr>\n",
       "              <td></td>               <th>Coef.</th>  <th>Std.Err.</th>     <th>z</th>     <th>P>|z|</th>  <th>[0.025</th>   <th>0.975]</th> \n",
       "</tr>\n",
       "<tr>\n",
       "  <th>timesignature</th>             <td>0.2596</td>   <td>0.0885</td>   <td>2.9325</td>  <td>0.0034</td>  <td>0.0861</td>   <td>0.4331</td> \n",
       "</tr>\n",
       "<tr>\n",
       "  <th>timesignature_confidence</th>  <td>0.7155</td>   <td>0.1954</td>   <td>3.6629</td>  <td>0.0002</td>  <td>0.3327</td>   <td>1.0984</td> \n",
       "</tr>\n",
       "<tr>\n",
       "  <th>loudness</th>                  <td>0.0728</td>   <td>0.0104</td>   <td>6.9919</td>  <td>0.0000</td>  <td>0.0524</td>   <td>0.0932</td> \n",
       "</tr>\n",
       "<tr>\n",
       "  <th>tempo</th>                     <td>0.0016</td>   <td>0.0016</td>   <td>1.0026</td>  <td>0.3161</td>  <td>-0.0016</td>  <td>0.0048</td> \n",
       "</tr>\n",
       "<tr>\n",
       "  <th>tempo_confidence</th>          <td>0.5247</td>   <td>0.1388</td>   <td>3.7794</td>  <td>0.0002</td>  <td>0.2526</td>   <td>0.7968</td> \n",
       "</tr>\n",
       "<tr>\n",
       "  <th>key</th>                       <td>0.0198</td>   <td>0.0103</td>   <td>1.9269</td>  <td>0.0540</td>  <td>-0.0003</td>  <td>0.0400</td> \n",
       "</tr>\n",
       "<tr>\n",
       "  <th>key_confidence</th>            <td>0.3303</td>   <td>0.1400</td>   <td>2.3587</td>  <td>0.0183</td>  <td>0.0558</td>   <td>0.6047</td> \n",
       "</tr>\n",
       "<tr>\n",
       "  <th>pitch</th>                    <td>-47.5322</td>  <td>6.5972</td>   <td>-7.2049</td> <td>0.0000</td> <td>-60.4625</td> <td>-34.6020</td>\n",
       "</tr>\n",
       "<tr>\n",
       "  <th>timbre_0_min</th>              <td>0.0255</td>   <td>0.0042</td>   <td>6.0752</td>  <td>0.0000</td>  <td>0.0173</td>   <td>0.0337</td> \n",
       "</tr>\n",
       "<tr>\n",
       "  <th>timbre_0_max</th>              <td>-0.1453</td>  <td>0.0082</td>  <td>-17.6201</td> <td>0.0000</td>  <td>-0.1615</td>  <td>-0.1292</td>\n",
       "</tr>\n",
       "<tr>\n",
       "  <th>timbre_1_min</th>              <td>0.0065</td>   <td>0.0008</td>   <td>8.5626</td>  <td>0.0000</td>  <td>0.0050</td>   <td>0.0080</td> \n",
       "</tr>\n",
       "<tr>\n",
       "  <th>timbre_1_max</th>              <td>-0.0007</td>  <td>0.0007</td>   <td>-0.9827</td> <td>0.3257</td>  <td>-0.0021</td>  <td>0.0007</td> \n",
       "</tr>\n",
       "<tr>\n",
       "  <th>timbre_2_min</th>              <td>-0.0019</td>  <td>0.0011</td>   <td>-1.6658</td> <td>0.0958</td>  <td>-0.0040</td>  <td>0.0003</td> \n",
       "</tr>\n",
       "<tr>\n",
       "  <th>timbre_2_max</th>              <td>0.0002</td>   <td>0.0009</td>   <td>0.2774</td>  <td>0.7814</td>  <td>-0.0015</td>  <td>0.0020</td> \n",
       "</tr>\n",
       "<tr>\n",
       "  <th>timbre_3_min</th>              <td>0.0005</td>   <td>0.0006</td>   <td>0.8564</td>  <td>0.3918</td>  <td>-0.0006</td>  <td>0.0017</td> \n",
       "</tr>\n",
       "<tr>\n",
       "  <th>timbre_3_max</th>              <td>-0.0027</td>  <td>0.0006</td>   <td>-4.7066</td> <td>0.0000</td>  <td>-0.0038</td>  <td>-0.0016</td>\n",
       "</tr>\n",
       "<tr>\n",
       "  <th>timbre_4_min</th>              <td>0.0091</td>   <td>0.0019</td>   <td>4.6889</td>  <td>0.0000</td>  <td>0.0053</td>   <td>0.0129</td> \n",
       "</tr>\n",
       "<tr>\n",
       "  <th>timbre_4_max</th>              <td>0.0065</td>   <td>0.0015</td>   <td>4.2179</td>  <td>0.0000</td>  <td>0.0035</td>   <td>0.0095</td> \n",
       "</tr>\n",
       "<tr>\n",
       "  <th>timbre_5_min</th>              <td>-0.0055</td>  <td>0.0013</td>   <td>-4.3623</td> <td>0.0000</td>  <td>-0.0079</td>  <td>-0.0030</td>\n",
       "</tr>\n",
       "<tr>\n",
       "  <th>timbre_5_max</th>              <td>0.0006</td>   <td>0.0008</td>   <td>0.7132</td>  <td>0.4757</td>  <td>-0.0010</td>  <td>0.0021</td> \n",
       "</tr>\n",
       "<tr>\n",
       "  <th>timbre_6_min</th>              <td>-0.0173</td>  <td>0.0022</td>   <td>-7.7238</td> <td>0.0000</td>  <td>-0.0216</td>  <td>-0.0129</td>\n",
       "</tr>\n",
       "<tr>\n",
       "  <th>timbre_6_max</th>              <td>0.0038</td>   <td>0.0022</td>   <td>1.7455</td>  <td>0.0809</td>  <td>-0.0005</td>  <td>0.0080</td> \n",
       "</tr>\n",
       "<tr>\n",
       "  <th>timbre_7_min</th>              <td>-0.0050</td>  <td>0.0018</td>   <td>-2.8559</td> <td>0.0043</td>  <td>-0.0085</td>  <td>-0.0016</td>\n",
       "</tr>\n",
       "<tr>\n",
       "  <th>timbre_7_max</th>              <td>-0.0030</td>  <td>0.0018</td>   <td>-1.6307</td> <td>0.1029</td>  <td>-0.0065</td>  <td>0.0006</td> \n",
       "</tr>\n",
       "<tr>\n",
       "  <th>timbre_8_min</th>              <td>0.0037</td>   <td>0.0028</td>   <td>1.3175</td>  <td>0.1877</td>  <td>-0.0018</td>  <td>0.0092</td> \n",
       "</tr>\n",
       "<tr>\n",
       "  <th>timbre_8_max</th>              <td>0.0075</td>   <td>0.0029</td>   <td>2.5636</td>  <td>0.0104</td>  <td>0.0018</td>   <td>0.0133</td> \n",
       "</tr>\n",
       "<tr>\n",
       "  <th>timbre_9_min</th>              <td>-0.0006</td>  <td>0.0029</td>   <td>-0.2096</td> <td>0.8339</td>  <td>-0.0064</td>  <td>0.0052</td> \n",
       "</tr>\n",
       "<tr>\n",
       "  <th>timbre_9_max</th>              <td>0.0032</td>   <td>0.0024</td>   <td>1.3465</td>  <td>0.1781</td>  <td>-0.0015</td>  <td>0.0079</td> \n",
       "</tr>\n",
       "<tr>\n",
       "  <th>timbre_10_min</th>             <td>0.0034</td>   <td>0.0018</td>   <td>1.8668</td>  <td>0.0619</td>  <td>-0.0002</td>  <td>0.0069</td> \n",
       "</tr>\n",
       "<tr>\n",
       "  <th>timbre_10_max</th>             <td>0.0068</td>   <td>0.0017</td>   <td>3.8869</td>  <td>0.0001</td>  <td>0.0034</td>   <td>0.0102</td> \n",
       "</tr>\n",
       "<tr>\n",
       "  <th>timbre_11_min</th>             <td>-0.0293</td>  <td>0.0036</td>   <td>-8.0660</td> <td>0.0000</td>  <td>-0.0364</td>  <td>-0.0222</td>\n",
       "</tr>\n",
       "<tr>\n",
       "  <th>timbre_11_max</th>             <td>0.0206</td>   <td>0.0033</td>   <td>6.1446</td>  <td>0.0000</td>  <td>0.0140</td>   <td>0.0271</td> \n",
       "</tr>\n",
       "</table>"
      ]
     },
     "execution_count": 20,
     "metadata": {},
     "output_type": "execute_result"
    }
   ],
   "source": [
    "m3 = sm.Logit(y, x.drop('energy', axis=1)).fit()\n",
    "m3.summary2()"
   ]
  },
  {
   "cell_type": "markdown",
   "metadata": {},
   "source": [
    "### Problem 4.1\n",
    "What is the accuracy of Model 3 on the test set, using a threshold of 0.45?"
   ]
  },
  {
   "cell_type": "code",
   "execution_count": 21,
   "metadata": {},
   "outputs": [],
   "source": [
    "# first, lets get the predictions \n",
    "m3_predict = m3.predict(songs_test.drop(['Top10', 'energy'], axis=1))"
   ]
  },
  {
   "cell_type": "code",
   "execution_count": 25,
   "metadata": {
    "collapsed": false
   },
   "outputs": [
    {
     "data": {
      "text/plain": [
       "array([[309,   5],\n       [ 44,  15]])"
      ]
     },
     "execution_count": 25,
     "metadata": {},
     "output_type": "execute_result"
    }
   ],
   "source": [
    "from sklearn.metrics import confusion_matrix\n",
    "\n",
    "thresh = 0.45\n",
    "con_matx = confusion_matrix(songs_test['Top10'].values, m3_predict > thresh)\n",
    "con_matx"
   ]
  },
  {
   "cell_type": "code",
   "execution_count": 26,
   "metadata": {},
   "outputs": [
    {
     "data": {
      "text/plain": [
       "0.86863270777479895"
      ]
     },
     "execution_count": 26,
     "metadata": {},
     "output_type": "execute_result"
    }
   ],
   "source": [
    "# accuracy = (TP + TN) /  (P + N) <- all results\n",
    "accuracy = con_matx.trace() / songs_test['Top10'].count()\n",
    "accuracy"
   ]
  },
  {
   "cell_type": "markdown",
   "metadata": {},
   "source": [
    "### Problem 4.2\n",
    "Define a base line: pick the most frequent outcome (a song is not a Top 10 hit) for all songs. Or in nother words - simply assume that all songs are not in the Top10."
   ]
  },
  {
   "cell_type": "markdown",
   "metadata": {},
   "source": [
    "Answer: if we assume that, we will have mostly True negatives and no True positives"
   ]
  },
  {
   "cell_type": "code",
   "execution_count": 27,
   "metadata": {},
   "outputs": [
    {
     "data": {
      "text/plain": [
       "0.8418230563002681"
      ]
     },
     "execution_count": 27,
     "metadata": {},
     "output_type": "execute_result"
    }
   ],
   "source": [
    "baseline_accuracy = (1 - songs_test['Top10'].values).sum()/songs_test['Top10'].count()\n",
    "baseline_accuracy"
   ]
  },
  {
   "cell_type": "markdown",
   "metadata": {},
   "source": [
    "### Problem 4.3\n",
    "How many songs does Model 3 correctly predict as Top 10 hits in 2010 (remember that all songs in 2010 went into our test set), using a threshold of 0.45?"
   ]
  },
  {
   "cell_type": "markdown",
   "metadata": {},
   "source": [
    "Answer: we are looking for the number of True Positives(TP), which is in the confusion matrix we calculated before:"
   ]
  },
  {
   "cell_type": "code",
   "execution_count": 28,
   "metadata": {},
   "outputs": [
    {
     "data": {
      "text/plain": [
       "15"
      ]
     },
     "execution_count": 28,
     "metadata": {},
     "output_type": "execute_result"
    }
   ],
   "source": [
    "con_matx[1, 1]"
   ]
  },
  {
   "cell_type": "markdown",
   "metadata": {},
   "source": [
    "Part 2: How many non-hit songs does Model 3 predict will be Top 10 hits (again, looking at the test set), using a threshold of 0.45?"
   ]
  },
  {
   "cell_type": "markdown",
   "metadata": {},
   "source": [
    "Answer: we are looking for the number of False Positives(TP), which is in the confusion matrix we calculated before:"
   ]
  },
  {
   "cell_type": "code",
   "execution_count": 29,
   "metadata": {},
   "outputs": [
    {
     "data": {
      "text/plain": [
       "44"
      ]
     },
     "execution_count": 29,
     "metadata": {},
     "output_type": "execute_result"
    }
   ],
   "source": [
    "con_matx[1, 0]"
   ]
  },
  {
   "cell_type": "markdown",
   "metadata": {},
   "source": [
    "### Problem 4.4 \n",
    "A. What is the sensitivity of Model 3 on the test set, using a threshold of 0.45?\n",
    "B. What is the specificity of Model 3 on the test set, using a threshold of 0.45?"
   ]
  },
  {
   "cell_type": "code",
   "execution_count": 30,
   "metadata": {},
   "outputs": [
    {
     "data": {
      "text/plain": [
       "0.25423728813559321"
      ]
     },
     "execution_count": 30,
     "metadata": {},
     "output_type": "execute_result"
    }
   ],
   "source": [
    "# sensitivity = TP/P = TP/(TP + FN)\n",
    "con_matx[1, 1] / (con_matx[1, 1] + con_matx[1, 0])"
   ]
  },
  {
   "cell_type": "code",
   "execution_count": 31,
   "metadata": {},
   "outputs": [
    {
     "data": {
      "text/plain": [
       "0.98407643312101911"
      ]
     },
     "execution_count": 31,
     "metadata": {},
     "output_type": "execute_result"
    }
   ],
   "source": [
    "# specificity = TN/N = TN/(TN + FP)\n",
    "con_matx[0, 0] / (con_matx[0, 0] + con_matx[0, 1])"
   ]
  },
  {
   "cell_type": "markdown",
   "metadata": {},
   "source": [
    "### Problem 4.5 - My thoughts on this model\n",
    "The model is very conservative. It under-predicts a song entering the \"Top10\" however, it more-or-less able to predict that a song would not enter the \"Top10\".\n",
    "\n",
    "This can be imporved by lowering the threshold "
   ]
  },
  {
   "cell_type": "code",
   "execution_count": 32,
   "metadata": {},
   "outputs": [],
   "source": [
    ""
   ]
  },
  {
   "cell_type": "code",
   "execution_count": 32,
   "metadata": {},
   "outputs": [],
   "source": [
    ""
   ]
  },
  {
   "cell_type": "code",
   "execution_count": 32,
   "metadata": {},
   "outputs": [],
   "source": [
    ""
   ]
  },
  {
   "cell_type": "code",
   "execution_count": 32,
   "metadata": {},
   "outputs": [],
   "source": [
    ""
   ]
  },
  {
   "cell_type": "code",
   "execution_count": null,
   "metadata": {},
   "outputs": [],
   "source": [
    ""
   ]
  }
 ],
 "metadata": {
  "kernelspec": {
   "display_name": "Python 2",
   "language": "python",
   "name": "python2"
  },
  "language_info": {
   "codemirror_mode": {
    "name": "ipython",
    "version": 2.0
   },
   "file_extension": ".py",
   "mimetype": "text/x-python",
   "name": "python",
   "nbconvert_exporter": "python",
   "pygments_lexer": "ipython2",
   "version": "2.7.6"
  }
 },
 "nbformat": 4,
 "nbformat_minor": 0
}