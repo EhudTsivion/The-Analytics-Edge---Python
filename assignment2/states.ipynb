{
 "cells": [
  {
   "cell_type": "code",
   "execution_count": 27,
   "metadata": {
    "collapsed": true
   },
   "outputs": [],
   "source": [
    "import os\n",
    "import numpy as np\n",
    "import pandas as pd\n",
    "if not os.getcwd().endswith('assignment2'):\n",
    "    os.chdir(os.path.join('Unit2', 'assignment2'))\n",
    "statedata = pd.read_csv('statedata.csv')"
   ]
  },
  {
   "cell_type": "code",
   "execution_count": 54,
   "metadata": {},
   "outputs": [],
   "source": [
    "%matplotlib inline \n",
    "import seaborn as sns\n",
    "sns.set_style(\"darkgrid\")"
   ]
  },
  {
   "cell_type": "code",
   "execution_count": 62,
   "metadata": {},
   "outputs": [
    {
     "name": "stdout",
     "output_type": "stream",
     "text": [
      "<class 'pandas.core.frame.DataFrame'>\nRangeIndex: 50 entries, 0 to 49\nData columns (total 15 columns):\nPopulation        50 non-null int64\nIncome            50 non-null int64\nIlliteracy        50 non-null float64\nLife.Exp          50 non-null float64\nMurder            50 non-null float64\nHS.Grad           50 non-null float64\nFrost             50 non-null int64\nArea              50 non-null int64\nstate.abb         50 non-null object\nstate.area        50 non-null int64\nx                 50 non-null float64\ny                 50 non-null float64\nstate.division    50 non-null object\nstate.name        50 non-null object\nstate.region      50 non-null object\ndtypes: float64(6), int64(5), object(4)\nmemory usage: 5.9+ KB\n"
     ]
    }
   ],
   "source": [
    "statedata.info()"
   ]
  },
  {
   "cell_type": "markdown",
   "metadata": {},
   "source": [
    "### Problem 1.2 \n",
    "Plot the x vs y coordiates of the state's center (should somewhat resemble a map)."
   ]
  },
  {
   "cell_type": "code",
   "execution_count": 61,
   "metadata": {},
   "outputs": [
    {
     "data": {
      "image/png": "[encoded data removed]",
      "text/plain": [
       "<matplotlib.figure.Figure at 0x17471c296d8>"
      ]
     },
     "metadata": {},
     "output_type": "display_data"
    }
   ],
   "source": [
    "ax = sns.lmplot(x=\"x\", y=\"y\", data=statedata, fit_reg=False)"
   ]
  },
  {
   "cell_type": "markdown",
   "metadata": {},
   "source": [
    "### Problem 1.2 \n",
    "which region of the US (West, North Central, South, or Northeast) has the highest average high school graduation rate of all the states in the region\n"
   ]
  },
  {
   "cell_type": "code",
   "execution_count": 66,
   "metadata": {},
   "outputs": [
    {
     "data": {
      "text/plain": [
       "state.region\nNorth Central    54.516667\nNortheast        53.966667\nSouth            44.343750\nWest             62.000000\nName: HS.Grad, dtype: float64"
      ]
     },
     "execution_count": 66,
     "metadata": {},
     "output_type": "execute_result"
    }
   ],
   "source": [
    "statedata.groupby(['state.region'])['HS.Grad'].mean()"
   ]
  },
  {
   "cell_type": "markdown",
   "metadata": {},
   "source": [
    "### Problem 1.3\n",
    "Create a box plot of the murder rate by region. Which has the highes median murder rate?"
   ]
  },
  {
   "cell_type": "markdown",
   "metadata": {},
   "source": [
    "Let's first look at the statistics, without the box plot:"
   ]
  },
  {
   "cell_type": "code",
   "execution_count": 67,
   "metadata": {},
   "outputs": [
    {
     "data": {
      "text/plain": [
       "state.region\nNorth Central     3.75\nNortheast         3.30\nSouth            10.85\nWest              6.80\nName: Murder, dtype: float64"
      ]
     },
     "execution_count": 67,
     "metadata": {},
     "output_type": "execute_result"
    }
   ],
   "source": [
    "statedata.groupby(['state.region'])['Murder'].median()"
   ]
  },
  {
   "cell_type": "markdown",
   "metadata": {},
   "source": [
    "The south obviously has the highest meadian murder rate. Now let's make a box plot"
   ]
  },
  {
   "cell_type": "code",
   "execution_count": 72,
   "metadata": {
    "collapsed": true
   },
   "outputs": [
    {
     "data": {
      "text/plain": [
       "<matplotlib.axes._subplots.AxesSubplot at 0x17471cc0cc0>"
      ]
     },
     "execution_count": 72,
     "metadata": {},
     "output_type": "execute_result"
    },
    {
     "data": {
      "image/png": "[encoded data removed]",
      "text/plain": [
       "<matplotlib.figure.Figure at 0x17471c61be0>"
      ]
     },
     "metadata": {},
     "output_type": "display_data"
    }
   ],
   "source": [
    "sns.boxplot(x=\"state.region\", y=\"Murder\", data=statedata)"
   ]
  },
  {
   "cell_type": "markdown",
   "metadata": {},
   "source": [
    "### Problem 1.4\n",
    "Which state corresponds to the outlier in the box plot?"
   ]
  },
  {
   "cell_type": "code",
   "execution_count": 173,
   "metadata": {},
   "outputs": [
    {
     "data": {
      "text/plain": [
       "'New York'"
      ]
     },
     "execution_count": 173,
     "metadata": {},
     "output_type": "execute_result"
    }
   ],
   "source": [
    "northeast_states = statedata[statedata['state.region'] == 'Northeast']\n",
    "northeast_states.loc[northeast_states['Murder'].idxmax()]['state.name']"
   ]
  },
  {
   "cell_type": "markdown",
   "metadata": {},
   "source": [
    "## Section 2\n",
    "### Problem 2.1\n",
    "Make a linear model for predicting life expectancy using Population, Income, Illiteracy, Murder, HS.Grad, Frost, and Area. What is the coefficient for \"Income\" ?"
   ]
  },
  {
   "cell_type": "code",
   "execution_count": 174,
   "metadata": {},
   "outputs": [],
   "source": [
    "from sklearn.linear_model import LinearRegression as lreg"
   ]
  },
  {
   "cell_type": "markdown",
   "metadata": {},
   "source": [
    "Prepare the data for Scikit"
   ]
  },
  {
   "cell_type": "code",
   "execution_count": 267,
   "metadata": {},
   "outputs": [],
   "source": [
    "life_exp = statedata['Life.Exp'].values.reshape(-1, 1)\n",
    "descriptors_list1 = ['Population', 'Income', 'Illiteracy', 'Murder', 'HS.Grad', 'Frost', 'Area']\n",
    "descriptors = statedata[descriptors_list1].values"
   ]
  },
  {
   "cell_type": "code",
   "execution_count": 268,
   "metadata": {},
   "outputs": [],
   "source": [
    "lexp_mod1 = lreg().fit(X=descriptors, y=life_exp)"
   ]
  },
  {
   "cell_type": "markdown",
   "metadata": {},
   "source": [
    "To see the coefficient of income, let's look at the second coefficient:"
   ]
  },
  {
   "cell_type": "code",
   "execution_count": 269,
   "metadata": {
    "collapsed": true
   },
   "outputs": [
    {
     "data": {
      "text/plain": [
       "-2.1804237825303935e-05"
      ]
     },
     "execution_count": 269,
     "metadata": {},
     "output_type": "execute_result"
    }
   ],
   "source": [
    "lexp_mod1.coef_[0, 1]"
   ]
  },
  {
   "cell_type": "markdown",
   "metadata": {},
   "source": [
    "## Problem 2.2\n",
    "This is a Qualitative question. Will not be answered here.  "
   ]
  },
  {
   "cell_type": "markdown",
   "metadata": {},
   "source": [
    "## Problem 2.3\n",
    "By plotting life expectancy vs. income, what is the relationship between them?"
   ]
  },
  {
   "cell_type": "code",
   "execution_count": 386,
   "metadata": {},
   "outputs": [
    {
     "data": {
      "image/png": "[encoded data removed]",
      "text/plain": [
       "<matplotlib.figure.Figure at 0x17473c2aa90>"
      ]
     },
     "metadata": {},
     "output_type": "display_data"
    }
   ],
   "source": [
    "ax = sns.lmplot(x=\"Income\", y=\"Life.Exp\", data=statedata)"
   ]
  },
  {
   "cell_type": "markdown",
   "metadata": {},
   "source": [
    "Life expectancy seem to be positivley correlated with income.\n",
    "## Section 3\n",
    "### Problem 3.1\n"
   ]
  },
  {
   "cell_type": "code",
   "execution_count": 271,
   "metadata": {},
   "outputs": [],
   "source": [
    "from sklearn.feature_selection import f_regression, f_classif, mutual_info_regression, RFE"
   ]
  },
  {
   "cell_type": "markdown",
   "metadata": {},
   "source": [
    "We will use the \"recursive feature elimination\" or RFE from scikit learn, to obtain the important features:"
   ]
  },
  {
   "cell_type": "code",
   "execution_count": 272,
   "metadata": {
    "collapsed": false
   },
   "outputs": [
    {
     "data": {
      "text/plain": [
       "array(['Illiteracy', 'Murder', 'HS.Grad', 'Frost'], \n      dtype='<U10')"
      ]
     },
     "execution_count": 272,
     "metadata": {},
     "output_type": "execute_result"
    }
   ],
   "source": [
    "selector = RFE(lexp_mod1, n_features_to_select=4)\n",
    "life_exp[:, 0]\n",
    "selector = selector.fit(X=descriptors, y=life_exp[:, 0])\n",
    "np.array(descriptors_list1)[selector.support_]"
   ]
  },
  {
   "cell_type": "markdown",
   "metadata": {},
   "source": [
    "Which seems to not agree with the official solution of \"Population, Murder, Frost, HS.Grad\". Just to make sure, we will also use the \"Univariate linear regression test\" which agrees with previous determination. "
   ]
  },
  {
   "cell_type": "code",
   "execution_count": 273,
   "metadata": {},
   "outputs": [
    {
     "data": {
      "text/plain": [
       "(array([  0.22332551,   6.28474562,  25.42888224,  74.98865153,\n         24.61457799,   3.53973023,   0.55941143]),\n array([  6.38659369e-01,   1.56172816e-02,   6.96925047e-06,\n          2.26007029e-11,   9.19609565e-06,   6.59874037e-02,\n          4.58146418e-01]))"
      ]
     },
     "execution_count": 273,
     "metadata": {},
     "output_type": "execute_result"
    }
   ],
   "source": [
    "f_regression(X=descriptors, y=life_exp[:, 0])"
   ]
  },
  {
   "cell_type": "markdown",
   "metadata": {},
   "source": [
    "It's interesting to see which model is better."
   ]
  },
  {
   "cell_type": "code",
   "execution_count": 384,
   "metadata": {},
   "outputs": [],
   "source": [
    "edx_vars = ['Population', 'Murder', 'Frost', 'HS.Grad']\n",
    "skl_vars = ['Illiteracy', 'Murder', 'Frost', 'HS.Grad']\n",
    "\n",
    "edx_descriptors = statedata[edx_vars].values\n",
    "skl_descriptors = statedata[skl_vars].values\n",
    "\n",
    "edx_reg_mod = lreg().fit(X=edx_descriptors, y=life_exp)\n",
    "skl_reg_mod = lreg().fit(X=skl_descriptors, y=life_exp)"
   ]
  },
  {
   "cell_type": "markdown",
   "metadata": {},
   "source": [
    " Let's compare the quality of predictions:"
   ]
  },
  {
   "cell_type": "code",
   "execution_count": 385,
   "metadata": {
    "collapsed": false
   },
   "outputs": [
    {
     "name": "stdout",
     "output_type": "stream",
     "text": [
      "R2 for edx: 0.74, for skl: 0.71\n"
     ]
    }
   ],
   "source": [
    "edx_reg_score = edx_reg_mod.score(X=edx_descriptors, y=life_exp)\n",
    "skl_reg_score = skl_reg_mod.score(X=skl_descriptors, y=life_exp)\n",
    "print('R2 for edx: {:0.2f}, for skl: {:0.2f}'.format(edx_reg_score, skl_reg_score))"
   ]
  },
  {
   "cell_type": "markdown",
   "metadata": {},
   "source": [
    "edx ($R^2 = 0.74$) is slightly better the skl ($R^2 = 0.71$), however, it's probably due to the write's poor knowledge of the subject."
   ]
  },
  {
   "cell_type": "markdown",
   "metadata": {},
   "source": [
    "### Problem 3.2\n",
    "Qualitative question. Not answered here."
   ]
  },
  {
   "cell_type": "markdown",
   "metadata": {},
   "source": [
    "### Problem 3.3\n",
    "Predict the country of least life expectancy"
   ]
  },
  {
   "cell_type": "code",
   "execution_count": 286,
   "metadata": {},
   "outputs": [
    {
     "data": {
      "text/plain": [
       "'Alabama'"
      ]
     },
     "execution_count": 286,
     "metadata": {},
     "output_type": "execute_result"
    }
   ],
   "source": [
    "edx_min_index = edx_reg_mod.predict(X=edx_descriptors).argmin()\n",
    "statedata.loc[edx_min_index]['state.name']"
   ]
  },
  {
   "cell_type": "code",
   "execution_count": 289,
   "metadata": {},
   "outputs": [
    {
     "data": {
      "text/plain": [
       "'Alabama'"
      ]
     },
     "execution_count": 289,
     "metadata": {},
     "output_type": "execute_result"
    }
   ],
   "source": [
    "skl_min_index = skl_reg_mod.predict(X=skl_descriptors).argmin()\n",
    "statedata.loc[skl_min_index]['state.name']"
   ]
  },
  {
   "cell_type": "markdown",
   "metadata": {},
   "source": [
    "The country of actucal least life expectancy"
   ]
  },
  {
   "cell_type": "code",
   "execution_count": 285,
   "metadata": {},
   "outputs": [
    {
     "data": {
      "text/plain": [
       "'South Carolina'"
      ]
     },
     "execution_count": 285,
     "metadata": {},
     "output_type": "execute_result"
    }
   ],
   "source": [
    "statedata.loc[statedata['Life.Exp'].idxmin()]['state.name']"
   ]
  },
  {
   "cell_type": "markdown",
   "metadata": {},
   "source": [
    "### Problem 3.4\n",
    "State with highest life expectancy"
   ]
  },
  {
   "cell_type": "code",
   "execution_count": 337,
   "metadata": {},
   "outputs": [
    {
     "data": {
      "text/plain": [
       "'Washington'"
      ]
     },
     "execution_count": 337,
     "metadata": {},
     "output_type": "execute_result"
    }
   ],
   "source": [
    "edx_max_index = edx_reg_mod.predict(X=edx_descriptors).argmax()\n",
    "statedata.loc[edx_max_index]['state.name']"
   ]
  },
  {
   "cell_type": "code",
   "execution_count": 354,
   "metadata": {},
   "outputs": [
    {
     "data": {
      "text/plain": [
       "'Washington'"
      ]
     },
     "execution_count": 354,
     "metadata": {},
     "output_type": "execute_result"
    }
   ],
   "source": [
    "skl_max_index = skl_reg_mod.predict(X=skl_descriptors).argmax()\n",
    "statedata.loc[skl_max_index]['state.name']"
   ]
  },
  {
   "cell_type": "code",
   "execution_count": 355,
   "metadata": {},
   "outputs": [
    {
     "data": {
      "text/plain": [
       "'Hawaii'"
      ]
     },
     "execution_count": 355,
     "metadata": {},
     "output_type": "execute_result"
    }
   ],
   "source": [
    "statedata.loc[statedata['Life.Exp'].idxmax()]['state.name']"
   ]
  },
  {
   "cell_type": "markdown",
   "metadata": {},
   "source": [
    "As an exercise in computational efficiency, let us find the **two** countries predicted to have highest life expectancy."
   ]
  },
  {
   "cell_type": "code",
   "execution_count": 358,
   "metadata": {
    "collapsed": false
   },
   "outputs": [
    {
     "data": {
      "text/plain": [
       "20    Massachusetts\n46       Washington\nName: state.name, dtype: object"
      ]
     },
     "execution_count": 358,
     "metadata": {},
     "output_type": "execute_result"
    }
   ],
   "source": [
    "edx_predictions = edx_reg_mod.predict(X=edx_descriptors)[:, 0]\n",
    "two_largest_indexes = np.argpartition(edx_predictions, -2)[-2:]\n",
    "statedata.loc[two_largest_indexes]['state.name']"
   ]
  },
  {
   "cell_type": "markdown",
   "metadata": {},
   "source": [
    "### Problem 3.5\n",
    "For which state the prediction is most and least accurate?"
   ]
  },
  {
   "cell_type": "markdown",
   "metadata": {},
   "source": [
    "The maximum error:"
   ]
  },
  {
   "cell_type": "code",
   "execution_count": 387,
   "metadata": {
    "collapsed": false
   },
   "outputs": [
    {
     "data": {
      "text/plain": [
       "'Hawaii'"
      ]
     },
     "execution_count": 387,
     "metadata": {},
     "output_type": "execute_result"
    }
   ],
   "source": [
    "max_error = ((statedata['Life.Exp'].values - edx_predictions)**2).argmax()\n",
    "statedata.loc[max_error]['state.name']"
   ]
  },
  {
   "cell_type": "markdown",
   "metadata": {},
   "source": [
    "The minimal error:"
   ]
  },
  {
   "cell_type": "code",
   "execution_count": 388,
   "metadata": {},
   "outputs": [
    {
     "data": {
      "text/plain": [
       "'Indiana'"
      ]
     },
     "execution_count": 388,
     "metadata": {},
     "output_type": "execute_result"
    }
   ],
   "source": [
    "min_error = ((statedata['Life.Exp'].values - edx_predictions)**2).argmin()\n",
    "statedata.loc[min_error]['state.name']"
   ]
  }
 ],
 "metadata": {
  "kernelspec": {
   "display_name": "Python 2",
   "language": "python",
   "name": "python2"
  },
  "language_info": {
   "codemirror_mode": {
    "name": "ipython",
    "version": 2.0
   },
   "file_extension": ".py",
   "mimetype": "text/x-python",
   "name": "python",
   "nbconvert_exporter": "python",
   "pygments_lexer": "ipython2",
   "version": "2.7.6"
  }
 },
 "nbformat": 4,
 "nbformat_minor": 0
}