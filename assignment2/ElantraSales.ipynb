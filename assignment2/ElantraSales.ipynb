{
 "cells": [
  {
   "cell_type": "code",
   "execution_count": 153,
   "metadata": {
    "collapsed": true
   },
   "outputs": [],
   "source": [
    "import os\n",
    "import pandas as pd\n",
    "import statsmodels.formula.api as sm\n",
    "\n",
    "if not os.getcwd().endswith('assignment2'):\n",
    "    os.chdir(os.path.join('Unit2', 'assignment2'))\n",
    "    \n",
    "elantra_sales = pd.read_csv('elantra.csv')"
   ]
  },
  {
   "cell_type": "markdown",
   "metadata": {},
   "source": [
    "\n",
    "### Problem 1\n",
    "Split the data set into training (before 2012, inclusive) and testing (after 2012) sets.\n",
    "How many observations are in the training set?\n",
    "\n",
    "The split:"
   ]
  },
  {
   "cell_type": "code",
   "execution_count": 154,
   "metadata": {
    "collapsed": true
   },
   "outputs": [],
   "source": [
    "elantra_train = elantra_sales[elantra_sales['Year'] <= 2012]\n",
    "elantra_test = elantra_sales[elantra_sales['Year'] > 2012]"
   ]
  },
  {
   "cell_type": "markdown",
   "metadata": {},
   "source": [
    "The size of the training data:"
   ]
  },
  {
   "cell_type": "code",
   "execution_count": 155,
   "metadata": {
    "collapsed": false
   },
   "outputs": [
    {
     "data": {
      "text/plain": [
       "36"
      ]
     },
     "execution_count": 155,
     "metadata": {},
     "output_type": "execute_result"
    }
   ],
   "source": [
    "len(elantra_train.index)"
   ]
  },
  {
   "cell_type": "markdown",
   "metadata": {},
   "source": [
    "### problem 2.1\n",
    "Build a linear regression model to predict monthly Elantra sales using Unemployment, CPI_all, CPI_energy and Queries as the independent variables. \n",
    "What is the model R-squared?\n"
   ]
  },
  {
   "cell_type": "code",
   "execution_count": 156,
   "metadata": {
    "collapsed": false
   },
   "outputs": [
    {
     "name": "stdout",
     "output_type": "stream",
     "text": [
      "<class 'pandas.core.frame.DataFrame'>\n",
      "RangeIndex: 50 entries, 0 to 49\n",
      "Data columns (total 7 columns):\n",
      "Month           50 non-null int64\n",
      "Year            50 non-null int64\n",
      "ElantraSales    50 non-null int64\n",
      "Unemployment    50 non-null float64\n",
      "Queries         50 non-null int64\n",
      "CPI_energy      50 non-null float64\n",
      "CPI_all         50 non-null float64\n",
      "dtypes: float64(3), int64(4)\n",
      "memory usage: 2.8 KB\n"
     ]
    }
   ],
   "source": [
    "# let's have a look at the variables\n",
    "elantra_sales.info()"
   ]
  },
  {
   "cell_type": "code",
   "execution_count": 157,
   "metadata": {
    "collapsed": false
   },
   "outputs": [
    {
     "data": {
      "text/html": [
       "<div>\n",
       "<table border=\"1\" class=\"dataframe\">\n",
       "  <thead>\n",
       "    <tr style=\"text-align: right;\">\n",
       "      <th></th>\n",
       "      <th>Month</th>\n",
       "      <th>Year</th>\n",
       "      <th>ElantraSales</th>\n",
       "      <th>Unemployment</th>\n",
       "      <th>Queries</th>\n",
       "      <th>CPI_energy</th>\n",
       "      <th>CPI_all</th>\n",
       "    </tr>\n",
       "  </thead>\n",
       "  <tbody>\n",
       "    <tr>\n",
       "      <th>0</th>\n",
       "      <td>1</td>\n",
       "      <td>2010</td>\n",
       "      <td>7690</td>\n",
       "      <td>9.7</td>\n",
       "      <td>153</td>\n",
       "      <td>213.377</td>\n",
       "      <td>217.466</td>\n",
       "    </tr>\n",
       "    <tr>\n",
       "      <th>1</th>\n",
       "      <td>1</td>\n",
       "      <td>2011</td>\n",
       "      <td>9659</td>\n",
       "      <td>9.1</td>\n",
       "      <td>259</td>\n",
       "      <td>229.353</td>\n",
       "      <td>221.082</td>\n",
       "    </tr>\n",
       "    <tr>\n",
       "      <th>2</th>\n",
       "      <td>1</td>\n",
       "      <td>2012</td>\n",
       "      <td>10900</td>\n",
       "      <td>8.2</td>\n",
       "      <td>354</td>\n",
       "      <td>244.178</td>\n",
       "      <td>227.666</td>\n",
       "    </tr>\n",
       "    <tr>\n",
       "      <th>3</th>\n",
       "      <td>1</td>\n",
       "      <td>2013</td>\n",
       "      <td>12174</td>\n",
       "      <td>7.9</td>\n",
       "      <td>230</td>\n",
       "      <td>242.560</td>\n",
       "      <td>231.321</td>\n",
       "    </tr>\n",
       "  </tbody>\n",
       "</table>\n",
       "</div>"
      ],
      "text/plain": [
       "<div>\n",
       "<table border=\"1\" class=\"dataframe\">\n",
       "  <thead>\n",
       "    <tr style=\"text-align: right;\">\n",
       "      <th></th>\n",
       "      <th>Month</th>\n",
       "      <th>Year</th>\n",
       "      <th>ElantraSales</th>\n",
       "      <th>Unemployment</th>\n",
       "      <th>Queries</th>\n",
       "      <th>CPI_energy</th>\n",
       "      <th>CPI_all</th>\n",
       "    </tr>\n",
       "  </thead>\n",
       "  <tbody>\n",
       "    <tr>\n",
       "      <th>0</th>\n",
       "      <td>1</td>\n",
       "      <td>2010</td>\n",
       "      <td>7690</td>\n",
       "      <td>9.7</td>\n",
       "      <td>153</td>\n",
       "      <td>213.377</td>\n",
       "      <td>217.466</td>\n",
       "    </tr>\n",
       "    <tr>\n",
       "      <th>1</th>\n",
       "      <td>1</td>\n",
       "      <td>2011</td>\n",
       "      <td>9659</td>\n",
       "      <td>9.1</td>\n",
       "      <td>259</td>\n",
       "      <td>229.353</td>\n",
       "      <td>221.082</td>\n",
       "    </tr>\n",
       "    <tr>\n",
       "      <th>2</th>\n",
       "      <td>1</td>\n",
       "      <td>2012</td>\n",
       "      <td>10900</td>\n",
       "      <td>8.2</td>\n",
       "      <td>354</td>\n",
       "      <td>244.178</td>\n",
       "      <td>227.666</td>\n",
       "    </tr>\n",
       "    <tr>\n",
       "      <th>3</th>\n",
       "      <td>1</td>\n",
       "      <td>2013</td>\n",
       "      <td>12174</td>\n",
       "      <td>7.9</td>\n",
       "      <td>230</td>\n",
       "      <td>242.560</td>\n",
       "      <td>231.321</td>\n",
       "    </tr>\n",
       "  </tbody>\n",
       "</table>\n",
       "</div>"
      ]
     },
     "execution_count": 157,
     "metadata": {},
     "output_type": "execute_result"
    }
   ],
   "source": [
    "elantra_sales.head(n=4)"
   ]
  },
  {
   "cell_type": "code",
   "execution_count": 158,
   "metadata": {
    "collapsed": false
   },
   "outputs": [
    {
     "data": {
      "text/plain": [
       "0.42815676686082871"
      ]
     },
     "execution_count": 158,
     "metadata": {},
     "output_type": "execute_result"
    }
   ],
   "source": [
    "model1 = sm.ols(formula=\"ElantraSales ~ Unemployment + \"\n",
    "                        \"CPI_all + CPI_energy + Queries\", \n",
    "                data=elantra_train).fit()\n",
    "model1.rsquared"
   ]
  },
  {
   "cell_type": "markdown",
   "metadata": {},
   "source": [
    "### problem 2.2\n",
    "How many variables are significant (use p value above 0.1)"
   ]
  },
  {
   "cell_type": "code",
   "execution_count": 159,
   "metadata": {
    "collapsed": false
   },
   "outputs": [
    {
     "data": {
      "text/html": [
       "<table class=\"simpletable\">\n",
       "<caption>OLS Regression Results</caption>\n",
       "<tr>\n",
       "  <th>Dep. Variable:</th>      <td>ElantraSales</td>   <th>  R-squared:         </th> <td>   0.428</td>\n",
       "</tr>\n",
       "<tr>\n",
       "  <th>Model:</th>                   <td>OLS</td>       <th>  Adj. R-squared:    </th> <td>   0.354</td>\n",
       "</tr>\n",
       "<tr>\n",
       "  <th>Method:</th>             <td>Least Squares</td>  <th>  F-statistic:       </th> <td>   5.803</td>\n",
       "</tr>\n",
       "<tr>\n",
       "  <th>Date:</th>             <td>Tue, 21 Mar 2017</td> <th>  Prob (F-statistic):</th>  <td>0.00132</td>\n",
       "</tr>\n",
       "<tr>\n",
       "  <th>Time:</th>                 <td>08:37:54</td>     <th>  Log-Likelihood:    </th> <td> -339.99</td>\n",
       "</tr>\n",
       "<tr>\n",
       "  <th>No. Observations:</th>      <td>    36</td>      <th>  AIC:               </th> <td>   690.0</td>\n",
       "</tr>\n",
       "<tr>\n",
       "  <th>Df Residuals:</th>          <td>    31</td>      <th>  BIC:               </th> <td>   697.9</td>\n",
       "</tr>\n",
       "<tr>\n",
       "  <th>Df Model:</th>              <td>     4</td>      <th>                     </th>     <td> </td>   \n",
       "</tr>\n",
       "<tr>\n",
       "  <th>Covariance Type:</th>      <td>nonrobust</td>    <th>                     </th>     <td> </td>   \n",
       "</tr>\n",
       "</table>\n",
       "<table class=\"simpletable\">\n",
       "<tr>\n",
       "        <td></td>          <th>coef</th>     <th>std err</th>      <th>t</th>      <th>P>|t|</th>  <th>[0.025</th>    <th>0.975]</th>  \n",
       "</tr>\n",
       "<tr>\n",
       "  <th>Intercept</th>    <td> 9.539e+04</td> <td> 1.71e+05</td> <td>    0.559</td> <td> 0.580</td> <td>-2.53e+05</td> <td> 4.43e+05</td>\n",
       "</tr>\n",
       "<tr>\n",
       "  <th>Unemployment</th> <td>-3179.8996</td> <td> 3610.262</td> <td>   -0.881</td> <td> 0.385</td> <td>-1.05e+04</td> <td> 4183.279</td>\n",
       "</tr>\n",
       "<tr>\n",
       "  <th>CPI_all</th>      <td> -297.6456</td> <td>  704.837</td> <td>   -0.422</td> <td> 0.676</td> <td>-1735.169</td> <td> 1139.878</td>\n",
       "</tr>\n",
       "<tr>\n",
       "  <th>CPI_energy</th>   <td>   38.5060</td> <td>  109.601</td> <td>    0.351</td> <td> 0.728</td> <td> -185.027</td> <td>  262.039</td>\n",
       "</tr>\n",
       "<tr>\n",
       "  <th>Queries</th>      <td>   19.0297</td> <td>   11.259</td> <td>    1.690</td> <td> 0.101</td> <td>   -3.933</td> <td>   41.992</td>\n",
       "</tr>\n",
       "</table>\n",
       "<table class=\"simpletable\">\n",
       "<tr>\n",
       "  <th>Omnibus:</th>       <td> 1.210</td> <th>  Durbin-Watson:     </th> <td>   1.190</td>\n",
       "</tr>\n",
       "<tr>\n",
       "  <th>Prob(Omnibus):</th> <td> 0.546</td> <th>  Jarque-Bera (JB):  </th> <td>   0.947</td>\n",
       "</tr>\n",
       "<tr>\n",
       "  <th>Skew:</th>          <td> 0.390</td> <th>  Prob(JB):          </th> <td>   0.623</td>\n",
       "</tr>\n",
       "<tr>\n",
       "  <th>Kurtosis:</th>      <td> 2.845</td> <th>  Cond. No.          </th> <td>1.32e+05</td>\n",
       "</tr>\n",
       "</table>"
      ],
      "text/plain": [
       "<table class=\"simpletable\">\n",
       "<caption>OLS Regression Results</caption>\n",
       "<tr>\n",
       "  <th>Dep. Variable:</th>      <td>ElantraSales</td>   <th>  R-squared:         </th> <td>   0.428</td>\n",
       "</tr>\n",
       "<tr>\n",
       "  <th>Model:</th>                   <td>OLS</td>       <th>  Adj. R-squared:    </th> <td>   0.354</td>\n",
       "</tr>\n",
       "<tr>\n",
       "  <th>Method:</th>             <td>Least Squares</td>  <th>  F-statistic:       </th> <td>   5.803</td>\n",
       "</tr>\n",
       "<tr>\n",
       "  <th>Date:</th>             <td>Tue, 21 Mar 2017</td> <th>  Prob (F-statistic):</th>  <td>0.00132</td>\n",
       "</tr>\n",
       "<tr>\n",
       "  <th>Time:</th>                 <td>08:37:54</td>     <th>  Log-Likelihood:    </th> <td> -339.99</td>\n",
       "</tr>\n",
       "<tr>\n",
       "  <th>No. Observations:</th>      <td>    36</td>      <th>  AIC:               </th> <td>   690.0</td>\n",
       "</tr>\n",
       "<tr>\n",
       "  <th>Df Residuals:</th>          <td>    31</td>      <th>  BIC:               </th> <td>   697.9</td>\n",
       "</tr>\n",
       "<tr>\n",
       "  <th>Df Model:</th>              <td>     4</td>      <th>                     </th>     <td> </td>   \n",
       "</tr>\n",
       "<tr>\n",
       "  <th>Covariance Type:</th>      <td>nonrobust</td>    <th>                     </th>     <td> </td>   \n",
       "</tr>\n",
       "</table>\n",
       "<table class=\"simpletable\">\n",
       "<tr>\n",
       "        <td></td>          <th>coef</th>     <th>std err</th>      <th>t</th>      <th>P>|t|</th>  <th>[0.025</th>    <th>0.975]</th>  \n",
       "</tr>\n",
       "<tr>\n",
       "  <th>Intercept</th>    <td> 9.539e+04</td> <td> 1.71e+05</td> <td>    0.559</td> <td> 0.580</td> <td>-2.53e+05</td> <td> 4.43e+05</td>\n",
       "</tr>\n",
       "<tr>\n",
       "  <th>Unemployment</th> <td>-3179.8996</td> <td> 3610.262</td> <td>   -0.881</td> <td> 0.385</td> <td>-1.05e+04</td> <td> 4183.279</td>\n",
       "</tr>\n",
       "<tr>\n",
       "  <th>CPI_all</th>      <td> -297.6456</td> <td>  704.837</td> <td>   -0.422</td> <td> 0.676</td> <td>-1735.169</td> <td> 1139.878</td>\n",
       "</tr>\n",
       "<tr>\n",
       "  <th>CPI_energy</th>   <td>   38.5060</td> <td>  109.601</td> <td>    0.351</td> <td> 0.728</td> <td> -185.027</td> <td>  262.039</td>\n",
       "</tr>\n",
       "<tr>\n",
       "  <th>Queries</th>      <td>   19.0297</td> <td>   11.259</td> <td>    1.690</td> <td> 0.101</td> <td>   -3.933</td> <td>   41.992</td>\n",
       "</tr>\n",
       "</table>\n",
       "<table class=\"simpletable\">\n",
       "<tr>\n",
       "  <th>Omnibus:</th>       <td> 1.210</td> <th>  Durbin-Watson:     </th> <td>   1.190</td>\n",
       "</tr>\n",
       "<tr>\n",
       "  <th>Prob(Omnibus):</th> <td> 0.546</td> <th>  Jarque-Bera (JB):  </th> <td>   0.947</td>\n",
       "</tr>\n",
       "<tr>\n",
       "  <th>Skew:</th>          <td> 0.390</td> <th>  Prob(JB):          </th> <td>   0.623</td>\n",
       "</tr>\n",
       "<tr>\n",
       "  <th>Kurtosis:</th>      <td> 2.845</td> <th>  Cond. No.          </th> <td>1.32e+05</td>\n",
       "</tr>\n",
       "</table>"
      ]
     },
     "execution_count": 159,
     "metadata": {},
     "output_type": "execute_result"
    }
   ],
   "source": [
    "result.summary()"
   ]
  },
  {
   "cell_type": "markdown",
   "metadata": {},
   "source": [
    "No variable has a significant p-value (<0.1)"
   ]
  },
  {
   "cell_type": "markdown",
   "metadata": {},
   "source": [
    "### Problem 2.3\n",
    "What is the coefficient of the Unemployment variable?"
   ]
  },
  {
   "cell_type": "code",
   "execution_count": 160,
   "metadata": {
    "collapsed": false
   },
   "outputs": [
    {
     "data": {
      "text/plain": [
       "Intercept       95385.363597\n",
       "Unemployment    -3179.899573\n",
       "CPI_all          -297.645626\n",
       "CPI_energy         38.506037\n",
       "Queries            19.029683\n",
       "dtype: float64"
      ]
     },
     "execution_count": 160,
     "metadata": {},
     "output_type": "execute_result"
    }
   ],
   "source": [
    "model1.params"
   ]
  },
  {
   "cell_type": "markdown",
   "metadata": {},
   "source": [
    "### Problem 3.1\n",
    "Incorporate data from months varible. What is the new R-Squared?"
   ]
  },
  {
   "cell_type": "code",
   "execution_count": 161,
   "metadata": {
    "collapsed": false
   },
   "outputs": [
    {
     "data": {
      "text/html": [
       "<table class=\"simpletable\">\n",
       "<caption>OLS Regression Results</caption>\n",
       "<tr>\n",
       "  <th>Dep. Variable:</th>      <td>ElantraSales</td>   <th>  R-squared:         </th> <td>   0.434</td>\n",
       "</tr>\n",
       "<tr>\n",
       "  <th>Model:</th>                   <td>OLS</td>       <th>  Adj. R-squared:    </th> <td>   0.340</td>\n",
       "</tr>\n",
       "<tr>\n",
       "  <th>Method:</th>             <td>Least Squares</td>  <th>  F-statistic:       </th> <td>   4.609</td>\n",
       "</tr>\n",
       "<tr>\n",
       "  <th>Date:</th>             <td>Tue, 21 Mar 2017</td> <th>  Prob (F-statistic):</th>  <td>0.00308</td>\n",
       "</tr>\n",
       "<tr>\n",
       "  <th>Time:</th>                 <td>08:37:55</td>     <th>  Log-Likelihood:    </th> <td> -339.79</td>\n",
       "</tr>\n",
       "<tr>\n",
       "  <th>No. Observations:</th>      <td>    36</td>      <th>  AIC:               </th> <td>   691.6</td>\n",
       "</tr>\n",
       "<tr>\n",
       "  <th>Df Residuals:</th>          <td>    30</td>      <th>  BIC:               </th> <td>   701.1</td>\n",
       "</tr>\n",
       "<tr>\n",
       "  <th>Df Model:</th>              <td>     5</td>      <th>                     </th>     <td> </td>   \n",
       "</tr>\n",
       "<tr>\n",
       "  <th>Covariance Type:</th>      <td>nonrobust</td>    <th>                     </th>     <td> </td>   \n",
       "</tr>\n",
       "</table>\n",
       "<table class=\"simpletable\">\n",
       "<tr>\n",
       "        <td></td>          <th>coef</th>     <th>std err</th>      <th>t</th>      <th>P>|t|</th>  <th>[0.025</th>    <th>0.975]</th>  \n",
       "</tr>\n",
       "<tr>\n",
       "  <th>Intercept</th>    <td> 1.483e+05</td> <td> 1.95e+05</td> <td>    0.759</td> <td> 0.454</td> <td>-2.51e+05</td> <td> 5.47e+05</td>\n",
       "</tr>\n",
       "<tr>\n",
       "  <th>Unemployment</th> <td>-4137.2826</td> <td> 4008.558</td> <td>   -1.032</td> <td> 0.310</td> <td>-1.23e+04</td> <td> 4049.285</td>\n",
       "</tr>\n",
       "<tr>\n",
       "  <th>CPI_all</th>      <td> -517.9910</td> <td>  808.259</td> <td>   -0.641</td> <td> 0.526</td> <td>-2168.676</td> <td> 1132.694</td>\n",
       "</tr>\n",
       "<tr>\n",
       "  <th>CPI_energy</th>   <td>   54.1833</td> <td>  114.076</td> <td>    0.475</td> <td> 0.638</td> <td> -178.790</td> <td>  287.157</td>\n",
       "</tr>\n",
       "<tr>\n",
       "  <th>Queries</th>      <td>   21.1855</td> <td>   11.978</td> <td>    1.769</td> <td> 0.087</td> <td>   -3.278</td> <td>   45.649</td>\n",
       "</tr>\n",
       "<tr>\n",
       "  <th>Month</th>        <td>  110.6853</td> <td>  191.657</td> <td>    0.578</td> <td> 0.568</td> <td> -280.731</td> <td>  502.102</td>\n",
       "</tr>\n",
       "</table>\n",
       "<table class=\"simpletable\">\n",
       "<tr>\n",
       "  <th>Omnibus:</th>       <td> 1.544</td> <th>  Durbin-Watson:     </th> <td>   1.158</td>\n",
       "</tr>\n",
       "<tr>\n",
       "  <th>Prob(Omnibus):</th> <td> 0.462</td> <th>  Jarque-Bera (JB):  </th> <td>   1.312</td>\n",
       "</tr>\n",
       "<tr>\n",
       "  <th>Skew:</th>          <td> 0.453</td> <th>  Prob(JB):          </th> <td>   0.519</td>\n",
       "</tr>\n",
       "<tr>\n",
       "  <th>Kurtosis:</th>      <td> 2.764</td> <th>  Cond. No.          </th> <td>1.49e+05</td>\n",
       "</tr>\n",
       "</table>"
      ],
      "text/plain": [
       "<table class=\"simpletable\">\n",
       "<caption>OLS Regression Results</caption>\n",
       "<tr>\n",
       "  <th>Dep. Variable:</th>      <td>ElantraSales</td>   <th>  R-squared:         </th> <td>   0.434</td>\n",
       "</tr>\n",
       "<tr>\n",
       "  <th>Model:</th>                   <td>OLS</td>       <th>  Adj. R-squared:    </th> <td>   0.340</td>\n",
       "</tr>\n",
       "<tr>\n",
       "  <th>Method:</th>             <td>Least Squares</td>  <th>  F-statistic:       </th> <td>   4.609</td>\n",
       "</tr>\n",
       "<tr>\n",
       "  <th>Date:</th>             <td>Tue, 21 Mar 2017</td> <th>  Prob (F-statistic):</th>  <td>0.00308</td>\n",
       "</tr>\n",
       "<tr>\n",
       "  <th>Time:</th>                 <td>08:37:55</td>     <th>  Log-Likelihood:    </th> <td> -339.79</td>\n",
       "</tr>\n",
       "<tr>\n",
       "  <th>No. Observations:</th>      <td>    36</td>      <th>  AIC:               </th> <td>   691.6</td>\n",
       "</tr>\n",
       "<tr>\n",
       "  <th>Df Residuals:</th>          <td>    30</td>      <th>  BIC:               </th> <td>   701.1</td>\n",
       "</tr>\n",
       "<tr>\n",
       "  <th>Df Model:</th>              <td>     5</td>      <th>                     </th>     <td> </td>   \n",
       "</tr>\n",
       "<tr>\n",
       "  <th>Covariance Type:</th>      <td>nonrobust</td>    <th>                     </th>     <td> </td>   \n",
       "</tr>\n",
       "</table>\n",
       "<table class=\"simpletable\">\n",
       "<tr>\n",
       "        <td></td>          <th>coef</th>     <th>std err</th>      <th>t</th>      <th>P>|t|</th>  <th>[0.025</th>    <th>0.975]</th>  \n",
       "</tr>\n",
       "<tr>\n",
       "  <th>Intercept</th>    <td> 1.483e+05</td> <td> 1.95e+05</td> <td>    0.759</td> <td> 0.454</td> <td>-2.51e+05</td> <td> 5.47e+05</td>\n",
       "</tr>\n",
       "<tr>\n",
       "  <th>Unemployment</th> <td>-4137.2826</td> <td> 4008.558</td> <td>   -1.032</td> <td> 0.310</td> <td>-1.23e+04</td> <td> 4049.285</td>\n",
       "</tr>\n",
       "<tr>\n",
       "  <th>CPI_all</th>      <td> -517.9910</td> <td>  808.259</td> <td>   -0.641</td> <td> 0.526</td> <td>-2168.676</td> <td> 1132.694</td>\n",
       "</tr>\n",
       "<tr>\n",
       "  <th>CPI_energy</th>   <td>   54.1833</td> <td>  114.076</td> <td>    0.475</td> <td> 0.638</td> <td> -178.790</td> <td>  287.157</td>\n",
       "</tr>\n",
       "<tr>\n",
       "  <th>Queries</th>      <td>   21.1855</td> <td>   11.978</td> <td>    1.769</td> <td> 0.087</td> <td>   -3.278</td> <td>   45.649</td>\n",
       "</tr>\n",
       "<tr>\n",
       "  <th>Month</th>        <td>  110.6853</td> <td>  191.657</td> <td>    0.578</td> <td> 0.568</td> <td> -280.731</td> <td>  502.102</td>\n",
       "</tr>\n",
       "</table>\n",
       "<table class=\"simpletable\">\n",
       "<tr>\n",
       "  <th>Omnibus:</th>       <td> 1.544</td> <th>  Durbin-Watson:     </th> <td>   1.158</td>\n",
       "</tr>\n",
       "<tr>\n",
       "  <th>Prob(Omnibus):</th> <td> 0.462</td> <th>  Jarque-Bera (JB):  </th> <td>   1.312</td>\n",
       "</tr>\n",
       "<tr>\n",
       "  <th>Skew:</th>          <td> 0.453</td> <th>  Prob(JB):          </th> <td>   0.519</td>\n",
       "</tr>\n",
       "<tr>\n",
       "  <th>Kurtosis:</th>      <td> 2.764</td> <th>  Cond. No.          </th> <td>1.49e+05</td>\n",
       "</tr>\n",
       "</table>"
      ]
     },
     "execution_count": 161,
     "metadata": {},
     "output_type": "execute_result"
    }
   ],
   "source": [
    "model2 = sm.ols(formula=\"ElantraSales ~ Unemployment + CPI_all +\"\n",
    "                        \" CPI_energy + Queries + Month\", \n",
    "                data=elantra_train).fit()\n",
    "model2.summary()"
   ]
  },
  {
   "cell_type": "code",
   "execution_count": 162,
   "metadata": {
    "collapsed": false
   },
   "outputs": [
    {
     "data": {
      "text/plain": [
       "Intercept       148330.487698\n",
       "Unemployment     -4137.282559\n",
       "CPI_all           -517.991036\n",
       "CPI_energy          54.183317\n",
       "Queries             21.185516\n",
       "Month              110.685270\n",
       "dtype: float64"
      ]
     },
     "execution_count": 162,
     "metadata": {},
     "output_type": "execute_result"
    }
   ],
   "source": [
    "model2.params"
   ]
  },
  {
   "cell_type": "markdown",
   "metadata": {},
   "source": [
    "###Problem 4.1\n",
    "Re-run the regression with the Month variable modeled as a factor variable, what is the new R-squared?"
   ]
  },
  {
   "cell_type": "code",
   "execution_count": 166,
   "metadata": {
    "collapsed": false
   },
   "outputs": [
    {
     "data": {
      "text/html": [
       "<table class=\"simpletable\">\n",
       "<caption>OLS Regression Results</caption>\n",
       "<tr>\n",
       "  <th>Dep. Variable:</th>      <td>ElantraSales</td>   <th>  R-squared:         </th> <td>   0.819</td>\n",
       "</tr>\n",
       "<tr>\n",
       "  <th>Model:</th>                   <td>OLS</td>       <th>  Adj. R-squared:    </th> <td>   0.684</td>\n",
       "</tr>\n",
       "<tr>\n",
       "  <th>Method:</th>             <td>Least Squares</td>  <th>  F-statistic:       </th> <td>   6.044</td>\n",
       "</tr>\n",
       "<tr>\n",
       "  <th>Date:</th>             <td>Tue, 21 Mar 2017</td> <th>  Prob (F-statistic):</th> <td>0.000147</td>\n",
       "</tr>\n",
       "<tr>\n",
       "  <th>Time:</th>                 <td>08:38:32</td>     <th>  Log-Likelihood:    </th> <td> -319.26</td>\n",
       "</tr>\n",
       "<tr>\n",
       "  <th>No. Observations:</th>      <td>    36</td>      <th>  AIC:               </th> <td>   670.5</td>\n",
       "</tr>\n",
       "<tr>\n",
       "  <th>Df Residuals:</th>          <td>    20</td>      <th>  BIC:               </th> <td>   695.9</td>\n",
       "</tr>\n",
       "<tr>\n",
       "  <th>Df Model:</th>              <td>    15</td>      <th>                     </th>     <td> </td>   \n",
       "</tr>\n",
       "<tr>\n",
       "  <th>Covariance Type:</th>      <td>nonrobust</td>    <th>                     </th>     <td> </td>   \n",
       "</tr>\n",
       "</table>\n",
       "<table class=\"simpletable\">\n",
       "<tr>\n",
       "         <td></td>           <th>coef</th>     <th>std err</th>      <th>t</th>      <th>P>|t|</th>  <th>[0.025</th>    <th>0.975]</th>  \n",
       "</tr>\n",
       "<tr>\n",
       "  <th>Intercept</th>      <td> 3.125e+05</td> <td> 1.44e+05</td> <td>    2.169</td> <td> 0.042</td> <td>  1.2e+04</td> <td> 6.13e+05</td>\n",
       "</tr>\n",
       "<tr>\n",
       "  <th>C(Month)[T.2]</th>  <td> 2254.9978</td> <td> 1943.249</td> <td>    1.160</td> <td> 0.260</td> <td>-1798.548</td> <td> 6308.543</td>\n",
       "</tr>\n",
       "<tr>\n",
       "  <th>C(Month)[T.3]</th>  <td> 6696.5568</td> <td> 1991.635</td> <td>    3.362</td> <td> 0.003</td> <td> 2542.080</td> <td> 1.09e+04</td>\n",
       "</tr>\n",
       "<tr>\n",
       "  <th>C(Month)[T.4]</th>  <td> 7556.6074</td> <td> 2038.022</td> <td>    3.708</td> <td> 0.001</td> <td> 3305.368</td> <td> 1.18e+04</td>\n",
       "</tr>\n",
       "<tr>\n",
       "  <th>C(Month)[T.5]</th>  <td> 7420.2490</td> <td> 1950.139</td> <td>    3.805</td> <td> 0.001</td> <td> 3352.331</td> <td> 1.15e+04</td>\n",
       "</tr>\n",
       "<tr>\n",
       "  <th>C(Month)[T.6]</th>  <td> 9215.8326</td> <td> 1995.230</td> <td>    4.619</td> <td> 0.000</td> <td> 5053.856</td> <td> 1.34e+04</td>\n",
       "</tr>\n",
       "<tr>\n",
       "  <th>C(Month)[T.7]</th>  <td> 9929.4644</td> <td> 2238.800</td> <td>    4.435</td> <td> 0.000</td> <td> 5259.409</td> <td> 1.46e+04</td>\n",
       "</tr>\n",
       "<tr>\n",
       "  <th>C(Month)[T.8]</th>  <td> 7939.4474</td> <td> 2064.629</td> <td>    3.845</td> <td> 0.001</td> <td> 3632.706</td> <td> 1.22e+04</td>\n",
       "</tr>\n",
       "<tr>\n",
       "  <th>C(Month)[T.9]</th>  <td> 5013.2866</td> <td> 2010.745</td> <td>    2.493</td> <td> 0.022</td> <td>  818.946</td> <td> 9207.627</td>\n",
       "</tr>\n",
       "<tr>\n",
       "  <th>C(Month)[T.10]</th> <td> 2500.1838</td> <td> 2084.057</td> <td>    1.200</td> <td> 0.244</td> <td>-1847.083</td> <td> 6847.451</td>\n",
       "</tr>\n",
       "<tr>\n",
       "  <th>C(Month)[T.11]</th> <td> 3238.9315</td> <td> 2397.231</td> <td>    1.351</td> <td> 0.192</td> <td>-1761.605</td> <td> 8239.468</td>\n",
       "</tr>\n",
       "<tr>\n",
       "  <th>C(Month)[T.12]</th> <td> 5293.9107</td> <td> 2228.310</td> <td>    2.376</td> <td> 0.028</td> <td>  645.738</td> <td> 9942.083</td>\n",
       "</tr>\n",
       "<tr>\n",
       "  <th>Unemployment</th>   <td>-7739.3814</td> <td> 2968.747</td> <td>   -2.607</td> <td> 0.017</td> <td>-1.39e+04</td> <td>-1546.683</td>\n",
       "</tr>\n",
       "<tr>\n",
       "  <th>CPI_all</th>        <td>-1343.3068</td> <td>  592.919</td> <td>   -2.266</td> <td> 0.035</td> <td>-2580.114</td> <td> -106.500</td>\n",
       "</tr>\n",
       "<tr>\n",
       "  <th>CPI_energy</th>     <td>  288.6314</td> <td>   97.974</td> <td>    2.946</td> <td> 0.008</td> <td>   84.262</td> <td>  493.001</td>\n",
       "</tr>\n",
       "<tr>\n",
       "  <th>Queries</th>        <td>   -4.7636</td> <td>   12.938</td> <td>   -0.368</td> <td> 0.717</td> <td>  -31.752</td> <td>   22.224</td>\n",
       "</tr>\n",
       "</table>\n",
       "<table class=\"simpletable\">\n",
       "<tr>\n",
       "  <th>Omnibus:</th>       <td> 0.047</td> <th>  Durbin-Watson:     </th> <td>   2.795</td>\n",
       "</tr>\n",
       "<tr>\n",
       "  <th>Prob(Omnibus):</th> <td> 0.977</td> <th>  Jarque-Bera (JB):  </th> <td>   0.246</td>\n",
       "</tr>\n",
       "<tr>\n",
       "  <th>Skew:</th>          <td>-0.032</td> <th>  Prob(JB):          </th> <td>   0.884</td>\n",
       "</tr>\n",
       "<tr>\n",
       "  <th>Kurtosis:</th>      <td> 2.600</td> <th>  Cond. No.          </th> <td>1.59e+05</td>\n",
       "</tr>\n",
       "</table>"
      ],
      "text/plain": [
       "<table class=\"simpletable\">\n",
       "<caption>OLS Regression Results</caption>\n",
       "<tr>\n",
       "  <th>Dep. Variable:</th>      <td>ElantraSales</td>   <th>  R-squared:         </th> <td>   0.819</td>\n",
       "</tr>\n",
       "<tr>\n",
       "  <th>Model:</th>                   <td>OLS</td>       <th>  Adj. R-squared:    </th> <td>   0.684</td>\n",
       "</tr>\n",
       "<tr>\n",
       "  <th>Method:</th>             <td>Least Squares</td>  <th>  F-statistic:       </th> <td>   6.044</td>\n",
       "</tr>\n",
       "<tr>\n",
       "  <th>Date:</th>             <td>Tue, 21 Mar 2017</td> <th>  Prob (F-statistic):</th> <td>0.000147</td>\n",
       "</tr>\n",
       "<tr>\n",
       "  <th>Time:</th>                 <td>08:38:32</td>     <th>  Log-Likelihood:    </th> <td> -319.26</td>\n",
       "</tr>\n",
       "<tr>\n",
       "  <th>No. Observations:</th>      <td>    36</td>      <th>  AIC:               </th> <td>   670.5</td>\n",
       "</tr>\n",
       "<tr>\n",
       "  <th>Df Residuals:</th>          <td>    20</td>      <th>  BIC:               </th> <td>   695.9</td>\n",
       "</tr>\n",
       "<tr>\n",
       "  <th>Df Model:</th>              <td>    15</td>      <th>                     </th>     <td> </td>   \n",
       "</tr>\n",
       "<tr>\n",
       "  <th>Covariance Type:</th>      <td>nonrobust</td>    <th>                     </th>     <td> </td>   \n",
       "</tr>\n",
       "</table>\n",
       "<table class=\"simpletable\">\n",
       "<tr>\n",
       "         <td></td>           <th>coef</th>     <th>std err</th>      <th>t</th>      <th>P>|t|</th>  <th>[0.025</th>    <th>0.975]</th>  \n",
       "</tr>\n",
       "<tr>\n",
       "  <th>Intercept</th>      <td> 3.125e+05</td> <td> 1.44e+05</td> <td>    2.169</td> <td> 0.042</td> <td>  1.2e+04</td> <td> 6.13e+05</td>\n",
       "</tr>\n",
       "<tr>\n",
       "  <th>C(Month)[T.2]</th>  <td> 2254.9978</td> <td> 1943.249</td> <td>    1.160</td> <td> 0.260</td> <td>-1798.548</td> <td> 6308.543</td>\n",
       "</tr>\n",
       "<tr>\n",
       "  <th>C(Month)[T.3]</th>  <td> 6696.5568</td> <td> 1991.635</td> <td>    3.362</td> <td> 0.003</td> <td> 2542.080</td> <td> 1.09e+04</td>\n",
       "</tr>\n",
       "<tr>\n",
       "  <th>C(Month)[T.4]</th>  <td> 7556.6074</td> <td> 2038.022</td> <td>    3.708</td> <td> 0.001</td> <td> 3305.368</td> <td> 1.18e+04</td>\n",
       "</tr>\n",
       "<tr>\n",
       "  <th>C(Month)[T.5]</th>  <td> 7420.2490</td> <td> 1950.139</td> <td>    3.805</td> <td> 0.001</td> <td> 3352.331</td> <td> 1.15e+04</td>\n",
       "</tr>\n",
       "<tr>\n",
       "  <th>C(Month)[T.6]</th>  <td> 9215.8326</td> <td> 1995.230</td> <td>    4.619</td> <td> 0.000</td> <td> 5053.856</td> <td> 1.34e+04</td>\n",
       "</tr>\n",
       "<tr>\n",
       "  <th>C(Month)[T.7]</th>  <td> 9929.4644</td> <td> 2238.800</td> <td>    4.435</td> <td> 0.000</td> <td> 5259.409</td> <td> 1.46e+04</td>\n",
       "</tr>\n",
       "<tr>\n",
       "  <th>C(Month)[T.8]</th>  <td> 7939.4474</td> <td> 2064.629</td> <td>    3.845</td> <td> 0.001</td> <td> 3632.706</td> <td> 1.22e+04</td>\n",
       "</tr>\n",
       "<tr>\n",
       "  <th>C(Month)[T.9]</th>  <td> 5013.2866</td> <td> 2010.745</td> <td>    2.493</td> <td> 0.022</td> <td>  818.946</td> <td> 9207.627</td>\n",
       "</tr>\n",
       "<tr>\n",
       "  <th>C(Month)[T.10]</th> <td> 2500.1838</td> <td> 2084.057</td> <td>    1.200</td> <td> 0.244</td> <td>-1847.083</td> <td> 6847.451</td>\n",
       "</tr>\n",
       "<tr>\n",
       "  <th>C(Month)[T.11]</th> <td> 3238.9315</td> <td> 2397.231</td> <td>    1.351</td> <td> 0.192</td> <td>-1761.605</td> <td> 8239.468</td>\n",
       "</tr>\n",
       "<tr>\n",
       "  <th>C(Month)[T.12]</th> <td> 5293.9107</td> <td> 2228.310</td> <td>    2.376</td> <td> 0.028</td> <td>  645.738</td> <td> 9942.083</td>\n",
       "</tr>\n",
       "<tr>\n",
       "  <th>Unemployment</th>   <td>-7739.3814</td> <td> 2968.747</td> <td>   -2.607</td> <td> 0.017</td> <td>-1.39e+04</td> <td>-1546.683</td>\n",
       "</tr>\n",
       "<tr>\n",
       "  <th>CPI_all</th>        <td>-1343.3068</td> <td>  592.919</td> <td>   -2.266</td> <td> 0.035</td> <td>-2580.114</td> <td> -106.500</td>\n",
       "</tr>\n",
       "<tr>\n",
       "  <th>CPI_energy</th>     <td>  288.6314</td> <td>   97.974</td> <td>    2.946</td> <td> 0.008</td> <td>   84.262</td> <td>  493.001</td>\n",
       "</tr>\n",
       "<tr>\n",
       "  <th>Queries</th>        <td>   -4.7636</td> <td>   12.938</td> <td>   -0.368</td> <td> 0.717</td> <td>  -31.752</td> <td>   22.224</td>\n",
       "</tr>\n",
       "</table>\n",
       "<table class=\"simpletable\">\n",
       "<tr>\n",
       "  <th>Omnibus:</th>       <td> 0.047</td> <th>  Durbin-Watson:     </th> <td>   2.795</td>\n",
       "</tr>\n",
       "<tr>\n",
       "  <th>Prob(Omnibus):</th> <td> 0.977</td> <th>  Jarque-Bera (JB):  </th> <td>   0.246</td>\n",
       "</tr>\n",
       "<tr>\n",
       "  <th>Skew:</th>          <td>-0.032</td> <th>  Prob(JB):          </th> <td>   0.884</td>\n",
       "</tr>\n",
       "<tr>\n",
       "  <th>Kurtosis:</th>      <td> 2.600</td> <th>  Cond. No.          </th> <td>1.59e+05</td>\n",
       "</tr>\n",
       "</table>"
      ]
     },
     "execution_count": 166,
     "metadata": {},
     "output_type": "execute_result"
    }
   ],
   "source": [
    "model3 = sm.ols(formula=\"ElantraSales ~ Unemployment + CPI_all + \"\n",
    "                        \"CPI_energy + Queries + C(Month)\",\n",
    "data=elantra_train).fit()\n",
    "model3.summary()"
   ]
  },
  {
   "cell_type": "markdown",
   "metadata": {},
   "source": [
    "### Problem 5.1\n",
    "Which variables are correlated with CPI_energy, consumer price index for energy, correlation > 0.6? Treat month as numeric\n"
   ]
  },
  {
   "cell_type": "code",
   "execution_count": 119,
   "metadata": {
    "collapsed": false
   },
   "outputs": [
    {
     "data": {
      "text/html": [
       "<div>\n",
       "<table border=\"1\" class=\"dataframe\">\n",
       "  <thead>\n",
       "    <tr style=\"text-align: right;\">\n",
       "      <th></th>\n",
       "      <th>Month</th>\n",
       "      <th>Year</th>\n",
       "      <th>ElantraSales</th>\n",
       "      <th>Unemployment</th>\n",
       "      <th>Queries</th>\n",
       "      <th>CPI_energy</th>\n",
       "      <th>CPI_all</th>\n",
       "    </tr>\n",
       "  </thead>\n",
       "  <tbody>\n",
       "    <tr>\n",
       "      <th>Month</th>\n",
       "      <td>1.000000</td>\n",
       "      <td>0.000000</td>\n",
       "      <td>0.109795</td>\n",
       "      <td>-0.203603</td>\n",
       "      <td>0.015844</td>\n",
       "      <td>0.176020</td>\n",
       "      <td>0.266788</td>\n",
       "    </tr>\n",
       "    <tr>\n",
       "      <th>Year</th>\n",
       "      <td>0.000000</td>\n",
       "      <td>1.000000</td>\n",
       "      <td>0.587274</td>\n",
       "      <td>-0.958746</td>\n",
       "      <td>0.726531</td>\n",
       "      <td>0.831605</td>\n",
       "      <td>0.948585</td>\n",
       "    </tr>\n",
       "    <tr>\n",
       "      <th>ElantraSales</th>\n",
       "      <td>0.109795</td>\n",
       "      <td>0.587274</td>\n",
       "      <td>1.000000</td>\n",
       "      <td>-0.567146</td>\n",
       "      <td>0.610065</td>\n",
       "      <td>0.591649</td>\n",
       "      <td>0.593622</td>\n",
       "    </tr>\n",
       "    <tr>\n",
       "      <th>Unemployment</th>\n",
       "      <td>-0.203603</td>\n",
       "      <td>-0.958746</td>\n",
       "      <td>-0.567146</td>\n",
       "      <td>1.000000</td>\n",
       "      <td>-0.641109</td>\n",
       "      <td>-0.800719</td>\n",
       "      <td>-0.956212</td>\n",
       "    </tr>\n",
       "    <tr>\n",
       "      <th>Queries</th>\n",
       "      <td>0.015844</td>\n",
       "      <td>0.726531</td>\n",
       "      <td>0.610065</td>\n",
       "      <td>-0.641109</td>\n",
       "      <td>1.000000</td>\n",
       "      <td>0.832838</td>\n",
       "      <td>0.753673</td>\n",
       "    </tr>\n",
       "    <tr>\n",
       "      <th>CPI_energy</th>\n",
       "      <td>0.176020</td>\n",
       "      <td>0.831605</td>\n",
       "      <td>0.591649</td>\n",
       "      <td>-0.800719</td>\n",
       "      <td>0.832838</td>\n",
       "      <td>1.000000</td>\n",
       "      <td>0.913226</td>\n",
       "    </tr>\n",
       "    <tr>\n",
       "      <th>CPI_all</th>\n",
       "      <td>0.266788</td>\n",
       "      <td>0.948585</td>\n",
       "      <td>0.593622</td>\n",
       "      <td>-0.956212</td>\n",
       "      <td>0.753673</td>\n",
       "      <td>0.913226</td>\n",
       "      <td>1.000000</td>\n",
       "    </tr>\n",
       "  </tbody>\n",
       "</table>\n",
       "</div>"
      ],
      "text/plain": [
       "<div>\n",
       "<table border=\"1\" class=\"dataframe\">\n",
       "  <thead>\n",
       "    <tr style=\"text-align: right;\">\n",
       "      <th></th>\n",
       "      <th>Month</th>\n",
       "      <th>Year</th>\n",
       "      <th>ElantraSales</th>\n",
       "      <th>Unemployment</th>\n",
       "      <th>Queries</th>\n",
       "      <th>CPI_energy</th>\n",
       "      <th>CPI_all</th>\n",
       "    </tr>\n",
       "  </thead>\n",
       "  <tbody>\n",
       "    <tr>\n",
       "      <th>Month</th>\n",
       "      <td>1.000000</td>\n",
       "      <td>0.000000</td>\n",
       "      <td>0.109795</td>\n",
       "      <td>-0.203603</td>\n",
       "      <td>0.015844</td>\n",
       "      <td>0.176020</td>\n",
       "      <td>0.266788</td>\n",
       "    </tr>\n",
       "    <tr>\n",
       "      <th>Year</th>\n",
       "      <td>0.000000</td>\n",
       "      <td>1.000000</td>\n",
       "      <td>0.587274</td>\n",
       "      <td>-0.958746</td>\n",
       "      <td>0.726531</td>\n",
       "      <td>0.831605</td>\n",
       "      <td>0.948585</td>\n",
       "    </tr>\n",
       "    <tr>\n",
       "      <th>ElantraSales</th>\n",
       "      <td>0.109795</td>\n",
       "      <td>0.587274</td>\n",
       "      <td>1.000000</td>\n",
       "      <td>-0.567146</td>\n",
       "      <td>0.610065</td>\n",
       "      <td>0.591649</td>\n",
       "      <td>0.593622</td>\n",
       "    </tr>\n",
       "    <tr>\n",
       "      <th>Unemployment</th>\n",
       "      <td>-0.203603</td>\n",
       "      <td>-0.958746</td>\n",
       "      <td>-0.567146</td>\n",
       "      <td>1.000000</td>\n",
       "      <td>-0.641109</td>\n",
       "      <td>-0.800719</td>\n",
       "      <td>-0.956212</td>\n",
       "    </tr>\n",
       "    <tr>\n",
       "      <th>Queries</th>\n",
       "      <td>0.015844</td>\n",
       "      <td>0.726531</td>\n",
       "      <td>0.610065</td>\n",
       "      <td>-0.641109</td>\n",
       "      <td>1.000000</td>\n",
       "      <td>0.832838</td>\n",
       "      <td>0.753673</td>\n",
       "    </tr>\n",
       "    <tr>\n",
       "      <th>CPI_energy</th>\n",
       "      <td>0.176020</td>\n",
       "      <td>0.831605</td>\n",
       "      <td>0.591649</td>\n",
       "      <td>-0.800719</td>\n",
       "      <td>0.832838</td>\n",
       "      <td>1.000000</td>\n",
       "      <td>0.913226</td>\n",
       "    </tr>\n",
       "    <tr>\n",
       "      <th>CPI_all</th>\n",
       "      <td>0.266788</td>\n",
       "      <td>0.948585</td>\n",
       "      <td>0.593622</td>\n",
       "      <td>-0.956212</td>\n",
       "      <td>0.753673</td>\n",
       "      <td>0.913226</td>\n",
       "      <td>1.000000</td>\n",
       "    </tr>\n",
       "  </tbody>\n",
       "</table>\n",
       "</div>"
      ]
     },
     "execution_count": 119,
     "metadata": {},
     "output_type": "execute_result"
    }
   ],
   "source": [
    "elantra_train.corr()"
   ]
  },
  {
   "cell_type": "markdown",
   "metadata": {},
   "source": [
    "CPI_energy is correlated with \"Unemployment\", \"CPI_all\" and \"Queries\" (also with \"year\")"
   ]
  },
  {
   "cell_type": "markdown",
   "metadata": {},
   "source": [
    "### Problem 5.2\n",
    "Which variables are correlated with Queries (approximation of the number of Google searches) correlation > 0.6? Treat month as numeric"
   ]
  },
  {
   "cell_type": "markdown",
   "metadata": {},
   "source": [
    "Queries is correlated with \"Unemployment\", \"CPI_all\" and \"CPI_energy\" (also with \"year\")"
   ]
  },
  {
   "cell_type": "markdown",
   "metadata": {},
   "source": [
    "### Problem 6.1\n",
    "iteratively remove variables with high p-vales (above 0.1). Which variables and in which order are removed?"
   ]
  },
  {
   "cell_type": "markdown",
   "metadata": {},
   "source": [
    "Based on \"model3\" above, we first remove the \"Queries\" variable (p-value = 0.717)"
   ]
  },
  {
   "cell_type": "code",
   "execution_count": 120,
   "metadata": {
    "collapsed": false
   },
   "outputs": [
    {
     "data": {
      "text/html": [
       "<table class=\"simpletable\">\n",
       "<caption>OLS Regression Results</caption>\n",
       "<tr>\n",
       "  <th>Dep. Variable:</th>      <td>ElantraSales</td>   <th>  R-squared:         </th> <td>   0.818</td>\n",
       "</tr>\n",
       "<tr>\n",
       "  <th>Model:</th>                   <td>OLS</td>       <th>  Adj. R-squared:    </th> <td>   0.697</td>\n",
       "</tr>\n",
       "<tr>\n",
       "  <th>Method:</th>             <td>Least Squares</td>  <th>  F-statistic:       </th> <td>   6.744</td>\n",
       "</tr>\n",
       "<tr>\n",
       "  <th>Date:</th>             <td>Tue, 21 Mar 2017</td> <th>  Prob (F-statistic):</th> <td>5.73e-05</td>\n",
       "</tr>\n",
       "<tr>\n",
       "  <th>Time:</th>                 <td>07:38:29</td>     <th>  Log-Likelihood:    </th> <td> -319.38</td>\n",
       "</tr>\n",
       "<tr>\n",
       "  <th>No. Observations:</th>      <td>    36</td>      <th>  AIC:               </th> <td>   668.8</td>\n",
       "</tr>\n",
       "<tr>\n",
       "  <th>Df Residuals:</th>          <td>    21</td>      <th>  BIC:               </th> <td>   692.5</td>\n",
       "</tr>\n",
       "<tr>\n",
       "  <th>Df Model:</th>              <td>    14</td>      <th>                     </th>     <td> </td>   \n",
       "</tr>\n",
       "<tr>\n",
       "  <th>Covariance Type:</th>      <td>nonrobust</td>    <th>                     </th>     <td> </td>   \n",
       "</tr>\n",
       "</table>\n",
       "<table class=\"simpletable\">\n",
       "<tr>\n",
       "         <td></td>           <th>coef</th>     <th>std err</th>      <th>t</th>      <th>P>|t|</th>  <th>[0.025</th>    <th>0.975]</th>  \n",
       "</tr>\n",
       "<tr>\n",
       "  <th>Intercept</th>      <td> 3.257e+05</td> <td> 1.37e+05</td> <td>    2.384</td> <td> 0.027</td> <td> 4.16e+04</td> <td>  6.1e+05</td>\n",
       "</tr>\n",
       "<tr>\n",
       "  <th>C(Month)[T.2]</th>  <td> 2410.9137</td> <td> 1857.103</td> <td>    1.298</td> <td> 0.208</td> <td>-1451.144</td> <td> 6272.972</td>\n",
       "</tr>\n",
       "<tr>\n",
       "  <th>C(Month)[T.3]</th>  <td> 6880.0868</td> <td> 1888.145</td> <td>    3.644</td> <td> 0.002</td> <td> 2953.474</td> <td> 1.08e+04</td>\n",
       "</tr>\n",
       "<tr>\n",
       "  <th>C(Month)[T.4]</th>  <td> 7697.3580</td> <td> 1960.214</td> <td>    3.927</td> <td> 0.001</td> <td> 3620.869</td> <td> 1.18e+04</td>\n",
       "</tr>\n",
       "<tr>\n",
       "  <th>C(Month)[T.5]</th>  <td> 7444.6447</td> <td> 1908.477</td> <td>    3.901</td> <td> 0.001</td> <td> 3475.749</td> <td> 1.14e+04</td>\n",
       "</tr>\n",
       "<tr>\n",
       "  <th>C(Month)[T.6]</th>  <td> 9223.1343</td> <td> 1953.636</td> <td>    4.721</td> <td> 0.000</td> <td> 5160.325</td> <td> 1.33e+04</td>\n",
       "</tr>\n",
       "<tr>\n",
       "  <th>C(Month)[T.7]</th>  <td> 9602.7221</td> <td> 2012.661</td> <td>    4.771</td> <td> 0.000</td> <td> 5417.165</td> <td> 1.38e+04</td>\n",
       "</tr>\n",
       "<tr>\n",
       "  <th>C(Month)[T.8]</th>  <td> 7919.4990</td> <td> 2020.993</td> <td>    3.919</td> <td> 0.001</td> <td> 3716.614</td> <td> 1.21e+04</td>\n",
       "</tr>\n",
       "<tr>\n",
       "  <th>C(Month)[T.9]</th>  <td> 5074.2910</td> <td> 1962.230</td> <td>    2.586</td> <td> 0.017</td> <td>  993.611</td> <td> 9154.971</td>\n",
       "</tr>\n",
       "<tr>\n",
       "  <th>C(Month)[T.10]</th> <td> 2724.2422</td> <td> 1951.778</td> <td>    1.396</td> <td> 0.177</td> <td>-1334.702</td> <td> 6783.186</td>\n",
       "</tr>\n",
       "<tr>\n",
       "  <th>C(Month)[T.11]</th> <td> 3665.0765</td> <td> 2055.659</td> <td>    1.783</td> <td> 0.089</td> <td> -609.900</td> <td> 7940.053</td>\n",
       "</tr>\n",
       "<tr>\n",
       "  <th>C(Month)[T.12]</th> <td> 5643.1903</td> <td> 1974.363</td> <td>    2.858</td> <td> 0.009</td> <td> 1537.278</td> <td> 9749.103</td>\n",
       "</tr>\n",
       "<tr>\n",
       "  <th>Unemployment</th>   <td>-7971.3395</td> <td> 2840.795</td> <td>   -2.806</td> <td> 0.011</td> <td>-1.39e+04</td> <td>-2063.584</td>\n",
       "</tr>\n",
       "<tr>\n",
       "  <th>CPI_all</th>        <td>-1377.5816</td> <td>  573.387</td> <td>   -2.403</td> <td> 0.026</td> <td>-2570.005</td> <td> -185.158</td>\n",
       "</tr>\n",
       "<tr>\n",
       "  <th>CPI_energy</th>     <td>  268.0299</td> <td>   78.752</td> <td>    3.403</td> <td> 0.003</td> <td>  104.257</td> <td>  431.803</td>\n",
       "</tr>\n",
       "</table>\n",
       "<table class=\"simpletable\">\n",
       "<tr>\n",
       "  <th>Omnibus:</th>       <td> 0.000</td> <th>  Durbin-Watson:     </th> <td>   2.771</td>\n",
       "</tr>\n",
       "<tr>\n",
       "  <th>Prob(Omnibus):</th> <td> 1.000</td> <th>  Jarque-Bera (JB):  </th> <td>   0.137</td>\n",
       "</tr>\n",
       "<tr>\n",
       "  <th>Skew:</th>          <td>-0.001</td> <th>  Prob(JB):          </th> <td>   0.934</td>\n",
       "</tr>\n",
       "<tr>\n",
       "  <th>Kurtosis:</th>      <td> 2.698</td> <th>  Cond. No.          </th> <td>1.18e+05</td>\n",
       "</tr>\n",
       "</table>"
      ],
      "text/plain": [
       "<table class=\"simpletable\">\n",
       "<caption>OLS Regression Results</caption>\n",
       "<tr>\n",
       "  <th>Dep. Variable:</th>      <td>ElantraSales</td>   <th>  R-squared:         </th> <td>   0.818</td>\n",
       "</tr>\n",
       "<tr>\n",
       "  <th>Model:</th>                   <td>OLS</td>       <th>  Adj. R-squared:    </th> <td>   0.697</td>\n",
       "</tr>\n",
       "<tr>\n",
       "  <th>Method:</th>             <td>Least Squares</td>  <th>  F-statistic:       </th> <td>   6.744</td>\n",
       "</tr>\n",
       "<tr>\n",
       "  <th>Date:</th>             <td>Tue, 21 Mar 2017</td> <th>  Prob (F-statistic):</th> <td>5.73e-05</td>\n",
       "</tr>\n",
       "<tr>\n",
       "  <th>Time:</th>                 <td>07:38:29</td>     <th>  Log-Likelihood:    </th> <td> -319.38</td>\n",
       "</tr>\n",
       "<tr>\n",
       "  <th>No. Observations:</th>      <td>    36</td>      <th>  AIC:               </th> <td>   668.8</td>\n",
       "</tr>\n",
       "<tr>\n",
       "  <th>Df Residuals:</th>          <td>    21</td>      <th>  BIC:               </th> <td>   692.5</td>\n",
       "</tr>\n",
       "<tr>\n",
       "  <th>Df Model:</th>              <td>    14</td>      <th>                     </th>     <td> </td>   \n",
       "</tr>\n",
       "<tr>\n",
       "  <th>Covariance Type:</th>      <td>nonrobust</td>    <th>                     </th>     <td> </td>   \n",
       "</tr>\n",
       "</table>\n",
       "<table class=\"simpletable\">\n",
       "<tr>\n",
       "         <td></td>           <th>coef</th>     <th>std err</th>      <th>t</th>      <th>P>|t|</th>  <th>[0.025</th>    <th>0.975]</th>  \n",
       "</tr>\n",
       "<tr>\n",
       "  <th>Intercept</th>      <td> 3.257e+05</td> <td> 1.37e+05</td> <td>    2.384</td> <td> 0.027</td> <td> 4.16e+04</td> <td>  6.1e+05</td>\n",
       "</tr>\n",
       "<tr>\n",
       "  <th>C(Month)[T.2]</th>  <td> 2410.9137</td> <td> 1857.103</td> <td>    1.298</td> <td> 0.208</td> <td>-1451.144</td> <td> 6272.972</td>\n",
       "</tr>\n",
       "<tr>\n",
       "  <th>C(Month)[T.3]</th>  <td> 6880.0868</td> <td> 1888.145</td> <td>    3.644</td> <td> 0.002</td> <td> 2953.474</td> <td> 1.08e+04</td>\n",
       "</tr>\n",
       "<tr>\n",
       "  <th>C(Month)[T.4]</th>  <td> 7697.3580</td> <td> 1960.214</td> <td>    3.927</td> <td> 0.001</td> <td> 3620.869</td> <td> 1.18e+04</td>\n",
       "</tr>\n",
       "<tr>\n",
       "  <th>C(Month)[T.5]</th>  <td> 7444.6447</td> <td> 1908.477</td> <td>    3.901</td> <td> 0.001</td> <td> 3475.749</td> <td> 1.14e+04</td>\n",
       "</tr>\n",
       "<tr>\n",
       "  <th>C(Month)[T.6]</th>  <td> 9223.1343</td> <td> 1953.636</td> <td>    4.721</td> <td> 0.000</td> <td> 5160.325</td> <td> 1.33e+04</td>\n",
       "</tr>\n",
       "<tr>\n",
       "  <th>C(Month)[T.7]</th>  <td> 9602.7221</td> <td> 2012.661</td> <td>    4.771</td> <td> 0.000</td> <td> 5417.165</td> <td> 1.38e+04</td>\n",
       "</tr>\n",
       "<tr>\n",
       "  <th>C(Month)[T.8]</th>  <td> 7919.4990</td> <td> 2020.993</td> <td>    3.919</td> <td> 0.001</td> <td> 3716.614</td> <td> 1.21e+04</td>\n",
       "</tr>\n",
       "<tr>\n",
       "  <th>C(Month)[T.9]</th>  <td> 5074.2910</td> <td> 1962.230</td> <td>    2.586</td> <td> 0.017</td> <td>  993.611</td> <td> 9154.971</td>\n",
       "</tr>\n",
       "<tr>\n",
       "  <th>C(Month)[T.10]</th> <td> 2724.2422</td> <td> 1951.778</td> <td>    1.396</td> <td> 0.177</td> <td>-1334.702</td> <td> 6783.186</td>\n",
       "</tr>\n",
       "<tr>\n",
       "  <th>C(Month)[T.11]</th> <td> 3665.0765</td> <td> 2055.659</td> <td>    1.783</td> <td> 0.089</td> <td> -609.900</td> <td> 7940.053</td>\n",
       "</tr>\n",
       "<tr>\n",
       "  <th>C(Month)[T.12]</th> <td> 5643.1903</td> <td> 1974.363</td> <td>    2.858</td> <td> 0.009</td> <td> 1537.278</td> <td> 9749.103</td>\n",
       "</tr>\n",
       "<tr>\n",
       "  <th>Unemployment</th>   <td>-7971.3395</td> <td> 2840.795</td> <td>   -2.806</td> <td> 0.011</td> <td>-1.39e+04</td> <td>-2063.584</td>\n",
       "</tr>\n",
       "<tr>\n",
       "  <th>CPI_all</th>        <td>-1377.5816</td> <td>  573.387</td> <td>   -2.403</td> <td> 0.026</td> <td>-2570.005</td> <td> -185.158</td>\n",
       "</tr>\n",
       "<tr>\n",
       "  <th>CPI_energy</th>     <td>  268.0299</td> <td>   78.752</td> <td>    3.403</td> <td> 0.003</td> <td>  104.257</td> <td>  431.803</td>\n",
       "</tr>\n",
       "</table>\n",
       "<table class=\"simpletable\">\n",
       "<tr>\n",
       "  <th>Omnibus:</th>       <td> 0.000</td> <th>  Durbin-Watson:     </th> <td>   2.771</td>\n",
       "</tr>\n",
       "<tr>\n",
       "  <th>Prob(Omnibus):</th> <td> 1.000</td> <th>  Jarque-Bera (JB):  </th> <td>   0.137</td>\n",
       "</tr>\n",
       "<tr>\n",
       "  <th>Skew:</th>          <td>-0.001</td> <th>  Prob(JB):          </th> <td>   0.934</td>\n",
       "</tr>\n",
       "<tr>\n",
       "  <th>Kurtosis:</th>      <td> 2.698</td> <th>  Cond. No.          </th> <td>1.18e+05</td>\n",
       "</tr>\n",
       "</table>"
      ]
     },
     "execution_count": 120,
     "metadata": {},
     "output_type": "execute_result"
    }
   ],
   "source": [
    "model4 = sm.ols(formula=\"ElantraSales ~ Unemployment + CPI_all +\"\n",
    "                        \" CPI_energy + C(Month)\", \n",
    "                data=elantra_train).fit()\n",
    "model4.summary()"
   ]
  },
  {
   "cell_type": "markdown",
   "metadata": {},
   "source": [
    "The p-vales for model4 are all good (except for months, but that's categorical)"
   ]
  },
  {
   "cell_type": "markdown",
   "metadata": {},
   "source": [
    "### Problem 6.2\n",
    "what is SSE for the prediction data with model4?"
   ]
  },
  {
   "cell_type": "code",
   "execution_count": 122,
   "metadata": {
    "collapsed": true
   },
   "outputs": [],
   "source": [
    "predict4 = model4.predict(elantra_test)"
   ]
  },
  {
   "cell_type": "code",
   "execution_count": 135,
   "metadata": {
    "collapsed": false
   },
   "outputs": [
    {
     "data": {
      "text/plain": [
       "190757747.44431755"
      ]
     },
     "execution_count": 135,
     "metadata": {},
     "output_type": "execute_result"
    }
   ],
   "source": [
    "# calculating the SSE\n",
    "SSE = sum((elantra_test['ElantraSales'].values - predict4)**2)\n",
    "SSE"
   ]
  },
  {
   "cell_type": "markdown",
   "metadata": {},
   "source": [
    "### Problem 6.3\n",
    "What would the baseline method predict for all observations in the test set?"
   ]
  },
  {
   "cell_type": "code",
   "execution_count": 139,
   "metadata": {
    "collapsed": false
   },
   "outputs": [
    {
     "data": {
      "text/plain": [
       "14462.25"
      ]
     },
     "execution_count": 139,
     "metadata": {},
     "output_type": "execute_result"
    }
   ],
   "source": [
    "elantra_train['ElantraSales'].mean()"
   ]
  },
  {
   "cell_type": "markdown",
   "metadata": {},
   "source": [
    "### Problem 6.4\n",
    "What is the test set R-Squared?"
   ]
  },
  {
   "cell_type": "code",
   "execution_count": 144,
   "metadata": {
    "collapsed": false
   },
   "outputs": [
    {
     "data": {
      "text/plain": [
       "0.72802322762912197"
      ]
     },
     "execution_count": 144,
     "metadata": {},
     "output_type": "execute_result"
    }
   ],
   "source": [
    "SST = sum((elantra_train['ElantraSales'].mean()-elantra_test['ElantraSales'])**2)\n",
    "1 - SSE/SST  # Rsquared"
   ]
  },
  {
   "cell_type": "markdown",
   "metadata": {},
   "source": [
    "### Problem 6.5\n",
    "What is the maximum absolute error of the predicted values?"
   ]
  },
  {
   "cell_type": "code",
   "execution_count": 146,
   "metadata": {
    "collapsed": false
   },
   "outputs": [
    {
     "data": {
      "text/plain": [
       "13"
      ]
     },
     "execution_count": 146,
     "metadata": {},
     "output_type": "execute_result"
    }
   ],
   "source": [
    "(elantra_test['ElantraSales'].values - predict4).abs().max()"
   ]
  },
  {
   "cell_type": "markdown",
   "metadata": {},
   "source": [
    "### Problem 6.6\n",
    "Month and year of maximum error"
   ]
  },
  {
   "cell_type": "code",
   "execution_count": 150,
   "metadata": {
    "collapsed": false
   },
   "outputs": [
    {
     "data": {
      "text/plain": [
       "Month       3.0\n",
       "Year     2013.0\n",
       "Name: 13, dtype: float64"
      ]
     },
     "execution_count": 150,
     "metadata": {},
     "output_type": "execute_result"
    }
   ],
   "source": [
    "max_index = (elantra_test['ElantraSales'].values - predict4).abs().idxmax()\n",
    "elantra_test.loc[max_index][['Month', 'Year']]"
   ]
  }
 ],
 "metadata": {
  "anaconda-cloud": {},
  "kernelspec": {
   "display_name": "Python 2",
   "language": "python",
   "name": "python2"
  },
  "language_info": {
   "codemirror_mode": {
    "name": "ipython",
    "version": 2.0
   },
   "file_extension": ".py",
   "mimetype": "text/x-python",
   "name": "python",
   "nbconvert_exporter": "python",
   "pygments_lexer": "ipython2",
   "version": "2.7.6"
  }
 },
 "nbformat": 4,
 "nbformat_minor": 0
}